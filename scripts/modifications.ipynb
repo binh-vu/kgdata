{
 "cells": [
  {
   "cell_type": "raw",
   "id": "80c08db5-6cc2-4fc0-bae6-e44c40495c9e",
   "metadata": {
    "tags": []
   },
   "source": [
    "!pip install deepdiff"
   ]
  },
  {
   "cell_type": "code",
   "execution_count": 1,
   "id": "e531a128-ebdc-4727-8038-c560c0b61f1d",
   "metadata": {
    "execution": {
     "iopub.execute_input": "2023-10-04T20:05:52.559475Z",
     "iopub.status.busy": "2023-10-04T20:05:52.559188Z",
     "iopub.status.idle": "2023-10-04T20:05:52.565173Z",
     "shell.execute_reply": "2023-10-04T20:05:52.564628Z",
     "shell.execute_reply.started": "2023-10-04T20:05:52.559454Z"
    },
    "tags": []
   },
   "outputs": [],
   "source": [
    "from os.path import expanduser\n",
    "\n",
    "WIKIDATA_DIR = expanduser(\"~/kgdata/wikidata\")\n",
    "WIKIPEDIA_DIR = expanduser(\"~/kgdata/wikipedia\")"
   ]
  },
  {
   "cell_type": "code",
   "execution_count": 4,
   "id": "f8f6798b-ecaa-4039-b372-d2429c8d9774",
   "metadata": {
    "tags": []
   },
   "outputs": [],
   "source": [
    "import deepdiff, serde.jl, pandas as pd\n",
    "from loguru import logger\n",
    "from kgdata.wikidata.db import (\n",
    "    WikidataDB,\n",
    "    get_class_db,\n",
    "    get_prop_db,\n",
    "    get_entity_db,\n",
    "    WDClass,\n",
    "    WDProperty,\n",
    ")\n",
    "from dataclasses import dataclass\n",
    "from typing import *\n",
    "from pathlib import Path\n",
    "from kgdata.misc.modification import Modification"
   ]
  },
  {
   "cell_type": "code",
   "execution_count": 18,
   "id": "0611256b",
   "metadata": {},
   "outputs": [],
   "source": [
    "wikidata_dump_date = \"20230201\""
   ]
  },
  {
   "cell_type": "code",
   "execution_count": 17,
   "id": "68216a31-a582-438d-886a-cad9167bf084",
   "metadata": {
    "tags": []
   },
   "outputs": [],
   "source": [
    "db = WikidataDB(\n",
    "    expanduser(\n",
    "        f\"~/workspace/sm-research/data/kgdata/databases/wikidata/{wikidata_dump_date}\"\n",
    "    )\n",
    ")"
   ]
  },
  {
   "cell_type": "markdown",
   "id": "a03cf7aa",
   "metadata": {},
   "source": [
    "### Cycle breaker\n",
    "\n",
    "Figure out the incorrect relationships that should be removed to make the type graph acyclic."
   ]
  },
  {
   "cell_type": "code",
   "execution_count": 10,
   "id": "d094029a",
   "metadata": {},
   "outputs": [],
   "source": [
    "classes = db.classes.cache()\n",
    "props = db.props.cache()"
   ]
  },
  {
   "cell_type": "code",
   "execution_count": 15,
   "id": "6314b88d",
   "metadata": {},
   "outputs": [],
   "source": [
    "cycles = [\n",
    "    ((\"Q2571972\", \"Q820655\"), (\"Q820655\", \"Q2571972\")),\n",
    "    ((\"Q12894677\", \"Q1799072\"), (\"Q1799072\", \"Q12894677\")),\n",
    "    ((\"Q1799072\", \"Q2695280\"), (\"Q2695280\", \"Q1799072\")),\n",
    "    ((\"Q820655\", \"Q1572600\"), (\"Q1572600\", \"Q820655\")),\n",
    "    ((\"Q1665268\", \"Q2571972\"), (\"Q2571972\", \"Q1665268\")),\n",
    "    ((\"Q1371037\", \"Q845392\"), (\"Q845392\", \"Q1371037\")),\n",
    "    ((\"Q820655\", \"Q216200\"), (\"Q216200\", \"Q820655\")),\n",
    "    ((\"Q820655\", \"Q740464\"), (\"Q740464\", \"Q820655\")),\n",
    "    ((\"Q1572600\", \"Q2571972\"), (\"Q2571972\", \"Q1572600\")),\n",
    "    ((\"Q216200\", \"Q1572600\"), (\"Q1572600\", \"Q216200\")),\n",
    "    ((\"Q1572600\", \"Q820655\"), (\"Q820655\", \"Q1572600\")),\n",
    "    ((\"Q2695280\", \"Q1799072\"), (\"Q1799072\", \"Q2695280\")),\n",
    "    ((\"Q2571972\", \"Q740464\"), (\"Q740464\", \"Q2571972\")),\n",
    "    ((\"Q2571972\", \"Q216200\"), (\"Q216200\", \"Q2571972\")),\n",
    "    ((\"Q1572600\", \"Q216200\"), (\"Q216200\", \"Q1572600\")),\n",
    "    ((\"Q192355\", \"Q1550712\"), (\"Q1550712\", \"Q192355\")),\n",
    "    ((\"Q346549\", \"Q845392\"), (\"Q845392\", \"Q346549\")),\n",
    "    ((\"Q1371037\", \"Q346549\"), (\"Q346549\", \"Q1371037\")),\n",
    "    ((\"Q740464\", \"Q2571972\"), (\"Q2571972\", \"Q740464\")),\n",
    "    ((\"Q2571972\", \"Q1572600\"), (\"Q1572600\", \"Q2571972\")),\n",
    "    ((\"Q346549\", \"Q1371037\"), (\"Q1371037\", \"Q346549\")),\n",
    "    ((\"Q216200\", \"Q2571972\"), (\"Q2571972\", \"Q216200\")),\n",
    "    ((\"Q845392\", \"Q1371037\"), (\"Q1371037\", \"Q845392\")),\n",
    "    ((\"Q820655\", \"Q2571972\"), (\"Q2571972\", \"Q820655\")),\n",
    "]"
   ]
  },
  {
   "cell_type": "code",
   "execution_count": 14,
   "id": "8543a75e",
   "metadata": {},
   "outputs": [
    {
     "name": "stdout",
     "output_type": "stream",
     "text": [
      "[(('Q2571972', 'Q820655'), ('Q820655', 'Q2571972')), (('Q12894677', 'Q1799072'), ('Q1799072', 'Q12894677')), (('Q1799072', 'Q2695280'), ('Q2695280', 'Q1799072')), (('Q820655', 'Q1572600'), ('Q1572600', 'Q820655')), (('Q1665268', 'Q2571972'), ('Q2571972', 'Q1665268')), (('Q1371037', 'Q845392'), ('Q845392', 'Q1371037')), (('Q820655', 'Q216200'), ('Q216200', 'Q820655')), (('Q820655', 'Q740464'), ('Q740464', 'Q820655')), (('Q1572600', 'Q2571972'), ('Q2571972', 'Q1572600')), (('Q216200', 'Q1572600'), ('Q1572600', 'Q216200')), (('Q1572600', 'Q820655'), ('Q820655', 'Q1572600')), (('Q2695280', 'Q1799072'), ('Q1799072', 'Q2695280')), (('Q2571972', 'Q740464'), ('Q740464', 'Q2571972')), (('Q2571972', 'Q216200'), ('Q216200', 'Q2571972')), (('Q1572600', 'Q216200'), ('Q216200', 'Q1572600')), (('Q192355', 'Q1550712'), ('Q1550712', 'Q192355')), (('Q346549', 'Q845392'), ('Q845392', 'Q346549')), (('Q1371037', 'Q346549'), ('Q346549', 'Q1371037')), (('Q740464', 'Q2571972'), ('Q2571972', 'Q740464')), (('Q2571972', 'Q1572600'), ('Q1572600', 'Q2571972')), (('Q346549', 'Q1371037'), ('Q1371037', 'Q346549')), (('Q216200', 'Q2571972'), ('Q2571972', 'Q216200')), (('Q845392', 'Q1371037'), ('Q1371037', 'Q845392')), (('Q820655', 'Q2571972'), ('Q2571972', 'Q820655'))]\n"
     ]
    }
   ],
   "source": [
    "cycles = list({tuple(x) for x in cycles})\n",
    "print(cycles)"
   ]
  },
  {
   "cell_type": "code",
   "execution_count": 22,
   "id": "8b042394",
   "metadata": {},
   "outputs": [
    {
     "data": {
      "text/plain": [
       "['Q1151067', 'Q216200', 'Q820655']"
      ]
     },
     "execution_count": 22,
     "metadata": {},
     "output_type": "execute_result"
    }
   ],
   "source": [
    "classes[\"Q2571972\"].parents"
   ]
  },
  {
   "cell_type": "code",
   "execution_count": 25,
   "id": "8f7e4587",
   "metadata": {},
   "outputs": [
    {
     "data": {
      "text/plain": [
       "['legislative act', 'legislation']"
      ]
     },
     "execution_count": 25,
     "metadata": {},
     "output_type": "execute_result"
    }
   ],
   "source": [
    "classes[\"Q820655\"].aliases"
   ]
  },
  {
   "cell_type": "code",
   "execution_count": 23,
   "id": "4679db7e",
   "metadata": {},
   "outputs": [
    {
     "name": "stdout",
     "output_type": "stream",
     "text": [
      "legge Q820655\n",
      "{'Q2571972': 3}\n",
      "decreet Q2571972\n",
      "{'Q820655': 1}\n"
     ]
    }
   ],
   "source": [
    "i = 0\n",
    "cycle = list({u for nodes in cycles[i] for u in nodes})\n",
    "\n",
    "for cid in cycle:\n",
    "    c = classes[cid]\n",
    "    print(c.label, c.id)\n",
    "    print({k: c.ancestors[k] for k in cycle if k in c.ancestors})"
   ]
  },
  {
   "cell_type": "code",
   "execution_count": 7,
   "id": "db1728bf",
   "metadata": {},
   "outputs": [],
   "source": [
    "lst = {tuple(sorted(x)) for x in lst}"
   ]
  },
  {
   "cell_type": "code",
   "execution_count": 8,
   "id": "579f5002",
   "metadata": {},
   "outputs": [
    {
     "data": {
      "text/plain": [
       "{(('Q11606300', 'Q55485'), ('Q55485', 'Q11606300')),\n",
       " (('Q118422967', 'Q12011063'), ('Q12011063', 'Q118422967')),\n",
       " (('Q118455743', 'Q1371037'), ('Q1371037', 'Q118455743')),\n",
       " (('Q12140', 'Q28885102'), ('Q28885102', 'Q12140')),\n",
       " (('Q1371037', 'Q346549'), ('Q346549', 'Q1371037')),\n",
       " (('Q1371037', 'Q845392'), ('Q845392', 'Q1371037')),\n",
       " (('Q155076', 'Q43229'), ('Q43229', 'Q155076')),\n",
       " (('Q16023913', 'Q189533'), ('Q189533', 'Q16023913')),\n",
       " (('Q16023913', 'Q196756'), ('Q196756', 'Q16023913')),\n",
       " (('Q189533', 'Q3529618'), ('Q3529618', 'Q189533')),\n",
       " (('Q49371', 'Q820655'), ('Q820655', 'Q49371')),\n",
       " (('Q56827005', 'Q77115'), ('Q77115', 'Q56827005'))}"
      ]
     },
     "execution_count": 8,
     "metadata": {},
     "output_type": "execute_result"
    }
   ],
   "source": [
    "lst"
   ]
  },
  {
   "cell_type": "markdown",
   "id": "1eea9e4d-e43e-422c-940c-b4e59cae47e2",
   "metadata": {},
   "source": [
    "### Modify classes"
   ]
  },
  {
   "cell_type": "code",
   "execution_count": 21,
   "id": "34370bdd-5f6b-4615-a084-4d84e5aeee87",
   "metadata": {
    "tags": []
   },
   "outputs": [
    {
     "ename": "FileNotFoundError",
     "evalue": "[Errno 2] No such file or directory: '/nas/home/binhvu/workspace/sm-research/data/kgdata/databases/wikidata/20230201/classes.fixed.jl.old'",
     "output_type": "error",
     "traceback": [
      "\u001b[0;31m---------------------------------------------------------------------------\u001b[0m",
      "\u001b[0;31mFileNotFoundError\u001b[0m                         Traceback (most recent call last)",
      "Cell \u001b[0;32mIn[21], line 4\u001b[0m\n\u001b[1;32m      1\u001b[0m olddb \u001b[38;5;241m=\u001b[39m get_class_db(db\u001b[38;5;241m.\u001b[39mdatabase_dir \u001b[38;5;241m/\u001b[39m \u001b[38;5;124m\"\u001b[39m\u001b[38;5;124mclasses.db\u001b[39m\u001b[38;5;124m\"\u001b[39m, read_only\u001b[38;5;241m=\u001b[39m\u001b[38;5;28;01mTrue\u001b[39;00m)\n\u001b[1;32m      3\u001b[0m id2obj \u001b[38;5;241m=\u001b[39m {}\n\u001b[0;32m----> 4\u001b[0m \u001b[38;5;28;01mfor\u001b[39;00m obj \u001b[38;5;129;01min\u001b[39;00m \u001b[43mserde\u001b[49m\u001b[38;5;241;43m.\u001b[39;49m\u001b[43mjl\u001b[49m\u001b[38;5;241;43m.\u001b[39;49m\u001b[43mdeser\u001b[49m\u001b[43m(\u001b[49m\u001b[43mdb\u001b[49m\u001b[38;5;241;43m.\u001b[39;49m\u001b[43mdatabase_dir\u001b[49m\u001b[43m \u001b[49m\u001b[38;5;241;43m/\u001b[39;49m\u001b[43m \u001b[49m\u001b[38;5;124;43m\"\u001b[39;49m\u001b[38;5;124;43mclasses.fixed.jl.old\u001b[39;49m\u001b[38;5;124;43m\"\u001b[39;49m\u001b[43m)\u001b[49m:\n\u001b[1;32m      5\u001b[0m     id2obj[obj[\u001b[38;5;124m\"\u001b[39m\u001b[38;5;124mid\u001b[39m\u001b[38;5;124m\"\u001b[39m]] \u001b[38;5;241m=\u001b[39m obj\n\u001b[1;32m      8\u001b[0m \u001b[38;5;28;01mdef\u001b[39;00m \u001b[38;5;21mget_label\u001b[39m(\u001b[38;5;28mid\u001b[39m):\n",
      "File \u001b[0;32m~/workspace/sm-research/libraries/serde/serde/jl.py:38\u001b[0m, in \u001b[0;36mdeser\u001b[0;34m(file, nlines, cls)\u001b[0m\n\u001b[1;32m     35\u001b[0m \u001b[38;5;28;01mdef\u001b[39;00m \u001b[38;5;21mdeser\u001b[39m(\n\u001b[1;32m     36\u001b[0m     file: PathLike, nlines: \u001b[38;5;28mint\u001b[39m \u001b[38;5;241m|\u001b[39m \u001b[38;5;28;01mNone\u001b[39;00m \u001b[38;5;241m=\u001b[39m \u001b[38;5;28;01mNone\u001b[39;00m, \u001b[38;5;28mcls\u001b[39m: Type[JsonSerde] \u001b[38;5;241m|\u001b[39m \u001b[38;5;28;01mNone\u001b[39;00m \u001b[38;5;241m=\u001b[39m \u001b[38;5;28;01mNone\u001b[39;00m\n\u001b[1;32m     37\u001b[0m ):\n\u001b[0;32m---> 38\u001b[0m     \u001b[38;5;28;01mwith\u001b[39;00m \u001b[43mget_open_fn\u001b[49m\u001b[43m(\u001b[49m\u001b[43mfile\u001b[49m\u001b[43m)\u001b[49m\u001b[43m(\u001b[49m\u001b[38;5;28;43mstr\u001b[39;49m\u001b[43m(\u001b[49m\u001b[43mfile\u001b[49m\u001b[43m)\u001b[49m\u001b[43m,\u001b[49m\u001b[43m \u001b[49m\u001b[38;5;124;43m\"\u001b[39;49m\u001b[38;5;124;43mrb\u001b[39;49m\u001b[38;5;124;43m\"\u001b[39;49m\u001b[43m)\u001b[49m \u001b[38;5;28;01mas\u001b[39;00m f:\n\u001b[1;32m     39\u001b[0m         \u001b[38;5;28;01mif\u001b[39;00m nlines \u001b[38;5;129;01mis\u001b[39;00m \u001b[38;5;28;01mNone\u001b[39;00m:\n\u001b[1;32m     40\u001b[0m             it \u001b[38;5;241m=\u001b[39m f\n",
      "\u001b[0;31mFileNotFoundError\u001b[0m: [Errno 2] No such file or directory: '/nas/home/binhvu/workspace/sm-research/data/kgdata/databases/wikidata/20230201/classes.fixed.jl.old'"
     ]
    }
   ],
   "source": [
    "olddb = get_class_db(db.database_dir / \"classes.db\", read_only=True)\n",
    "\n",
    "id2obj = {}\n",
    "for obj in serde.jl.deser(db.database_dir / \"classes.fixed.jl.old\"):\n",
    "    id2obj[obj[\"id\"]] = obj\n",
    "\n",
    "\n",
    "def get_label(id):\n",
    "    return f\"{olddb[id].label} ({id})\""
   ]
  },
  {
   "cell_type": "code",
   "execution_count": 19,
   "id": "ba9308c7-15d7-48c2-bf5c-66026ab633a2",
   "metadata": {
    "tags": []
   },
   "outputs": [],
   "source": [
    "id2interven = Modification.from_tsv(\n",
    "    f\"~/workspace/sm-research/data/kgdata/wikidata/{wikidata_dump_date}/001_modifications/classes.tsv\"\n",
    ")"
   ]
  },
  {
   "cell_type": "code",
   "execution_count": 20,
   "id": "16a8e9aa",
   "metadata": {},
   "outputs": [
    {
     "data": {
      "text/plain": [
       "{}"
      ]
     },
     "execution_count": 20,
     "metadata": {},
     "output_type": "execute_result"
    }
   ],
   "source": [
    "id2interven"
   ]
  },
  {
   "cell_type": "code",
   "execution_count": 97,
   "id": "dafe3b9c-4839-496d-84c0-d7e789fe8bc0",
   "metadata": {
    "collapsed": true,
    "jupyter": {
     "outputs_hidden": true
    },
    "tags": []
   },
   "outputs": [
    {
     "name": "stdout",
     "output_type": "stream",
     "text": [
      ">>> Process military unit (Q176799)\n",
      "diff {'iterable_item_removed': {\"root['parents'][2]\": 'Q781132'}}\n",
      "['military organization (Q15627509)', 'armed organization (Q17149090)', 'military branch (Q781132)', 'organizational subdivision (Q9261468)']\n",
      "['military organization (Q15627509)', 'armed organization (Q17149090)', 'organizational subdivision (Q9261468)']\n",
      ">>> Process house (Q3947)\n",
      "diff {'values_changed': {\"root['parents'][0]\": {'new_value': 'Q41176', 'old_value': 'Q11755880'}}}\n",
      "['residential building (Q11755880)']\n",
      "['building (Q41176)']\n",
      ">>> Process polysaccharides (Q134219)\n",
      "diff {'iterable_item_removed': {\"root['parents'][2]\": 'Q2553138'}}\n",
      "['carbohydrate (Q11358)', 'macromolecule (Q178593)', 'glycan (Q2553138)']\n",
      "['carbohydrate (Q11358)', 'macromolecule (Q178593)']\n",
      ">>> Process financial services (Q837171)\n",
      "diff {'iterable_item_removed': {\"root['parents'][3]\": 'Q806750'}}\n",
      "['product (Q2424752)', 'business service (Q25351891)', 'service (Q7406919)', 'banking services (Q806750)']\n",
      "['product (Q2424752)', 'business service (Q25351891)', 'service (Q7406919)']\n",
      ">>> Process financial transaction (Q1166072)\n",
      "diff {'iterable_item_removed': {\"root['parents'][0]\": 'Q1148747'}}\n",
      "['payment (Q1148747)', 'trade (Q601401)']\n",
      "['trade (Q601401)']\n",
      ">>> Process payment (Q1148747)\n",
      "diff {}\n",
      "['financial transaction (Q1166072)']\n",
      "['financial transaction (Q1166072)']\n",
      ">>> Process axiom (Q17736)\n",
      "diff {'iterable_item_removed': {\"root['parents'][2]\": 'Q536351'}}\n",
      "['proposition (Q108163)', 'statement (Q2684591)', 'first principle (Q536351)']\n",
      "['proposition (Q108163)', 'statement (Q2684591)']\n",
      ">>> Process principle (Q211364)\n",
      "diff {}\n",
      "['rule (Q1151067)', 'axiom (Q17736)', 'structure (Q6671777)']\n",
      "['rule (Q1151067)', 'axiom (Q17736)', 'structure (Q6671777)']\n",
      ">>> Process first principle (Q536351)\n",
      "diff {}\n",
      "['class (Q16889133)', 'principle (Q211364)']\n",
      "['class (Q16889133)', 'principle (Q211364)']\n",
      ">>> Process residential building (Q11755880)\n",
      "diff {}\n",
      "['house (Q3947)', 'residence (Q699405)']\n",
      "['house (Q3947)', 'residence (Q699405)']\n",
      ">>> Process military branch (Q781132)\n",
      "diff {}\n",
      "['military unit (Q176799)']\n",
      "['military unit (Q176799)']\n"
     ]
    }
   ],
   "source": [
    "for id, obj in id2obj.items():\n",
    "    if id not in olddb:\n",
    "        logger.error(\"{} is not in db\", get_label(id))\n",
    "        continue\n",
    "    \n",
    "    print(\">>> Process\", get_label(id))\n",
    "    oldobj = olddb[id].to_dict()\n",
    "    obj.pop('ancestors', None)\n",
    "    oldobj.pop('ancestors')\n",
    "        \n",
    "    diff = deepdiff.diff.DeepDiff(oldobj, obj)\n",
    "    print('diff', diff)\n",
    "    print([get_label(x) for x in oldobj['parents']])\n",
    "    print([get_label(x) for x in obj['parents']])\n",
    "    \n",
    "    if id in id2interven:\n",
    "        [mod.apply(oldobj) for mod in id2interven[id]]\n",
    "        diff = deepdiff.diff.DeepDiff(oldobj, obj)\n",
    "    assert diff == {}"
   ]
  },
  {
   "cell_type": "markdown",
   "id": "5ed26b69-0607-44ef-b105-ad498ba89dbd",
   "metadata": {},
   "source": [
    "## Modify properties"
   ]
  },
  {
   "cell_type": "code",
   "execution_count": 100,
   "id": "50233f5d-e34d-4c1f-b912-b2f1f538da5a",
   "metadata": {
    "tags": []
   },
   "outputs": [],
   "source": [
    "olddb = get_prop_db(db.database_dir / \"props.db\", read_only=True)\n",
    "\n",
    "id2obj = {}\n",
    "for obj in serde.jl.deser(db.database_dir / \"props.fixed.jl.old\"):\n",
    "    id2obj[obj['id']] = obj\n",
    "\n",
    "def get_label(id):\n",
    "    return f\"{olddb[id].label} ({id})\""
   ]
  },
  {
   "cell_type": "code",
   "execution_count": 101,
   "id": "75426ed4-49d9-423e-b3ac-505c66095bc7",
   "metadata": {
    "tags": []
   },
   "outputs": [],
   "source": [
    "id2interven = Intervention.from_tsv(\"~/kgdata/wikidata/intervention/props.tsv\")"
   ]
  },
  {
   "cell_type": "code",
   "execution_count": 103,
   "id": "3835a7e8-3e17-46ae-80b4-3093ab61af7e",
   "metadata": {
    "collapsed": true,
    "jupyter": {
     "outputs_hidden": true
    },
    "tags": []
   },
   "outputs": [
    {
     "name": "stdout",
     "output_type": "stream",
     "text": [
      ">>> Process locator map image (P242)\n",
      "diff {'iterable_item_removed': {\"root['parents'][1]\": 'P927'}}\n",
      "['image (P18)', 'anatomical location (P927)']\n",
      "['image (P18)']\n",
      ">>> Process detail map (P1621)\n",
      "diff {}\n",
      "['locator map image (P242)']\n",
      "['locator map image (P242)']\n",
      ">>> Process route map (P15)\n",
      "diff {}\n",
      "['locator map image (P242)']\n",
      "['locator map image (P242)']\n",
      ">>> Process plan view image (P3311)\n",
      "diff {}\n",
      "['detail map (P1621)']\n",
      "['detail map (P1621)']\n",
      ">>> Process location (P276)\n",
      "diff {'iterable_item_removed': {\"root['parents'][0]\": 'P7153'}}\n",
      "['significant place (P7153)']\n",
      "[]\n",
      ">>> Process located in the administrative territorial entity (P131)\n",
      "diff {}\n",
      "['location (P276)', 'part of (P361)']\n",
      "['location (P276)', 'part of (P361)']\n",
      ">>> Process significant place (P7153)\n",
      "diff {}\n",
      "['location (P276)']\n",
      "['location (P276)']\n",
      ">>> Process country (P17)\n",
      "diff {}\n",
      "['located in the administrative territorial entity (P131)']\n",
      "['located in the administrative territorial entity (P131)']\n",
      ">>> Process country of citizenship (P27)\n",
      "diff {}\n",
      "['country (P17)']\n",
      "['country (P17)']\n"
     ]
    }
   ],
   "source": [
    "for id, obj in id2obj.items():\n",
    "    if id not in olddb:\n",
    "        logger.error(\"{} is not in db\", get_label(id))\n",
    "        continue\n",
    "    \n",
    "    print(\">>> Process\", get_label(id))\n",
    "    oldobj = olddb[id].to_dict()\n",
    "    obj.pop('ancestors', None)\n",
    "    oldobj.pop('ancestors')\n",
    "        \n",
    "    diff = deepdiff.diff.DeepDiff(oldobj, obj)\n",
    "    print('diff', diff)\n",
    "    print([get_label(x) for x in oldobj['parents']])\n",
    "    print([get_label(x) for x in obj['parents']])\n",
    "    \n",
    "    if id in id2interven:\n",
    "        [mod.apply(oldobj) for mod in id2interven[id]]\n",
    "        diff = deepdiff.diff.DeepDiff(oldobj, obj)\n",
    "    assert diff == {}"
   ]
  }
 ],
 "metadata": {
  "kernelspec": {
   "display_name": ".venv01",
   "language": "python",
   "name": "python3"
  },
  "language_info": {
   "codemirror_mode": {
    "name": "ipython",
    "version": 3
   },
   "file_extension": ".py",
   "mimetype": "text/x-python",
   "name": "python",
   "nbconvert_exporter": "python",
   "pygments_lexer": "ipython3",
   "version": "3.11.7"
  }
 },
 "nbformat": 4,
 "nbformat_minor": 5
}
