{
 "cells": [
  {
   "attachments": {},
   "cell_type": "markdown",
   "id": "93a96a34-efdf-44b8-9106-e87c8033d1da",
   "metadata": {},
   "source": [
    "## ⬇ Download dumps from knowledge graphs"
   ]
  },
  {
   "attachments": {},
   "cell_type": "markdown",
   "id": "7ace9139-33c2-4c5a-a9c4-e7e198c06d8f",
   "metadata": {},
   "source": [
    "### ⚙ Setting the required parameters\n",
    "\n",
    "First, we define the locations where we should put the dumps to"
   ]
  },
  {
   "cell_type": "code",
   "execution_count": 13,
   "id": "7b7128b3-ab65-43c7-b228-824a039e6515",
   "metadata": {},
   "outputs": [],
   "source": [
    "WIKIDATA_DIR = \"/data/binhvu/research-data/wikidata\"\n",
    "WIKIPEDIA_DIR = \"/data/binhvu/research-data/wikipedia\""
   ]
  },
  {
   "attachments": {},
   "cell_type": "markdown",
   "id": "5302ed04-58de-484e-b3a8-077061821b58",
   "metadata": {},
   "source": [
    "Then, we run the following cells to automatically fetch available dumps from the knowledge graphs. At the end, it allows us to set the `SELECTED_DUMP_DATE` variable to specify which dump we want to download."
   ]
  },
  {
   "cell_type": "code",
   "execution_count": 2,
   "id": "9c5fcfc2-a961-4780-892e-4bca7a0de15f",
   "metadata": {},
   "outputs": [
    {
     "data": {
      "application/vnd.jupyter.widget-view+json": {
       "model_id": "59dc346fc4b94f8ab01389732984dd4d",
       "version_major": 2,
       "version_minor": 0
      },
      "text/plain": [
       "fetch information: 0it [00:00, ?it/s]"
      ]
     },
     "metadata": {},
     "output_type": "display_data"
    }
   ],
   "source": [
    "from tqdm.auto import tqdm\n",
    "import ipywidgets as widgets, datetime\n",
    "from functools import partial\n",
    "from kgdata.misc.download import WikidataDump, WikipediaDump, WGet\n",
    "\n",
    "wikidata = WikidataDump()\n",
    "wikipedia = WikipediaDump()\n",
    "with tqdm(desc=\"fetch information\") as pbar:\n",
    "    wikidata.fetch(pbar=pbar)\n",
    "    wikipedia.fetch(pbar=pbar)"
   ]
  },
  {
   "cell_type": "code",
   "execution_count": 3,
   "id": "d84f52a4",
   "metadata": {},
   "outputs": [
    {
     "data": {
      "application/vnd.jupyter.widget-view+json": {
       "model_id": "7a5cffeb59d444069e19e53b2025e790",
       "version_major": 2,
       "version_minor": 0
      },
      "text/plain": [
       "HBox(children=(Button(description='2023-06-19', style=ButtonStyle()), Button(description='2023-05-29', style=B…"
      ]
     },
     "metadata": {},
     "output_type": "display_data"
    },
    {
     "data": {
      "application/vnd.jupyter.widget-view+json": {
       "model_id": "ab7ef4acb5984527a6c54c07fa7d3fcf",
       "version_major": 2,
       "version_minor": 0
      },
      "text/plain": [
       "Output()"
      ]
     },
     "metadata": {},
     "output_type": "display_data"
    }
   ],
   "source": [
    "dates, explanation = wikidata.list_dates(wikipedia)\n",
    "selected_date = dates[0]\n",
    "\n",
    "control = []\n",
    "output = widgets.Output()\n",
    "\n",
    "defaultbtn = widgets.Button()\n",
    "selectedbtn = widgets.Button()\n",
    "selectedbtn.style.button_color = 'lightblue'  # type: ignore\n",
    "\n",
    "def click(btn, date):\n",
    "    global selected_date\n",
    "    selected_date = date\n",
    "\n",
    "    btn.style = selectedbtn.style\n",
    "    for obtn in control:\n",
    "        if obtn is not btn:\n",
    "            obtn.style = defaultbtn.style\n",
    "    with output:\n",
    "        output.clear_output()\n",
    "        print(\"Date:\", date.isoformat(), \"Score:\", explanation[date]['total'])\n",
    "        print(f\"  + Self Score:\", explanation[date]['self']['score'])\n",
    "        for name, mostsimilar in explanation[date]['self']['explanation'].items():\n",
    "            print(f\"    - {name}: {mostsimilar}\")\n",
    "        print(f\"  + Other Score:\", explanation[date]['others']['score'])\n",
    "        for name, mostsimilar in explanation[date]['others']['explanation'].items():\n",
    "            print(f\"    - {name}: {mostsimilar}\")\n",
    "\n",
    "for date in dates:\n",
    "    btn = widgets.Button(description=date.isoformat())\n",
    "    btn.on_click(partial(click, date=date))\n",
    "    control.append(btn)\n",
    "display(widgets.HBox(control))\n",
    "display(output)\n",
    "\n",
    "click(control[0], dates[0])"
   ]
  },
  {
   "cell_type": "code",
   "execution_count": 4,
   "id": "b3a39dfc",
   "metadata": {},
   "outputs": [
    {
     "name": "stdout",
     "output_type": "stream",
     "text": [
      "Selected date: 2023-06-19\n"
     ]
    }
   ],
   "source": [
    "# set the selected date from the selected button, or you can manually set it to the date you want\n",
    "# SELECTED_DUMP_DATE = selected_date\n",
    "SELECTED_DUMP_DATE = datetime.date(2023, 6, 19)\n",
    "print(\"Selected date:\", SELECTED_DUMP_DATE.isoformat())"
   ]
  },
  {
   "attachments": {},
   "cell_type": "markdown",
   "id": "47b9bcb4-39b9-431c-8dbd-d0f708b71e53",
   "metadata": {},
   "source": [
    "### 🗄 Wikidata"
   ]
  },
  {
   "attachments": {},
   "cell_type": "markdown",
   "id": "81592308",
   "metadata": {},
   "source": [
    "List the files that we are going to download"
   ]
  },
  {
   "cell_type": "code",
   "execution_count": 5,
   "id": "0bf19885",
   "metadata": {},
   "outputs": [
    {
     "data": {
      "text/plain": [
       "[DumpFile(date=datetime.date(2023, 6, 19), url='https://dumps.wikimedia.org/wikidatawiki/entities/20230619/wikidata-20230619-all.json.gz'),\n",
       " DumpFile(date=datetime.date(2023, 6, 20), url='https://dumps.wikimedia.org/wikidatawiki/20230620/wikidatawiki-20230620-page.sql.gz'),\n",
       " DumpFile(date=datetime.date(2023, 6, 20), url='https://dumps.wikimedia.org/wikidatawiki/20230620/wikidatawiki-20230620-redirect.sql.gz')]"
      ]
     },
     "execution_count": 5,
     "metadata": {},
     "output_type": "execute_result"
    }
   ],
   "source": [
    "wd_files = wikidata.list_files(SELECTED_DUMP_DATE)\n",
    "wd_files"
   ]
  },
  {
   "cell_type": "code",
   "execution_count": 6,
   "id": "eceb23a2-98fa-41fd-b297-74414e773541",
   "metadata": {},
   "outputs": [],
   "source": [
    "wdjobs = wikidata.create_download_jobs(wd_files, WIKIDATA_DIR)"
   ]
  },
  {
   "attachments": {},
   "cell_type": "markdown",
   "id": "84a0b7c0",
   "metadata": {},
   "source": [
    "### 🗄 Wikipedia"
   ]
  },
  {
   "cell_type": "code",
   "execution_count": 7,
   "id": "7cd579aa",
   "metadata": {},
   "outputs": [
    {
     "data": {
      "text/plain": [
       "[DumpFile(date=datetime.date(2023, 6, 20), url='https://dumps.wikimedia.org/other/enterprise_html/runs/20230620/enwiki-NS0-20230620-ENTERPRISE-HTML.json.tar.gz')]"
      ]
     },
     "execution_count": 7,
     "metadata": {},
     "output_type": "execute_result"
    }
   ],
   "source": [
    "wp_files = wikipedia.list_files(SELECTED_DUMP_DATE)\n",
    "wp_files"
   ]
  },
  {
   "cell_type": "code",
   "execution_count": 8,
   "id": "63c65e42",
   "metadata": {},
   "outputs": [],
   "source": [
    "wpjobs = wikipedia.create_download_jobs(wp_files, WIKIPEDIA_DIR)"
   ]
  },
  {
   "attachments": {},
   "cell_type": "markdown",
   "id": "d9176f3a",
   "metadata": {},
   "source": [
    "### 💾 Download the data"
   ]
  },
  {
   "cell_type": "code",
   "execution_count": 10,
   "id": "39cdeb3b",
   "metadata": {},
   "outputs": [
    {
     "data": {
      "application/vnd.jupyter.widget-view+json": {
       "model_id": "ff4268bd2d314c5f86e8e8ba90e7ff25",
       "version_major": 2,
       "version_minor": 0
      },
      "text/plain": [
       "Download wikidata-20230619-all.json.gz: 0.00B [00:00, ?B/s]"
      ]
     },
     "metadata": {},
     "output_type": "display_data"
    },
    {
     "name": "stderr",
     "output_type": "stream",
     "text": [
      "2023-07-15 19:11:06.536 | INFO     | kgdata.misc.download:download:409 - Skip download wikidatawiki-20230620-page.sql.gz because it already exists\n",
      "2023-07-15 19:11:06.538 | INFO     | kgdata.misc.download:download:409 - Skip download wikidatawiki-20230620-redirect.sql.gz because it already exists\n"
     ]
    },
    {
     "data": {
      "application/vnd.jupyter.widget-view+json": {
       "model_id": "4a15bbe76f784111886c8728fdbde2bb",
       "version_major": 2,
       "version_minor": 0
      },
      "text/plain": [
       "Download enwiki-NS0-20230620-ENTERPRISE-HTML.json.tar.gz: 0.00B [00:00, ?B/s]"
      ]
     },
     "metadata": {},
     "output_type": "display_data"
    }
   ],
   "source": [
    "jobs = wdjobs + wpjobs\n",
    "with WGet.start() as wget:\n",
    "    for url, outfile in jobs:\n",
    "        wget.download(url, outfile)\n",
    "    wget.monitor()"
   ]
  }
 ],
 "metadata": {
  "kernelspec": {
   "display_name": "gramsplus",
   "language": "python",
   "name": "gramsplus"
  },
  "language_info": {
   "codemirror_mode": {
    "name": "ipython",
    "version": 3
   },
   "file_extension": ".py",
   "mimetype": "text/x-python",
   "name": "python",
   "nbconvert_exporter": "python",
   "pygments_lexer": "ipython3",
   "version": "3.11.3"
  }
 },
 "nbformat": 4,
 "nbformat_minor": 5
}
