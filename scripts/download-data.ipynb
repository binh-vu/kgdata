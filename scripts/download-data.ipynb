{
 "cells": [
  {
   "cell_type": "markdown",
   "id": "93a96a34-efdf-44b8-9106-e87c8033d1da",
   "metadata": {},
   "source": [
    "## ⬇ Download dumps from knowledge graphs"
   ]
  },
  {
   "cell_type": "markdown",
   "id": "7ace9139-33c2-4c5a-a9c4-e7e198c06d8f",
   "metadata": {},
   "source": [
    "### ⚙ Setting the required parameters\n",
    "\n",
    "First, we define the locations where we should put the dumps to"
   ]
  },
  {
   "cell_type": "code",
   "execution_count": 1,
   "id": "7b7128b3-ab65-43c7-b228-824a039e6515",
   "metadata": {
    "execution": {
     "iopub.execute_input": "2024-01-08T14:43:34.259197Z",
     "iopub.status.busy": "2024-01-08T14:43:34.258233Z",
     "iopub.status.idle": "2024-01-08T14:43:34.270642Z",
     "shell.execute_reply": "2024-01-08T14:43:34.269411Z",
     "shell.execute_reply.started": "2024-01-08T14:43:34.259154Z"
    }
   },
   "outputs": [],
   "source": [
    "from os.path import expanduser\n",
    "\n",
    "WIKIDATA_DIR = expanduser(\"~/kgdata/wikidata\")\n",
    "WIKIPEDIA_DIR = expanduser(\"~/kgdata/wikipedia\")"
   ]
  },
  {
   "cell_type": "markdown",
   "id": "5302ed04-58de-484e-b3a8-077061821b58",
   "metadata": {},
   "source": [
    "Then, we run the following cells to automatically fetch available dumps from the knowledge graphs. At the end, it allows us to set the `SELECTED_DUMP_DATE` variable to specify which dump we want to download."
   ]
  },
  {
   "cell_type": "code",
   "execution_count": 2,
   "id": "9c5fcfc2-a961-4780-892e-4bca7a0de15f",
   "metadata": {
    "execution": {
     "iopub.execute_input": "2024-01-08T14:43:34.273546Z",
     "iopub.status.busy": "2024-01-08T14:43:34.273027Z",
     "iopub.status.idle": "2024-01-08T14:43:35.198066Z",
     "shell.execute_reply": "2024-01-08T14:43:35.196633Z",
     "shell.execute_reply.started": "2024-01-08T14:43:34.273510Z"
    }
   },
   "outputs": [
    {
     "data": {
      "application/vnd.jupyter.widget-view+json": {
       "model_id": "352e074cad1f4104af32c190bc49ee09",
       "version_major": 2,
       "version_minor": 0
      },
      "text/plain": [
       "fetch information: 0it [00:00, ?it/s]"
      ]
     },
     "metadata": {},
     "output_type": "display_data"
    }
   ],
   "source": [
    "from tqdm.auto import tqdm\n",
    "import ipywidgets as widgets, datetime\n",
    "from functools import partial\n",
    "from kgdata.misc.download import WikidataDump, WikipediaDump, WGet\n",
    "\n",
    "wikidata = WikidataDump()\n",
    "wikipedia = WikipediaDump()\n",
    "with tqdm(desc=\"fetch information\") as pbar:\n",
    "    wikidata.fetch(pbar=pbar)\n",
    "    wikipedia.fetch(pbar=pbar)"
   ]
  },
  {
   "cell_type": "code",
   "execution_count": 3,
   "id": "d84f52a4",
   "metadata": {
    "execution": {
     "iopub.execute_input": "2024-01-08T14:38:21.018659Z",
     "iopub.status.busy": "2024-01-08T14:38:21.017432Z",
     "iopub.status.idle": "2024-01-08T14:38:21.074577Z",
     "shell.execute_reply": "2024-01-08T14:38:21.073715Z",
     "shell.execute_reply.started": "2024-01-08T14:38:21.018602Z"
    }
   },
   "outputs": [
    {
     "data": {
      "application/vnd.jupyter.widget-view+json": {
       "model_id": "3b2a5e9f86774e9990087537fe80eefa",
       "version_major": 2,
       "version_minor": 0
      },
      "text/plain": [
       "HBox(children=(Button(description='2024-01-01', style=ButtonStyle()), Button(description='2023-12-18', style=B…"
      ]
     },
     "metadata": {},
     "output_type": "display_data"
    },
    {
     "data": {
      "application/vnd.jupyter.widget-view+json": {
       "model_id": "7763343af7bb4cba9e58fa0cf8d12232",
       "version_major": 2,
       "version_minor": 0
      },
      "text/plain": [
       "Output()"
      ]
     },
     "metadata": {},
     "output_type": "display_data"
    }
   ],
   "source": [
    "dates, explanation = wikidata.list_dates(wikipedia)\n",
    "selected_date = dates[0]\n",
    "\n",
    "control = []\n",
    "output = widgets.Output()\n",
    "\n",
    "defaultbtn = widgets.Button()\n",
    "selectedbtn = widgets.Button()\n",
    "selectedbtn.style.button_color = 'lightblue'  # type: ignore\n",
    "\n",
    "def click(btn, date):\n",
    "    global selected_date\n",
    "    selected_date = date\n",
    "\n",
    "    btn.style = selectedbtn.style\n",
    "    for obtn in control:\n",
    "        if obtn is not btn:\n",
    "            obtn.style = defaultbtn.style\n",
    "    with output:\n",
    "        output.clear_output()\n",
    "        print(\"Date:\", date.isoformat(), \"Score:\", explanation[date]['total'])\n",
    "        print(f\"  + Self Score:\", explanation[date]['self']['score'])\n",
    "        for name, mostsimilar in explanation[date]['self']['explanation'].items():\n",
    "            print(f\"    - {name}: {mostsimilar}\")\n",
    "        print(f\"  + Other Score:\", explanation[date]['others']['score'])\n",
    "        for name, mostsimilar in explanation[date]['others']['explanation'].items():\n",
    "            print(f\"    - {name}: {mostsimilar}\")\n",
    "\n",
    "for date in dates:\n",
    "    btn = widgets.Button(description=date.isoformat())\n",
    "    btn.on_click(partial(click, date=date))\n",
    "    control.append(btn)\n",
    "display(widgets.HBox(control))\n",
    "display(output)\n",
    "\n",
    "click(control[0], dates[0])"
   ]
  },
  {
   "cell_type": "code",
   "execution_count": 3,
   "id": "b3a39dfc",
   "metadata": {
    "execution": {
     "iopub.execute_input": "2024-01-08T14:43:35.276278Z",
     "iopub.status.busy": "2024-01-08T14:43:35.275603Z",
     "iopub.status.idle": "2024-01-08T14:43:35.288422Z",
     "shell.execute_reply": "2024-01-08T14:43:35.286988Z",
     "shell.execute_reply.started": "2024-01-08T14:43:35.276211Z"
    }
   },
   "outputs": [
    {
     "name": "stdout",
     "output_type": "stream",
     "text": [
      "Selected date: 2024-01-01\n"
     ]
    }
   ],
   "source": [
    "# set the selected date from the selected button, or you can manually set it to the date you want\n",
    "# SELECTED_DUMP_DATE = selected_date\n",
    "SELECTED_DUMP_DATE = datetime.date(2024, 1, 1)\n",
    "print(\"Selected date:\", SELECTED_DUMP_DATE.isoformat())"
   ]
  },
  {
   "cell_type": "markdown",
   "id": "47b9bcb4-39b9-431c-8dbd-d0f708b71e53",
   "metadata": {},
   "source": [
    "### 🗄 Wikidata"
   ]
  },
  {
   "cell_type": "markdown",
   "id": "81592308",
   "metadata": {},
   "source": [
    "List the files that we are going to download"
   ]
  },
  {
   "cell_type": "code",
   "execution_count": 4,
   "id": "0bf19885",
   "metadata": {
    "execution": {
     "iopub.execute_input": "2024-01-08T14:43:37.722477Z",
     "iopub.status.busy": "2024-01-08T14:43:37.721947Z",
     "iopub.status.idle": "2024-01-08T14:43:37.733911Z",
     "shell.execute_reply": "2024-01-08T14:43:37.732473Z",
     "shell.execute_reply.started": "2024-01-08T14:43:37.722430Z"
    }
   },
   "outputs": [
    {
     "data": {
      "text/plain": [
       "[DumpFile(date=datetime.date(2024, 1, 1), url='https://dumps.wikimedia.org/wikidatawiki/entities/20240101/wikidata-20240101-all.json.bz2'),\n",
       " DumpFile(date=datetime.date(2024, 1, 1), url='https://dumps.wikimedia.org/wikidatawiki/20240101/wikidatawiki-20240101-page.sql.gz'),\n",
       " DumpFile(date=datetime.date(2024, 1, 1), url='https://dumps.wikimedia.org/wikidatawiki/20240101/wikidatawiki-20240101-redirect.sql.gz')]"
      ]
     },
     "execution_count": 4,
     "metadata": {},
     "output_type": "execute_result"
    }
   ],
   "source": [
    "wd_files = wikidata.list_files(SELECTED_DUMP_DATE)\n",
    "wd_files"
   ]
  },
  {
   "cell_type": "code",
   "execution_count": 5,
   "id": "cb09fe48-4c4f-4b32-ae59-04a18b9ae0c4",
   "metadata": {
    "execution": {
     "iopub.execute_input": "2024-01-08T14:43:39.327579Z",
     "iopub.status.busy": "2024-01-08T14:43:39.327077Z",
     "iopub.status.idle": "2024-01-08T14:43:39.334583Z",
     "shell.execute_reply": "2024-01-08T14:43:39.333210Z",
     "shell.execute_reply.started": "2024-01-08T14:43:39.327537Z"
    },
    "tags": []
   },
   "outputs": [],
   "source": [
    "wdjobs = []"
   ]
  },
  {
   "cell_type": "code",
   "execution_count": 7,
   "id": "eceb23a2-98fa-41fd-b297-74414e773541",
   "metadata": {
    "execution": {
     "iopub.execute_input": "2024-01-08T14:43:51.569735Z",
     "iopub.status.busy": "2024-01-08T14:43:51.569185Z",
     "iopub.status.idle": "2024-01-08T14:43:51.586622Z",
     "shell.execute_reply": "2024-01-08T14:43:51.585166Z",
     "shell.execute_reply.started": "2024-01-08T14:43:51.569689Z"
    }
   },
   "outputs": [
    {
     "data": {
      "text/plain": [
       "[('https://dumps.wikimedia.org/wikidatawiki/20240101/wikidatawiki-20240101-page.sql.gz',\n",
       "  PosixPath('/nas/home/binhvu/kgdata/wikidata/20240101/dumps/wikidatawiki-20240101-page.sql.gz')),\n",
       " ('https://dumps.wikimedia.org/wikidatawiki/20240101/wikidatawiki-20240101-redirect.sql.gz',\n",
       "  PosixPath('/nas/home/binhvu/kgdata/wikidata/20240101/dumps/wikidatawiki-20240101-redirect.sql.gz'))]"
      ]
     },
     "execution_count": 7,
     "metadata": {},
     "output_type": "execute_result"
    }
   ],
   "source": [
    "wdjobs = wikidata.create_download_jobs(wd_files, WIKIDATA_DIR)\n",
    "wdjobs"
   ]
  },
  {
   "cell_type": "markdown",
   "id": "84a0b7c0",
   "metadata": {},
   "source": [
    "### 🗄 Wikipedia"
   ]
  },
  {
   "cell_type": "code",
   "execution_count": 10,
   "id": "7cd579aa",
   "metadata": {},
   "outputs": [
    {
     "data": {
      "text/plain": [
       "[DumpFile(date=datetime.date(2023, 6, 20), url='https://dumps.wikimedia.org/other/enterprise_html/runs/20230620/enwiki-NS0-20230620-ENTERPRISE-HTML.json.tar.gz')]"
      ]
     },
     "execution_count": 10,
     "metadata": {},
     "output_type": "execute_result"
    }
   ],
   "source": [
    "wp_files = wikipedia.list_files(SELECTED_DUMP_DATE)\n",
    "wp_files"
   ]
  },
  {
   "cell_type": "code",
   "execution_count": 11,
   "id": "63c65e42",
   "metadata": {},
   "outputs": [],
   "source": [
    "wpjobs = wikipedia.create_download_jobs(wp_files, WIKIPEDIA_DIR)"
   ]
  },
  {
   "cell_type": "markdown",
   "id": "d9176f3a",
   "metadata": {},
   "source": [
    "### 💾 Download the data"
   ]
  },
  {
   "cell_type": "code",
   "execution_count": 9,
   "id": "8fe99975-8c7a-47ec-aa1b-21b9a47ce756",
   "metadata": {
    "execution": {
     "iopub.execute_input": "2024-01-08T14:45:00.269360Z",
     "iopub.status.busy": "2024-01-08T14:45:00.268768Z",
     "iopub.status.idle": "2024-01-08T14:45:00.279659Z",
     "shell.execute_reply": "2024-01-08T14:45:00.278195Z",
     "shell.execute_reply.started": "2024-01-08T14:45:00.269310Z"
    }
   },
   "outputs": [
    {
     "data": {
      "text/plain": [
       "[('https://dumps.wikimedia.org/wikidatawiki/20240101/wikidatawiki-20240101-page.sql.gz',\n",
       "  PosixPath('/nas/home/binhvu/kgdata/wikidata/20240101/dumps/wikidatawiki-20240101-page.sql.gz')),\n",
       " ('https://dumps.wikimedia.org/wikidatawiki/20240101/wikidatawiki-20240101-redirect.sql.gz',\n",
       "  PosixPath('/nas/home/binhvu/kgdata/wikidata/20240101/dumps/wikidatawiki-20240101-redirect.sql.gz'))]"
      ]
     },
     "execution_count": 9,
     "metadata": {},
     "output_type": "execute_result"
    }
   ],
   "source": [
    "jobs = []\n",
    "if \"wdjobs\" in locals():\n",
    "    jobs += wdjobs\n",
    "if \"wpjobs\" in locals():\n",
    "    jobs += wpjobs\n",
    "jobs"
   ]
  },
  {
   "cell_type": "code",
   "execution_count": 10,
   "id": "39cdeb3b",
   "metadata": {
    "execution": {
     "iopub.execute_input": "2024-01-08T14:45:04.095000Z",
     "iopub.status.busy": "2024-01-08T14:45:04.094299Z",
     "iopub.status.idle": "2024-01-08T14:57:11.806833Z",
     "shell.execute_reply": "2024-01-08T14:57:11.805552Z",
     "shell.execute_reply.started": "2024-01-08T14:45:04.094953Z"
    }
   },
   "outputs": [
    {
     "data": {
      "application/vnd.jupyter.widget-view+json": {
       "model_id": "94635d16d4204e1bbb5df280c67fe726",
       "version_major": 2,
       "version_minor": 0
      },
      "text/plain": [
       "Download wikidatawiki-20240101-page.sql.gz: 0.00B [00:00, ?B/s]"
      ]
     },
     "metadata": {},
     "output_type": "display_data"
    },
    {
     "data": {
      "application/vnd.jupyter.widget-view+json": {
       "model_id": "3a3bdbe709f746f48be015779de8f51d",
       "version_major": 2,
       "version_minor": 0
      },
      "text/plain": [
       "Download wikidatawiki-20240101-redirect.sql.gz: 0.00B [00:00, ?B/s]"
      ]
     },
     "metadata": {},
     "output_type": "display_data"
    }
   ],
   "source": [
    "with WGet.start() as wget:\n",
    "    for url, outfile in jobs:\n",
    "        wget.download(url, outfile)\n",
    "    wget.monitor()"
   ]
  },
  {
   "cell_type": "markdown",
   "id": "9ec0c028",
   "metadata": {},
   "source": [
    "convert bz2 to zst in parallel for faster decompressing"
   ]
  },
  {
   "cell_type": "code",
   "execution_count": null,
   "id": "3b74a6c3-8238-433d-8a82-e2dc5a16a9b8",
   "metadata": {},
   "outputs": [],
   "source": [
    "lbzip2 -cd wikidata-20240101-all.json.bz2 | zstd -9 -o wikidata-20240101-all.json.zst"
   ]
  }
 ],
 "metadata": {
  "kernelspec": {
   "display_name": "resm",
   "language": "python",
   "name": "resm"
  },
  "language_info": {
   "codemirror_mode": {
    "name": "ipython",
    "version": 3
   },
   "file_extension": ".py",
   "mimetype": "text/x-python",
   "name": "python",
   "nbconvert_exporter": "python",
   "pygments_lexer": "ipython3",
   "version": "3.11.3"
  }
 },
 "nbformat": 4,
 "nbformat_minor": 5
}
