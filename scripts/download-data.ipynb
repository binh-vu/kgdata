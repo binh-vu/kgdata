{
 "cells": [
  {
   "cell_type": "markdown",
   "id": "93a96a34-efdf-44b8-9106-e87c8033d1da",
   "metadata": {},
   "source": [
    "## ⬇ Download dumps from knowledge graphs"
   ]
  },
  {
   "cell_type": "markdown",
   "id": "7ace9139-33c2-4c5a-a9c4-e7e198c06d8f",
   "metadata": {},
   "source": [
    "### ⚙ Setting the required parameters\n",
    "\n",
    "First, we define the locations where we should put the dumps to"
   ]
  },
  {
   "cell_type": "code",
   "execution_count": 1,
   "id": "7b7128b3-ab65-43c7-b228-824a039e6515",
   "metadata": {
    "execution": {
     "iopub.execute_input": "2024-06-27T06:17:49.035939Z",
     "iopub.status.busy": "2024-06-27T06:17:49.035245Z",
     "iopub.status.idle": "2024-06-27T06:17:52.001137Z",
     "shell.execute_reply": "2024-06-27T06:17:51.999698Z",
     "shell.execute_reply.started": "2024-06-27T06:17:49.035896Z"
    }
   },
   "outputs": [],
   "source": [
    "from os.path import expanduser\n",
    "\n",
    "import requests\n",
    "from tqdm.auto import tqdm\n",
    "import ipywidgets as widgets, datetime\n",
    "from functools import partial\n",
    "from kgdata.misc.download import WikidataDump, WikipediaDump, WGet\n",
    "from pathlib import Path\n",
    "\n",
    "WIKIDATA_DIR = expanduser(\"~/kgdata/wikidata\")\n",
    "WIKIPEDIA_DIR = expanduser(\"~/kgdata/wikipedia\")"
   ]
  },
  {
   "cell_type": "markdown",
   "id": "5302ed04-58de-484e-b3a8-077061821b58",
   "metadata": {},
   "source": [
    "Then, we run the following cells to automatically fetch available dumps from the knowledge graphs. At the end, it allows us to set the `SELECTED_DUMP_DATE` variable to specify which dump we want to download."
   ]
  },
  {
   "cell_type": "code",
   "execution_count": 2,
   "id": "9c5fcfc2-a961-4780-892e-4bca7a0de15f",
   "metadata": {
    "execution": {
     "iopub.execute_input": "2024-06-27T06:17:52.003327Z",
     "iopub.status.busy": "2024-06-27T06:17:52.002849Z",
     "iopub.status.idle": "2024-06-27T06:17:52.786352Z",
     "shell.execute_reply": "2024-06-27T06:17:52.784888Z",
     "shell.execute_reply.started": "2024-06-27T06:17:52.003286Z"
    }
   },
   "outputs": [
    {
     "data": {
      "application/vnd.jupyter.widget-view+json": {
       "model_id": "9cc04ad611204b2eb8489dcaa313c048",
       "version_major": 2,
       "version_minor": 0
      },
      "text/plain": [
       "fetch information: 0it [00:00, ?it/s]"
      ]
     },
     "metadata": {},
     "output_type": "display_data"
    }
   ],
   "source": [
    "wikidata = WikidataDump()\n",
    "wikipedia = WikipediaDump()\n",
    "with tqdm(desc=\"fetch information\") as pbar:\n",
    "    wikidata.fetch(pbar=pbar)\n",
    "    wikipedia.fetch(pbar=pbar)"
   ]
  },
  {
   "cell_type": "code",
   "execution_count": 3,
   "id": "d84f52a4",
   "metadata": {
    "execution": {
     "iopub.execute_input": "2024-01-08T14:38:21.018659Z",
     "iopub.status.busy": "2024-01-08T14:38:21.017432Z",
     "iopub.status.idle": "2024-01-08T14:38:21.074577Z",
     "shell.execute_reply": "2024-01-08T14:38:21.073715Z",
     "shell.execute_reply.started": "2024-01-08T14:38:21.018602Z"
    }
   },
   "outputs": [
    {
     "data": {
      "application/vnd.jupyter.widget-view+json": {
       "model_id": "3b2a5e9f86774e9990087537fe80eefa",
       "version_major": 2,
       "version_minor": 0
      },
      "text/plain": [
       "HBox(children=(Button(description='2024-01-01', style=ButtonStyle()), Button(description='2023-12-18', style=B…"
      ]
     },
     "metadata": {},
     "output_type": "display_data"
    },
    {
     "data": {
      "application/vnd.jupyter.widget-view+json": {
       "model_id": "7763343af7bb4cba9e58fa0cf8d12232",
       "version_major": 2,
       "version_minor": 0
      },
      "text/plain": [
       "Output()"
      ]
     },
     "metadata": {},
     "output_type": "display_data"
    }
   ],
   "source": [
    "dates, explanation = wikidata.list_dates(wikipedia)\n",
    "selected_date = dates[0]\n",
    "\n",
    "control = []\n",
    "output = widgets.Output()\n",
    "\n",
    "defaultbtn = widgets.Button()\n",
    "selectedbtn = widgets.Button()\n",
    "selectedbtn.style.button_color = 'lightblue'  # type: ignore\n",
    "\n",
    "def click(btn, date):\n",
    "    global selected_date\n",
    "    selected_date = date\n",
    "\n",
    "    btn.style = selectedbtn.style\n",
    "    for obtn in control:\n",
    "        if obtn is not btn:\n",
    "            obtn.style = defaultbtn.style\n",
    "    with output:\n",
    "        output.clear_output()\n",
    "        print(\"Date:\", date.isoformat(), \"Score:\", explanation[date]['total'])\n",
    "        print(f\"  + Self Score:\", explanation[date]['self']['score'])\n",
    "        for name, mostsimilar in explanation[date]['self']['explanation'].items():\n",
    "            print(f\"    - {name}: {mostsimilar}\")\n",
    "        print(f\"  + Other Score:\", explanation[date]['others']['score'])\n",
    "        for name, mostsimilar in explanation[date]['others']['explanation'].items():\n",
    "            print(f\"    - {name}: {mostsimilar}\")\n",
    "\n",
    "for date in dates:\n",
    "    btn = widgets.Button(description=date.isoformat())\n",
    "    btn.on_click(partial(click, date=date))\n",
    "    control.append(btn)\n",
    "display(widgets.HBox(control))\n",
    "display(output)\n",
    "\n",
    "click(control[0], dates[0])"
   ]
  },
  {
   "cell_type": "code",
   "execution_count": 3,
   "id": "b3a39dfc",
   "metadata": {
    "execution": {
     "iopub.execute_input": "2024-01-08T14:43:35.276278Z",
     "iopub.status.busy": "2024-01-08T14:43:35.275603Z",
     "iopub.status.idle": "2024-01-08T14:43:35.288422Z",
     "shell.execute_reply": "2024-01-08T14:43:35.286988Z",
     "shell.execute_reply.started": "2024-01-08T14:43:35.276211Z"
    }
   },
   "outputs": [
    {
     "name": "stdout",
     "output_type": "stream",
     "text": [
      "Selected date: 2024-01-01\n"
     ]
    }
   ],
   "source": [
    "# set the selected date from the selected button, or you can manually set it to the date you want\n",
    "# SELECTED_DUMP_DATE = selected_date\n",
    "SELECTED_DUMP_DATE = datetime.date(2024, 1, 1)\n",
    "print(\"Selected date:\", SELECTED_DUMP_DATE.isoformat())"
   ]
  },
  {
   "cell_type": "markdown",
   "id": "47b9bcb4-39b9-431c-8dbd-d0f708b71e53",
   "metadata": {
    "jp-MarkdownHeadingCollapsed": true
   },
   "source": [
    "### 🗄 Wikidata"
   ]
  },
  {
   "cell_type": "markdown",
   "id": "81592308",
   "metadata": {},
   "source": [
    "List the files that we are going to download"
   ]
  },
  {
   "cell_type": "code",
   "execution_count": 4,
   "id": "0bf19885",
   "metadata": {
    "execution": {
     "iopub.execute_input": "2024-01-08T14:43:37.722477Z",
     "iopub.status.busy": "2024-01-08T14:43:37.721947Z",
     "iopub.status.idle": "2024-01-08T14:43:37.733911Z",
     "shell.execute_reply": "2024-01-08T14:43:37.732473Z",
     "shell.execute_reply.started": "2024-01-08T14:43:37.722430Z"
    }
   },
   "outputs": [
    {
     "data": {
      "text/plain": [
       "[DumpFile(date=datetime.date(2024, 1, 1), url='https://dumps.wikimedia.org/wikidatawiki/entities/20240101/wikidata-20240101-all.json.bz2'),\n",
       " DumpFile(date=datetime.date(2024, 1, 1), url='https://dumps.wikimedia.org/wikidatawiki/20240101/wikidatawiki-20240101-page.sql.gz'),\n",
       " DumpFile(date=datetime.date(2024, 1, 1), url='https://dumps.wikimedia.org/wikidatawiki/20240101/wikidatawiki-20240101-redirect.sql.gz')]"
      ]
     },
     "execution_count": 4,
     "metadata": {},
     "output_type": "execute_result"
    }
   ],
   "source": [
    "wd_files = wikidata.list_files(SELECTED_DUMP_DATE)\n",
    "wd_files"
   ]
  },
  {
   "cell_type": "code",
   "execution_count": 5,
   "id": "cb09fe48-4c4f-4b32-ae59-04a18b9ae0c4",
   "metadata": {
    "execution": {
     "iopub.execute_input": "2024-01-08T14:43:39.327579Z",
     "iopub.status.busy": "2024-01-08T14:43:39.327077Z",
     "iopub.status.idle": "2024-01-08T14:43:39.334583Z",
     "shell.execute_reply": "2024-01-08T14:43:39.333210Z",
     "shell.execute_reply.started": "2024-01-08T14:43:39.327537Z"
    },
    "tags": []
   },
   "outputs": [],
   "source": [
    "wdjobs = []"
   ]
  },
  {
   "cell_type": "code",
   "execution_count": 7,
   "id": "eceb23a2-98fa-41fd-b297-74414e773541",
   "metadata": {
    "execution": {
     "iopub.execute_input": "2024-01-08T14:43:51.569735Z",
     "iopub.status.busy": "2024-01-08T14:43:51.569185Z",
     "iopub.status.idle": "2024-01-08T14:43:51.586622Z",
     "shell.execute_reply": "2024-01-08T14:43:51.585166Z",
     "shell.execute_reply.started": "2024-01-08T14:43:51.569689Z"
    }
   },
   "outputs": [
    {
     "data": {
      "text/plain": [
       "[('https://dumps.wikimedia.org/wikidatawiki/20240101/wikidatawiki-20240101-page.sql.gz',\n",
       "  PosixPath('/nas/home/binhvu/kgdata/wikidata/20240101/dumps/wikidatawiki-20240101-page.sql.gz')),\n",
       " ('https://dumps.wikimedia.org/wikidatawiki/20240101/wikidatawiki-20240101-redirect.sql.gz',\n",
       "  PosixPath('/nas/home/binhvu/kgdata/wikidata/20240101/dumps/wikidatawiki-20240101-redirect.sql.gz'))]"
      ]
     },
     "execution_count": 7,
     "metadata": {},
     "output_type": "execute_result"
    }
   ],
   "source": [
    "wdjobs = wikidata.create_download_jobs(wd_files, WIKIDATA_DIR)\n",
    "wdjobs"
   ]
  },
  {
   "cell_type": "markdown",
   "id": "eb672986-5817-4e1b-ba0c-9d9f4e8a987b",
   "metadata": {
    "execution": {
     "iopub.execute_input": "2024-06-27T05:34:00.879084Z",
     "iopub.status.busy": "2024-06-27T05:34:00.878569Z",
     "iopub.status.idle": "2024-06-27T05:34:00.885037Z",
     "shell.execute_reply": "2024-06-27T05:34:00.883891Z",
     "shell.execute_reply.started": "2024-06-27T05:34:00.879028Z"
    }
   },
   "source": [
    "### 🗄 Wikidata XML Dumps"
   ]
  },
  {
   "cell_type": "code",
   "execution_count": 3,
   "id": "aaac5164-fa63-44e9-9f66-d26566069126",
   "metadata": {
    "execution": {
     "iopub.execute_input": "2024-06-27T06:17:52.788890Z",
     "iopub.status.busy": "2024-06-27T06:17:52.788505Z",
     "iopub.status.idle": "2024-06-27T06:17:53.319909Z",
     "shell.execute_reply": "2024-06-27T06:17:53.318431Z",
     "shell.execute_reply.started": "2024-06-27T06:17:52.788868Z"
    }
   },
   "outputs": [],
   "source": [
    "resp = requests.get('https://dumps.wikimedia.org/wikidatawiki/20240220/dumpstatus.json')"
   ]
  },
  {
   "cell_type": "code",
   "execution_count": 4,
   "id": "815cf14b-7c7c-42ae-b4c1-f428c4743f15",
   "metadata": {
    "execution": {
     "iopub.execute_input": "2024-06-27T06:17:53.322193Z",
     "iopub.status.busy": "2024-06-27T06:17:53.321652Z",
     "iopub.status.idle": "2024-06-27T06:17:53.330946Z",
     "shell.execute_reply": "2024-06-27T06:17:53.329863Z",
     "shell.execute_reply.started": "2024-06-27T06:17:53.322146Z"
    }
   },
   "outputs": [],
   "source": [
    "files = resp.json()['jobs']['articlesmultistreamdump']['files']"
   ]
  },
  {
   "cell_type": "code",
   "execution_count": 5,
   "id": "17fa32f2-d402-4adb-9688-21ea2f9a8a55",
   "metadata": {
    "execution": {
     "iopub.execute_input": "2024-06-27T06:17:53.332862Z",
     "iopub.status.busy": "2024-06-27T06:17:53.332392Z",
     "iopub.status.idle": "2024-06-27T06:17:53.377274Z",
     "shell.execute_reply": "2024-06-27T06:17:53.376104Z",
     "shell.execute_reply.started": "2024-06-27T06:17:53.332826Z"
    }
   },
   "outputs": [],
   "source": [
    "size = sum([x['size'] for x in files.values()])"
   ]
  },
  {
   "cell_type": "code",
   "execution_count": 6,
   "id": "132413fc-3ae8-4059-b37d-205ea5db0219",
   "metadata": {
    "execution": {
     "iopub.execute_input": "2024-06-27T06:17:53.379459Z",
     "iopub.status.busy": "2024-06-27T06:17:53.378861Z",
     "iopub.status.idle": "2024-06-27T06:17:53.423305Z",
     "shell.execute_reply": "2024-06-27T06:17:53.422260Z",
     "shell.execute_reply.started": "2024-06-27T06:17:53.379415Z"
    }
   },
   "outputs": [
    {
     "data": {
      "text/plain": [
       "1.0024655324353635"
      ]
     },
     "execution_count": 6,
     "metadata": {},
     "output_type": "execute_result"
    }
   ],
   "source": [
    "size / 153415825959"
   ]
  },
  {
   "cell_type": "code",
   "execution_count": 7,
   "id": "c8fd430f-8dc5-4c6a-828d-cf5f1836d165",
   "metadata": {
    "execution": {
     "iopub.execute_input": "2024-06-27T06:17:53.425404Z",
     "iopub.status.busy": "2024-06-27T06:17:53.424810Z",
     "iopub.status.idle": "2024-06-27T06:17:53.464467Z",
     "shell.execute_reply": "2024-06-27T06:17:53.463387Z",
     "shell.execute_reply.started": "2024-06-27T06:17:53.425361Z"
    }
   },
   "outputs": [],
   "source": [
    "from pathlib import Path"
   ]
  },
  {
   "cell_type": "code",
   "execution_count": 8,
   "id": "2abdac32-0e4d-4e1b-ab42-10ef61df8b4a",
   "metadata": {
    "execution": {
     "iopub.execute_input": "2024-06-27T06:17:53.466552Z",
     "iopub.status.busy": "2024-06-27T06:17:53.465945Z",
     "iopub.status.idle": "2024-06-27T06:17:53.510989Z",
     "shell.execute_reply": "2024-06-27T06:17:53.509869Z",
     "shell.execute_reply.started": "2024-06-27T06:17:53.466507Z"
    }
   },
   "outputs": [],
   "source": [
    "jobs = [\n",
    "    (\n",
    "        'https://dumps.wikimedia.org' + obj['url'],\n",
    "        Path('/nas/home/binhvu/kgdata/wikidata/20240220/000_dumps/pages-articles') / key\n",
    "    )\n",
    "    for key, obj in sorted(files.items(), key=lambda x: x[1]['size'])\n",
    "]"
   ]
  },
  {
   "cell_type": "code",
   "execution_count": 9,
   "id": "8846c93d-4de3-44c0-bbe1-6dc1c89ebc8f",
   "metadata": {
    "execution": {
     "iopub.execute_input": "2024-06-27T06:17:53.514983Z",
     "iopub.status.busy": "2024-06-27T06:17:53.514427Z",
     "iopub.status.idle": "2024-06-27T06:17:53.553626Z",
     "shell.execute_reply": "2024-06-27T06:17:53.552573Z",
     "shell.execute_reply.started": "2024-06-27T06:17:53.514943Z"
    }
   },
   "outputs": [
    {
     "data": {
      "text/plain": [
       "182"
      ]
     },
     "execution_count": 9,
     "metadata": {},
     "output_type": "execute_result"
    }
   ],
   "source": [
    "len(jobs)"
   ]
  },
  {
   "cell_type": "code",
   "execution_count": 12,
   "id": "24b2a914-d680-4c07-980b-5e1dc079e444",
   "metadata": {
    "execution": {
     "iopub.execute_input": "2024-06-27T06:15:27.134102Z",
     "iopub.status.busy": "2024-06-27T06:15:27.133610Z",
     "iopub.status.idle": "2024-06-27T06:15:27.141713Z",
     "shell.execute_reply": "2024-06-27T06:15:27.140611Z",
     "shell.execute_reply.started": "2024-06-27T06:15:27.134062Z"
    }
   },
   "outputs": [
    {
     "data": {
      "text/plain": [
       "('https://dumps.wikimedia.org/wikidatawiki/20240220/wikidatawiki-20240220-pages-articles-multistream-index6.txt-p5969005p6052571.bz2',\n",
       " PosixPath('/nas/home/binhvu/kgdata/wikidata/20240220/000_dumps/pages-articles/wikidatawiki-20240220-pages-articles-multistream-index6.txt-p5969005p6052571.bz2'))"
      ]
     },
     "execution_count": 12,
     "metadata": {},
     "output_type": "execute_result"
    }
   ],
   "source": [
    "jobs[0]"
   ]
  },
  {
   "cell_type": "markdown",
   "id": "84a0b7c0",
   "metadata": {
    "jp-MarkdownHeadingCollapsed": true
   },
   "source": [
    "### 🗄 Wikipedia"
   ]
  },
  {
   "cell_type": "code",
   "execution_count": 10,
   "id": "7cd579aa",
   "metadata": {},
   "outputs": [
    {
     "data": {
      "text/plain": [
       "[DumpFile(date=datetime.date(2023, 6, 20), url='https://dumps.wikimedia.org/other/enterprise_html/runs/20230620/enwiki-NS0-20230620-ENTERPRISE-HTML.json.tar.gz')]"
      ]
     },
     "execution_count": 10,
     "metadata": {},
     "output_type": "execute_result"
    }
   ],
   "source": [
    "wp_files = wikipedia.list_files(SELECTED_DUMP_DATE)\n",
    "wp_files"
   ]
  },
  {
   "cell_type": "code",
   "execution_count": 11,
   "id": "63c65e42",
   "metadata": {},
   "outputs": [],
   "source": [
    "wpjobs = wikipedia.create_download_jobs(wp_files, WIKIPEDIA_DIR)"
   ]
  },
  {
   "cell_type": "markdown",
   "id": "d9176f3a",
   "metadata": {},
   "source": [
    "### 💾 Download the data"
   ]
  },
  {
   "cell_type": "code",
   "execution_count": 9,
   "id": "8fe99975-8c7a-47ec-aa1b-21b9a47ce756",
   "metadata": {
    "execution": {
     "iopub.execute_input": "2024-01-08T14:45:00.269360Z",
     "iopub.status.busy": "2024-01-08T14:45:00.268768Z",
     "iopub.status.idle": "2024-01-08T14:45:00.279659Z",
     "shell.execute_reply": "2024-01-08T14:45:00.278195Z",
     "shell.execute_reply.started": "2024-01-08T14:45:00.269310Z"
    }
   },
   "outputs": [
    {
     "data": {
      "text/plain": [
       "[('https://dumps.wikimedia.org/wikidatawiki/20240101/wikidatawiki-20240101-page.sql.gz',\n",
       "  PosixPath('/nas/home/binhvu/kgdata/wikidata/20240101/dumps/wikidatawiki-20240101-page.sql.gz')),\n",
       " ('https://dumps.wikimedia.org/wikidatawiki/20240101/wikidatawiki-20240101-redirect.sql.gz',\n",
       "  PosixPath('/nas/home/binhvu/kgdata/wikidata/20240101/dumps/wikidatawiki-20240101-redirect.sql.gz'))]"
      ]
     },
     "execution_count": 9,
     "metadata": {},
     "output_type": "execute_result"
    }
   ],
   "source": [
    "jobs = []\n",
    "if \"wdjobs\" in locals():\n",
    "    jobs += wdjobs\n",
    "if \"wpjobs\" in locals():\n",
    "    jobs += wpjobs\n",
    "jobs"
   ]
  },
  {
   "cell_type": "code",
   "execution_count": 10,
   "id": "39cdeb3b",
   "metadata": {
    "execution": {
     "iopub.execute_input": "2024-06-27T06:18:15.935070Z",
     "iopub.status.busy": "2024-06-27T06:18:15.934475Z",
     "iopub.status.idle": "2024-06-27T06:18:19.579689Z",
     "shell.execute_reply": "2024-06-27T06:18:19.578197Z",
     "shell.execute_reply.started": "2024-06-27T06:18:15.935012Z"
    }
   },
   "outputs": [
    {
     "name": "stderr",
     "output_type": "stream",
     "text": [
      "\u001b[32m2024-06-27 06:18:15.942\u001b[0m | \u001b[1mINFO    \u001b[0m | \u001b[36mkgdata.misc.download\u001b[0m:\u001b[36mdownload\u001b[0m:\u001b[36m409\u001b[0m - \u001b[1mFile wikidatawiki-20240220-pages-articles-multistream-index6.txt-p5969005p6052571.bz2 exists but not marked as success. Redownload it\u001b[0m\n"
     ]
    },
    {
     "name": "stdout",
     "output_type": "stream",
     "text": [
      "download\n"
     ]
    },
    {
     "data": {
      "application/vnd.jupyter.widget-view+json": {
       "model_id": "da35a1e420204e9495077cdd04f998b1",
       "version_major": 2,
       "version_minor": 0
      },
      "text/plain": [
       "Download wikidatawiki-20240220-pages-articles-multistream-index6.txt-p5969005p6052571.bz2: 0.00B [00:00, ?B/s]"
      ]
     },
     "metadata": {},
     "output_type": "display_data"
    },
    {
     "name": "stderr",
     "output_type": "stream",
     "text": [
      "\u001b[32m2024-06-27 06:18:16.559\u001b[0m | \u001b[1mINFO    \u001b[0m | \u001b[36mkgdata.misc.download\u001b[0m:\u001b[36mdownload\u001b[0m:\u001b[36m409\u001b[0m - \u001b[1mFile wikidatawiki-20240220-pages-articles-multistream-index7.txt-p7552572p7838096.bz2 exists but not marked as success. Redownload it\u001b[0m\n"
     ]
    },
    {
     "name": "stdout",
     "output_type": "stream",
     "text": [
      "download\n"
     ]
    },
    {
     "data": {
      "application/vnd.jupyter.widget-view+json": {
       "model_id": "9dea815b32e4498684cc571c82ebad0b",
       "version_major": 2,
       "version_minor": 0
      },
      "text/plain": [
       "Download wikidatawiki-20240220-pages-articles-multistream-index7.txt-p7552572p7838096.bz2: 0.00B [00:00, ?B/s]"
      ]
     },
     "metadata": {},
     "output_type": "display_data"
    },
    {
     "name": "stderr",
     "output_type": "stream",
     "text": [
      "\u001b[32m2024-06-27 06:18:17.315\u001b[0m | \u001b[1mINFO    \u001b[0m | \u001b[36mkgdata.misc.download\u001b[0m:\u001b[36mdownload\u001b[0m:\u001b[36m409\u001b[0m - \u001b[1mFile wikidatawiki-20240220-pages-articles-multistream-index26.txt-p87798894p88185873.bz2 exists but not marked as success. Redownload it\u001b[0m\n"
     ]
    },
    {
     "name": "stdout",
     "output_type": "stream",
     "text": [
      "download\n"
     ]
    },
    {
     "data": {
      "application/vnd.jupyter.widget-view+json": {
       "model_id": "9a80ef84fb0f4004b73cbbc649ab58f2",
       "version_major": 2,
       "version_minor": 0
      },
      "text/plain": [
       "Download wikidatawiki-20240220-pages-articles-multistream-index26.txt-p87798894p88185873.bz2: 0.00B [00:00, ?B…"
      ]
     },
     "metadata": {},
     "output_type": "display_data"
    },
    {
     "name": "stderr",
     "output_type": "stream",
     "text": [
      "\u001b[32m2024-06-27 06:18:18.062\u001b[0m | \u001b[31m\u001b[1mERROR   \u001b[0m | \u001b[36mkgdata.misc.download\u001b[0m:\u001b[36mget_download_progress\u001b[0m:\u001b[36m514\u001b[0m - \u001b[31m\u001b[1m[PID=34897] Error while downloading URL: https://dumps.wikimedia.org/wikidatawiki/20240220/wikidatawiki-20240220-pages-articles-multistream-index6.txt-p5969005p6052571.bz2.\n",
      "Reason: Can't determine the file size.\n",
      "Output:\n",
      "--2024-06-27 06:18:15--  https://dumps.wikimedia.org/wikidatawiki/20240220/wikidatawiki-20240220-pages-articles-multistream-index6.txt-p5969005p6052571.bz2\n",
      "Resolving dumps.wikimedia.org (dumps.wikimedia.org)... 208.80.154.71, 2620:0:861:3:208:80:154:71\n",
      "Connecting to dumps.wikimedia.org (dumps.wikimedia.org)|208.80.154.71|:443... connected.\n",
      "HTTP request sent, awaiting response... 200 OK\n",
      "Length: 279553 (273K) [application/octet-stream]\n",
      "Saving to: ‘/nas/home/binhvu/kgdata/wikidata/20240220/000_dumps/pages-articles/wikidatawiki-20240220-pages-articles-multistream-index6.txt-p5969005p6052571.bz2’\n",
      "     0K .......... .......... .......... .......... .......... 18%  733K 0s\n",
      "    50K .......... .......... .......... .......... .......... 36%  743K 0s\n",
      "   100K .......... .......... .......... .......... .......... 54% 75.3M 0s\n",
      "   150K .......... .......... .......... .......... .......... 73% 24.5M 0s\n",
      "   200K .......... .......... .......... .......... .......... 91%  765K 0s\n",
      "   250K .......... .......... ...                             100% 87.6M=0.2s\n",
      "2024-06-27 06:18:16 (1.31 MB/s) - ‘/nas/home/binhvu/kgdata/wikidata/20240220/000_dumps/pages-articles/wikidatawiki-20240220-pages-articles-multistream-index6.txt-p5969005p6052571.bz2’ saved [279553/279553]\u001b[0m\n"
     ]
    },
    {
     "ename": "RuntimeError",
     "evalue": "Failed to determine the download progress",
     "output_type": "error",
     "traceback": [
      "\u001b[0;31m---------------------------------------------------------------------------\u001b[0m",
      "\u001b[0;31mRuntimeError\u001b[0m                              Traceback (most recent call last)",
      "Cell \u001b[0;32mIn[10], line 6\u001b[0m\n\u001b[1;32m      4\u001b[0m \u001b[38;5;28;01mfor\u001b[39;00m url, outfile \u001b[38;5;129;01min\u001b[39;00m jobs[i:i\u001b[38;5;241m+\u001b[39mb]:\n\u001b[1;32m      5\u001b[0m     wget\u001b[38;5;241m.\u001b[39mdownload(url, outfile)\n\u001b[0;32m----> 6\u001b[0m \u001b[43mwget\u001b[49m\u001b[38;5;241;43m.\u001b[39;49m\u001b[43mmonitor\u001b[49m\u001b[43m(\u001b[49m\u001b[43m)\u001b[49m\n",
      "File \u001b[0;32m~/workspace/sm-research/libraries/kgdata/kgdata/misc/download.py:448\u001b[0m, in \u001b[0;36mWGet.monitor\u001b[0;34m(self)\u001b[0m\n\u001b[1;32m    446\u001b[0m \u001b[38;5;250m\u001b[39m\u001b[38;5;124;03m\"\"\"Monitoring the download processes\"\"\"\u001b[39;00m\n\u001b[1;32m    447\u001b[0m \u001b[38;5;28;01mfor\u001b[39;00m job \u001b[38;5;129;01min\u001b[39;00m \u001b[38;5;28mself\u001b[39m\u001b[38;5;241m.\u001b[39mjobs\u001b[38;5;241m.\u001b[39mvalues():\n\u001b[0;32m--> 448\u001b[0m     current_bytes, total_bytes \u001b[38;5;241m=\u001b[39m \u001b[38;5;28;43mself\u001b[39;49m\u001b[38;5;241;43m.\u001b[39;49m\u001b[43mget_download_progress\u001b[49m\u001b[43m(\u001b[49m\u001b[43mjob\u001b[49m\u001b[38;5;241;43m.\u001b[39;49m\u001b[43murl\u001b[49m\u001b[43m)\u001b[49m\n\u001b[1;32m    449\u001b[0m     job\u001b[38;5;241m.\u001b[39mpbar\u001b[38;5;241m.\u001b[39mtotal \u001b[38;5;241m=\u001b[39m total_bytes\n\u001b[1;32m    450\u001b[0m     job\u001b[38;5;241m.\u001b[39mpbar\u001b[38;5;241m.\u001b[39mupdate(current_bytes)\n",
      "File \u001b[0;32m~/workspace/sm-research/libraries/kgdata/kgdata/misc/download.py:520\u001b[0m, in \u001b[0;36mWGet.get_download_progress\u001b[0;34m(self, url)\u001b[0m\n\u001b[1;32m    513\u001b[0m \u001b[38;5;28;01mif\u001b[39;00m total_bytes \u001b[38;5;241m==\u001b[39m \u001b[38;5;241m-\u001b[39m\u001b[38;5;241m1\u001b[39m:\n\u001b[1;32m    514\u001b[0m     logger\u001b[38;5;241m.\u001b[39merror(\n\u001b[1;32m    515\u001b[0m         \u001b[38;5;124m\"\u001b[39m\u001b[38;5;124m[PID=\u001b[39m\u001b[38;5;132;01m{}\u001b[39;00m\u001b[38;5;124m] Error while downloading URL: \u001b[39m\u001b[38;5;132;01m{}\u001b[39;00m\u001b[38;5;124m.\u001b[39m\u001b[38;5;130;01m\\n\u001b[39;00m\u001b[38;5;124mReason: Can\u001b[39m\u001b[38;5;124m'\u001b[39m\u001b[38;5;124mt determine the file size.\u001b[39m\u001b[38;5;130;01m\\n\u001b[39;00m\u001b[38;5;124mOutput:\u001b[39m\u001b[38;5;130;01m\\n\u001b[39;00m\u001b[38;5;132;01m{}\u001b[39;00m\u001b[38;5;124m\"\u001b[39m,\n\u001b[1;32m    516\u001b[0m         job\u001b[38;5;241m.\u001b[39mprocess\u001b[38;5;241m.\u001b[39mpid,\n\u001b[1;32m    517\u001b[0m         job\u001b[38;5;241m.\u001b[39murl,\n\u001b[1;32m    518\u001b[0m         \u001b[38;5;124m\"\u001b[39m\u001b[38;5;130;01m\\n\u001b[39;00m\u001b[38;5;124m\"\u001b[39m\u001b[38;5;241m.\u001b[39mjoin(job\u001b[38;5;241m.\u001b[39mprocess_output),\n\u001b[1;32m    519\u001b[0m     )\n\u001b[0;32m--> 520\u001b[0m     \u001b[38;5;28;01mraise\u001b[39;00m \u001b[38;5;167;01mRuntimeError\u001b[39;00m(\u001b[38;5;124m\"\u001b[39m\u001b[38;5;124mFailed to determine the download progress\u001b[39m\u001b[38;5;124m\"\u001b[39m)\n\u001b[1;32m    522\u001b[0m \u001b[38;5;66;03m# read to the progress bar to find the current bytes\u001b[39;00m\n\u001b[1;32m    523\u001b[0m current_bytes \u001b[38;5;241m=\u001b[39m \u001b[38;5;241m-\u001b[39m\u001b[38;5;241m1\u001b[39m\n",
      "\u001b[0;31mRuntimeError\u001b[0m: Failed to determine the download progress"
     ]
    }
   ],
   "source": [
    "b = 3\n",
    "for i in range(0, len(jobs), b):\n",
    "    with WGet.start() as wget:\n",
    "        for url, outfile in jobs[i:i+b]:\n",
    "            wget.download(url, outfile)\n",
    "        wget.monitor()"
   ]
  },
  {
   "cell_type": "markdown",
   "id": "9ec0c028",
   "metadata": {},
   "source": [
    "convert bz2 to zst in parallel for faster decompressing"
   ]
  },
  {
   "cell_type": "code",
   "execution_count": null,
   "id": "3b74a6c3-8238-433d-8a82-e2dc5a16a9b8",
   "metadata": {},
   "outputs": [],
   "source": [
    "lbzip2 -cd wikidata-20240101-all.json.bz2 | zstd -9 -o wikidata-20240101-all.json.zst"
   ]
  },
  {
   "cell_type": "markdown",
   "id": "3470e06f",
   "metadata": {},
   "source": [
    "or you can split the big file by lines directly"
   ]
  },
  {
   "cell_type": "markdown",
   "id": "22b2964b",
   "metadata": {},
   "source": [
    "lbzip2 -cd ../../000_dumps/wikidata-20220521-truthy.nt.bz2 | split -d -l1000000 --suffix-length 5 --filter 'zstd -q -6 -o $FILE.zst' - part-"
   ]
  }
 ],
 "metadata": {
  "kernelspec": {
   "display_name": "resm-nas01",
   "language": "python",
   "name": "resm-nas01"
  },
  "language_info": {
   "codemirror_mode": {
    "name": "ipython",
    "version": 3
   },
   "file_extension": ".py",
   "mimetype": "text/x-python",
   "name": "python",
   "nbconvert_exporter": "python",
   "pygments_lexer": "ipython3",
   "version": "3.11.7"
  }
 },
 "nbformat": 4,
 "nbformat_minor": 5
}
