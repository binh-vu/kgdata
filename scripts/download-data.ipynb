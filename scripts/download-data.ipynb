{
 "cells": [
  {
   "cell_type": "markdown",
   "id": "93a96a34-efdf-44b8-9106-e87c8033d1da",
   "metadata": {},
   "source": [
    "## ⬇ Download dumps from knowledge graphs"
   ]
  },
  {
   "cell_type": "markdown",
   "id": "7ace9139-33c2-4c5a-a9c4-e7e198c06d8f",
   "metadata": {},
   "source": [
    "### ⚙ Setting the required parameters\n",
    "\n",
    "First, we define the locations where we should put the dumps to"
   ]
  },
  {
   "cell_type": "code",
   "execution_count": 1,
   "id": "7b7128b3-ab65-43c7-b228-824a039e6515",
   "metadata": {
    "execution": {
     "iopub.execute_input": "2024-06-27T06:17:49.035939Z",
     "iopub.status.busy": "2024-06-27T06:17:49.035245Z"
    }
   },
   "outputs": [],
   "source": [
    "from os.path import expanduser\n",
    "\n",
    "import requests\n",
    "from tqdm.auto import tqdm\n",
    "import ipywidgets as widgets, datetime\n",
    "from functools import partial\n",
    "from kgdata.misc.download import WikidataDump, WikipediaDump, WGet\n",
    "from pathlib import Path\n",
    "\n",
    "WIKIDATA_DIR = expanduser(\"~/kgdata/wikidata\")\n",
    "WIKIPEDIA_DIR = expanduser(\"~/kgdata/wikipedia\")"
   ]
  },
  {
   "cell_type": "markdown",
   "id": "5302ed04-58de-484e-b3a8-077061821b58",
   "metadata": {},
   "source": [
    "Then, we run the following cells to automatically fetch available dumps from the knowledge graphs. At the end, it allows us to set the `SELECTED_DUMP_DATE` variable to specify which dump we want to download."
   ]
  },
  {
   "cell_type": "code",
   "execution_count": null,
   "id": "9c5fcfc2-a961-4780-892e-4bca7a0de15f",
   "metadata": {},
   "outputs": [],
   "source": [
    "wikidata = WikidataDump()\n",
    "wikipedia = WikipediaDump()\n",
    "with tqdm(desc=\"fetch information\") as pbar:\n",
    "    wikidata.fetch(pbar=pbar)\n",
    "    wikipedia.fetch(pbar=pbar)"
   ]
  },
  {
   "cell_type": "code",
   "execution_count": 3,
   "id": "d84f52a4",
   "metadata": {
    "execution": {
     "iopub.execute_input": "2024-01-08T14:38:21.018659Z",
     "iopub.status.busy": "2024-01-08T14:38:21.017432Z",
     "iopub.status.idle": "2024-01-08T14:38:21.074577Z",
     "shell.execute_reply": "2024-01-08T14:38:21.073715Z",
     "shell.execute_reply.started": "2024-01-08T14:38:21.018602Z"
    }
   },
   "outputs": [
    {
     "data": {
      "application/vnd.jupyter.widget-view+json": {
       "model_id": "3b2a5e9f86774e9990087537fe80eefa",
       "version_major": 2,
       "version_minor": 0
      },
      "text/plain": [
       "HBox(children=(Button(description='2024-01-01', style=ButtonStyle()), Button(description='2023-12-18', style=B…"
      ]
     },
     "metadata": {},
     "output_type": "display_data"
    },
    {
     "data": {
      "application/vnd.jupyter.widget-view+json": {
       "model_id": "7763343af7bb4cba9e58fa0cf8d12232",
       "version_major": 2,
       "version_minor": 0
      },
      "text/plain": [
       "Output()"
      ]
     },
     "metadata": {},
     "output_type": "display_data"
    }
   ],
   "source": [
    "dates, explanation = wikidata.list_dates(wikipedia)\n",
    "selected_date = dates[0]\n",
    "\n",
    "control = []\n",
    "output = widgets.Output()\n",
    "\n",
    "defaultbtn = widgets.Button()\n",
    "selectedbtn = widgets.Button()\n",
    "selectedbtn.style.button_color = 'lightblue'  # type: ignore\n",
    "\n",
    "def click(btn, date):\n",
    "    global selected_date\n",
    "    selected_date = date\n",
    "\n",
    "    btn.style = selectedbtn.style\n",
    "    for obtn in control:\n",
    "        if obtn is not btn:\n",
    "            obtn.style = defaultbtn.style\n",
    "    with output:\n",
    "        output.clear_output()\n",
    "        print(\"Date:\", date.isoformat(), \"Score:\", explanation[date]['total'])\n",
    "        print(f\"  + Self Score:\", explanation[date]['self']['score'])\n",
    "        for name, mostsimilar in explanation[date]['self']['explanation'].items():\n",
    "            print(f\"    - {name}: {mostsimilar}\")\n",
    "        print(f\"  + Other Score:\", explanation[date]['others']['score'])\n",
    "        for name, mostsimilar in explanation[date]['others']['explanation'].items():\n",
    "            print(f\"    - {name}: {mostsimilar}\")\n",
    "\n",
    "for date in dates:\n",
    "    btn = widgets.Button(description=date.isoformat())\n",
    "    btn.on_click(partial(click, date=date))\n",
    "    control.append(btn)\n",
    "display(widgets.HBox(control))\n",
    "display(output)\n",
    "\n",
    "click(control[0], dates[0])"
   ]
  },
  {
   "cell_type": "code",
   "execution_count": 3,
   "id": "b3a39dfc",
   "metadata": {
    "execution": {
     "iopub.execute_input": "2024-01-08T14:43:35.276278Z",
     "iopub.status.busy": "2024-01-08T14:43:35.275603Z",
     "iopub.status.idle": "2024-01-08T14:43:35.288422Z",
     "shell.execute_reply": "2024-01-08T14:43:35.286988Z",
     "shell.execute_reply.started": "2024-01-08T14:43:35.276211Z"
    }
   },
   "outputs": [
    {
     "name": "stdout",
     "output_type": "stream",
     "text": [
      "Selected date: 2024-01-01\n"
     ]
    }
   ],
   "source": [
    "# set the selected date from the selected button, or you can manually set it to the date you want\n",
    "# SELECTED_DUMP_DATE = selected_date\n",
    "SELECTED_DUMP_DATE = datetime.date(2024, 1, 1)\n",
    "print(\"Selected date:\", SELECTED_DUMP_DATE.isoformat())"
   ]
  },
  {
   "cell_type": "markdown",
   "id": "47b9bcb4-39b9-431c-8dbd-d0f708b71e53",
   "metadata": {
    "jp-MarkdownHeadingCollapsed": true
   },
   "source": [
    "### 🗄 Wikidata"
   ]
  },
  {
   "cell_type": "markdown",
   "id": "81592308",
   "metadata": {},
   "source": [
    "List the files that we are going to download"
   ]
  },
  {
   "cell_type": "code",
   "execution_count": 4,
   "id": "0bf19885",
   "metadata": {
    "execution": {
     "iopub.execute_input": "2024-01-08T14:43:37.722477Z",
     "iopub.status.busy": "2024-01-08T14:43:37.721947Z",
     "iopub.status.idle": "2024-01-08T14:43:37.733911Z",
     "shell.execute_reply": "2024-01-08T14:43:37.732473Z",
     "shell.execute_reply.started": "2024-01-08T14:43:37.722430Z"
    }
   },
   "outputs": [
    {
     "data": {
      "text/plain": [
       "[DumpFile(date=datetime.date(2024, 1, 1), url='https://dumps.wikimedia.org/wikidatawiki/entities/20240101/wikidata-20240101-all.json.bz2'),\n",
       " DumpFile(date=datetime.date(2024, 1, 1), url='https://dumps.wikimedia.org/wikidatawiki/20240101/wikidatawiki-20240101-page.sql.gz'),\n",
       " DumpFile(date=datetime.date(2024, 1, 1), url='https://dumps.wikimedia.org/wikidatawiki/20240101/wikidatawiki-20240101-redirect.sql.gz')]"
      ]
     },
     "execution_count": 4,
     "metadata": {},
     "output_type": "execute_result"
    }
   ],
   "source": [
    "wd_files = wikidata.list_files(SELECTED_DUMP_DATE)\n",
    "wd_files"
   ]
  },
  {
   "cell_type": "code",
   "execution_count": 5,
   "id": "cb09fe48-4c4f-4b32-ae59-04a18b9ae0c4",
   "metadata": {
    "execution": {
     "iopub.execute_input": "2024-01-08T14:43:39.327579Z",
     "iopub.status.busy": "2024-01-08T14:43:39.327077Z",
     "iopub.status.idle": "2024-01-08T14:43:39.334583Z",
     "shell.execute_reply": "2024-01-08T14:43:39.333210Z",
     "shell.execute_reply.started": "2024-01-08T14:43:39.327537Z"
    },
    "tags": []
   },
   "outputs": [],
   "source": [
    "wdjobs = []"
   ]
  },
  {
   "cell_type": "code",
   "execution_count": 7,
   "id": "eceb23a2-98fa-41fd-b297-74414e773541",
   "metadata": {
    "execution": {
     "iopub.execute_input": "2024-01-08T14:43:51.569735Z",
     "iopub.status.busy": "2024-01-08T14:43:51.569185Z",
     "iopub.status.idle": "2024-01-08T14:43:51.586622Z",
     "shell.execute_reply": "2024-01-08T14:43:51.585166Z",
     "shell.execute_reply.started": "2024-01-08T14:43:51.569689Z"
    }
   },
   "outputs": [
    {
     "data": {
      "text/plain": [
       "[('https://dumps.wikimedia.org/wikidatawiki/20240101/wikidatawiki-20240101-page.sql.gz',\n",
       "  PosixPath('/nas/home/binhvu/kgdata/wikidata/20240101/dumps/wikidatawiki-20240101-page.sql.gz')),\n",
       " ('https://dumps.wikimedia.org/wikidatawiki/20240101/wikidatawiki-20240101-redirect.sql.gz',\n",
       "  PosixPath('/nas/home/binhvu/kgdata/wikidata/20240101/dumps/wikidatawiki-20240101-redirect.sql.gz'))]"
      ]
     },
     "execution_count": 7,
     "metadata": {},
     "output_type": "execute_result"
    }
   ],
   "source": [
    "wdjobs = wikidata.create_download_jobs(wd_files, WIKIDATA_DIR)\n",
    "wdjobs"
   ]
  },
  {
   "cell_type": "markdown",
   "id": "eb672986-5817-4e1b-ba0c-9d9f4e8a987b",
   "metadata": {
    "execution": {
     "iopub.execute_input": "2024-06-27T05:34:00.879084Z",
     "iopub.status.busy": "2024-06-27T05:34:00.878569Z",
     "iopub.status.idle": "2024-06-27T05:34:00.885037Z",
     "shell.execute_reply": "2024-06-27T05:34:00.883891Z",
     "shell.execute_reply.started": "2024-06-27T05:34:00.879028Z"
    }
   },
   "source": [
    "### 🗄 Wikidata XML Dumps"
   ]
  },
  {
   "cell_type": "code",
   "execution_count": 2,
   "id": "aaac5164-fa63-44e9-9f66-d26566069126",
   "metadata": {},
   "outputs": [],
   "source": [
    "resp = requests.get(\"https://dumps.wikimedia.org/wikidatawiki/20240220/dumpstatus.json\")"
   ]
  },
  {
   "cell_type": "code",
   "execution_count": 3,
   "id": "815cf14b-7c7c-42ae-b4c1-f428c4743f15",
   "metadata": {},
   "outputs": [],
   "source": [
    "files = resp.json()[\"jobs\"][\"articlesmultistreamdump\"][\"files\"]"
   ]
  },
  {
   "cell_type": "code",
   "execution_count": 4,
   "id": "17fa32f2-d402-4adb-9688-21ea2f9a8a55",
   "metadata": {},
   "outputs": [],
   "source": [
    "size = sum([x[\"size\"] for x in files.values()])"
   ]
  },
  {
   "cell_type": "code",
   "execution_count": 5,
   "id": "132413fc-3ae8-4059-b37d-205ea5db0219",
   "metadata": {},
   "outputs": [
    {
     "data": {
      "text/plain": [
       "1.0024655324353635"
      ]
     },
     "execution_count": 5,
     "metadata": {},
     "output_type": "execute_result"
    }
   ],
   "source": [
    "size / 153415825959"
   ]
  },
  {
   "cell_type": "code",
   "execution_count": 6,
   "id": "c8fd430f-8dc5-4c6a-828d-cf5f1836d165",
   "metadata": {},
   "outputs": [],
   "source": [
    "from pathlib import Path"
   ]
  },
  {
   "cell_type": "code",
   "execution_count": 7,
   "id": "2abdac32-0e4d-4e1b-ab42-10ef61df8b4a",
   "metadata": {},
   "outputs": [],
   "source": [
    "jobs = [\n",
    "    (\n",
    "        \"https://dumps.wikimedia.org\" + obj[\"url\"],\n",
    "        Path(\"/nas/home/binhvu/kgdata/wikidata/20240220/000_dumps/pages-articles\")\n",
    "        / key,\n",
    "    )\n",
    "    for key, obj in sorted(files.items(), key=lambda x: x[1][\"size\"])\n",
    "]"
   ]
  },
  {
   "cell_type": "code",
   "execution_count": 8,
   "id": "8846c93d-4de3-44c0-bbe1-6dc1c89ebc8f",
   "metadata": {},
   "outputs": [
    {
     "data": {
      "text/plain": [
       "182"
      ]
     },
     "execution_count": 8,
     "metadata": {},
     "output_type": "execute_result"
    }
   ],
   "source": [
    "len(jobs)"
   ]
  },
  {
   "cell_type": "markdown",
   "id": "84a0b7c0",
   "metadata": {
    "jp-MarkdownHeadingCollapsed": true
   },
   "source": [
    "### 🗄 Wikipedia"
   ]
  },
  {
   "cell_type": "code",
   "execution_count": 10,
   "id": "7cd579aa",
   "metadata": {},
   "outputs": [
    {
     "data": {
      "text/plain": [
       "[DumpFile(date=datetime.date(2023, 6, 20), url='https://dumps.wikimedia.org/other/enterprise_html/runs/20230620/enwiki-NS0-20230620-ENTERPRISE-HTML.json.tar.gz')]"
      ]
     },
     "execution_count": 10,
     "metadata": {},
     "output_type": "execute_result"
    }
   ],
   "source": [
    "wp_files = wikipedia.list_files(SELECTED_DUMP_DATE)\n",
    "wp_files"
   ]
  },
  {
   "cell_type": "code",
   "execution_count": 11,
   "id": "63c65e42",
   "metadata": {},
   "outputs": [],
   "source": [
    "wpjobs = wikipedia.create_download_jobs(wp_files, WIKIPEDIA_DIR)"
   ]
  },
  {
   "cell_type": "markdown",
   "id": "d9176f3a",
   "metadata": {},
   "source": [
    "### 💾 Download the data"
   ]
  },
  {
   "cell_type": "code",
   "execution_count": 9,
   "id": "8fe99975-8c7a-47ec-aa1b-21b9a47ce756",
   "metadata": {
    "execution": {
     "iopub.execute_input": "2024-01-08T14:45:00.269360Z",
     "iopub.status.busy": "2024-01-08T14:45:00.268768Z",
     "iopub.status.idle": "2024-01-08T14:45:00.279659Z",
     "shell.execute_reply": "2024-01-08T14:45:00.278195Z",
     "shell.execute_reply.started": "2024-01-08T14:45:00.269310Z"
    }
   },
   "outputs": [
    {
     "data": {
      "text/plain": [
       "[('https://dumps.wikimedia.org/wikidatawiki/20240101/wikidatawiki-20240101-page.sql.gz',\n",
       "  PosixPath('/nas/home/binhvu/kgdata/wikidata/20240101/dumps/wikidatawiki-20240101-page.sql.gz')),\n",
       " ('https://dumps.wikimedia.org/wikidatawiki/20240101/wikidatawiki-20240101-redirect.sql.gz',\n",
       "  PosixPath('/nas/home/binhvu/kgdata/wikidata/20240101/dumps/wikidatawiki-20240101-redirect.sql.gz'))]"
      ]
     },
     "execution_count": 9,
     "metadata": {},
     "output_type": "execute_result"
    }
   ],
   "source": [
    "jobs = []\n",
    "if \"wdjobs\" in locals():\n",
    "    jobs += wdjobs\n",
    "if \"wpjobs\" in locals():\n",
    "    jobs += wpjobs\n",
    "jobs"
   ]
  },
  {
   "cell_type": "code",
   "execution_count": 9,
   "id": "39cdeb3b",
   "metadata": {
    "execution": {
     "iopub.execute_input": "2024-06-27T06:17:10.697394Z",
     "iopub.status.busy": "2024-06-27T06:17:10.696771Z",
     "iopub.status.idle": "2024-06-27T06:17:11.446478Z",
     "shell.execute_reply": "2024-06-27T06:17:11.445406Z",
     "shell.execute_reply.started": "2024-06-27T06:17:10.697346Z"
    }
   },
   "outputs": [
    {
     "name": "stderr",
     "output_type": "stream",
     "text": [
      "\u001b[32m2024-06-27 06:59:16.974\u001b[0m | \u001b[1mINFO    \u001b[0m | \u001b[36mkgdata.misc.download\u001b[0m:\u001b[36mdownload\u001b[0m:\u001b[36m498\u001b[0m - \u001b[1mFile wikidatawiki-20240220-pages-articles-multistream-index6.txt-p5969005p6052571.bz2 exists but not marked as success. Redownload it\u001b[0m\n"
     ]
    },
    {
     "data": {
      "application/vnd.jupyter.widget-view+json": {
       "model_id": "e779d7e95f7f4b60b49d8881f596b0a0",
       "version_major": 2,
       "version_minor": 0
      },
      "text/plain": [
       "Download wikidatawiki-20240220-pages-articles-multistream-index6.txt-p5969005p6052571.bz2: 0.00B [00:00, ?B/s]"
      ]
     },
     "metadata": {},
     "output_type": "display_data"
    },
    {
     "name": "stderr",
     "output_type": "stream",
     "text": [
      "\u001b[32m2024-06-27 06:59:17.607\u001b[0m | \u001b[1mINFO    \u001b[0m | \u001b[36mkgdata.misc.download\u001b[0m:\u001b[36mdownload\u001b[0m:\u001b[36m498\u001b[0m - \u001b[1mFile wikidatawiki-20240220-pages-articles-multistream-index7.txt-p7552572p7838096.bz2 exists but not marked as success. Redownload it\u001b[0m\n"
     ]
    },
    {
     "data": {
      "application/vnd.jupyter.widget-view+json": {
       "model_id": "1e2a7ad3fd3144b2a609f2fc52091cbc",
       "version_major": 2,
       "version_minor": 0
      },
      "text/plain": [
       "Download wikidatawiki-20240220-pages-articles-multistream-index7.txt-p7552572p7838096.bz2: 0.00B [00:00, ?B/s]"
      ]
     },
     "metadata": {},
     "output_type": "display_data"
    },
    {
     "name": "stderr",
     "output_type": "stream",
     "text": [
      "\u001b[32m2024-06-27 06:59:18.343\u001b[0m | \u001b[1mINFO    \u001b[0m | \u001b[36mkgdata.misc.download\u001b[0m:\u001b[36mdownload\u001b[0m:\u001b[36m498\u001b[0m - \u001b[1mFile wikidatawiki-20240220-pages-articles-multistream-index26.txt-p87798894p88185873.bz2 exists but not marked as success. Redownload it\u001b[0m\n"
     ]
    },
    {
     "data": {
      "application/vnd.jupyter.widget-view+json": {
       "model_id": "665fad4176ae4d5492c062cc2a2937b7",
       "version_major": 2,
       "version_minor": 0
      },
      "text/plain": [
       "Download wikidatawiki-20240220-pages-articles-multistream-index26.txt-p87798894p88185873.bz2: 0.00B [00:00, ?B…"
      ]
     },
     "metadata": {},
     "output_type": "display_data"
    },
    {
     "name": "stderr",
     "output_type": "stream",
     "text": [
      "\u001b[32m2024-06-27 06:59:19.125\u001b[0m | \u001b[1mINFO    \u001b[0m | \u001b[36mkgdata.misc.download\u001b[0m:\u001b[36mdownload\u001b[0m:\u001b[36m498\u001b[0m - \u001b[1mFile wikidatawiki-20240220-pages-articles-multistream-index8.txt-p10838097p11495800.bz2 exists but not marked as success. Redownload it\u001b[0m\n"
     ]
    },
    {
     "data": {
      "application/vnd.jupyter.widget-view+json": {
       "model_id": "d5a15b71aecc43a1a227ebb5ed73b6cd",
       "version_major": 2,
       "version_minor": 0
      },
      "text/plain": [
       "Download wikidatawiki-20240220-pages-articles-multistream-index8.txt-p10838097p11495800.bz2: 0.00B [00:00, ?B/…"
      ]
     },
     "metadata": {},
     "output_type": "display_data"
    },
    {
     "name": "stderr",
     "output_type": "stream",
     "text": [
      "\u001b[32m2024-06-27 06:59:19.984\u001b[0m | \u001b[1mINFO    \u001b[0m | \u001b[36mkgdata.misc.download\u001b[0m:\u001b[36mdownload\u001b[0m:\u001b[36m498\u001b[0m - \u001b[1mFile wikidatawiki-20240220-pages-articles-multistream-index1.txt-p1p441397.bz2 exists but not marked as success. Redownload it\u001b[0m\n"
     ]
    },
    {
     "data": {
      "application/vnd.jupyter.widget-view+json": {
       "model_id": "1fdd83e1809e402f83b812149e694351",
       "version_major": 2,
       "version_minor": 0
      },
      "text/plain": [
       "Download wikidatawiki-20240220-pages-articles-multistream-index1.txt-p1p441397.bz2: 0.00B [00:00, ?B/s]"
      ]
     },
     "metadata": {},
     "output_type": "display_data"
    },
    {
     "data": {
      "application/vnd.jupyter.widget-view+json": {
       "model_id": "82e897e1bcfa4f37971666e5a247e8bf",
       "version_major": 2,
       "version_minor": 0
      },
      "text/plain": [
       "Download wikidatawiki-20240220-pages-articles-multistream-index15.txt-p26524141p27066455.bz2: 0.00B [00:00, ?B…"
      ]
     },
     "metadata": {},
     "output_type": "display_data"
    },
    {
     "data": {
      "application/vnd.jupyter.widget-view+json": {
       "model_id": "16e382725459447a873aa1dadc388dfc",
       "version_major": 2,
       "version_minor": 0
      },
      "text/plain": [
       "Download wikidatawiki-20240220-pages-articles-multistream-index22.txt-p55190486p55730032.bz2: 0.00B [00:00, ?B…"
      ]
     },
     "metadata": {},
     "output_type": "display_data"
    },
    {
     "data": {
      "application/vnd.jupyter.widget-view+json": {
       "model_id": "014a011a4fc44cb7a17e2d72c53ba153",
       "version_major": 2,
       "version_minor": 0
      },
      "text/plain": [
       "Download wikidatawiki-20240220-pages-articles-multistream-index21.txt-p50027041p50690485.bz2: 0.00B [00:00, ?B…"
      ]
     },
     "metadata": {},
     "output_type": "display_data"
    },
    {
     "data": {
      "application/vnd.jupyter.widget-view+json": {
       "model_id": "4307243198474257a1e39f98a5f04a54",
       "version_major": 2,
       "version_minor": 0
      },
      "text/plain": [
       "Download wikidatawiki-20240220-pages-articles-multistream-index17.txt-p31078206p31710876.bz2: 0.00B [00:00, ?B…"
      ]
     },
     "metadata": {},
     "output_type": "display_data"
    },
    {
     "name": "stderr",
     "output_type": "stream",
     "text": [
      "\u001b[32m2024-06-27 06:59:24.266\u001b[0m | \u001b[1mINFO    \u001b[0m | \u001b[36mkgdata.misc.download\u001b[0m:\u001b[36mdownload\u001b[0m:\u001b[36m498\u001b[0m - \u001b[1mFile wikidatawiki-20240220-pages-articles-multistream-index2.txt-p441398p1114931.bz2 exists but not marked as success. Redownload it\u001b[0m\n"
     ]
    },
    {
     "data": {
      "application/vnd.jupyter.widget-view+json": {
       "model_id": "e4fa6b924710417aaf141b2d7f4821bc",
       "version_major": 2,
       "version_minor": 0
      },
      "text/plain": [
       "Download wikidatawiki-20240220-pages-articles-multistream-index2.txt-p441398p1114931.bz2: 0.00B [00:00, ?B/s]"
      ]
     },
     "metadata": {},
     "output_type": "display_data"
    },
    {
     "data": {
      "application/vnd.jupyter.widget-view+json": {
       "model_id": "6164759583f84b338acd9b1823b3ef5a",
       "version_major": 2,
       "version_minor": 0
      },
      "text/plain": [
       "Download wikidatawiki-20240220-pages-articles-multistream-index27.txt-p118185874p118772840.bz2: 0.00B [00:00, …"
      ]
     },
     "metadata": {},
     "output_type": "display_data"
    },
    {
     "data": {
      "application/vnd.jupyter.widget-view+json": {
       "model_id": "8ff8cd12e7fe4e73b56a07fab66abd2b",
       "version_major": 2,
       "version_minor": 0
      },
      "text/plain": [
       "Download wikidatawiki-20240220-pages-articles-multistream-index14.txt-p24336127p25024140.bz2: 0.00B [00:00, ?B…"
      ]
     },
     "metadata": {},
     "output_type": "display_data"
    },
    {
     "data": {
      "application/vnd.jupyter.widget-view+json": {
       "model_id": "bb10d43f5e454df08a2b75486a85162b",
       "version_major": 2,
       "version_minor": 0
      },
      "text/plain": [
       "Download wikidatawiki-20240220-pages-articles-multistream-index10.txt-p15498368p16236979.bz2: 0.00B [00:00, ?B…"
      ]
     },
     "metadata": {},
     "output_type": "display_data"
    },
    {
     "data": {
      "application/vnd.jupyter.widget-view+json": {
       "model_id": "9845481222814df0a60c350fa53cfc9a",
       "version_major": 2,
       "version_minor": 0
      },
      "text/plain": [
       "Download wikidatawiki-20240220-pages-articles-multistream-index12.txt-p19170285p19883157.bz2: 0.00B [00:00, ?B…"
      ]
     },
     "metadata": {},
     "output_type": "display_data"
    },
    {
     "data": {
      "application/vnd.jupyter.widget-view+json": {
       "model_id": "669ab5228f764b168d4dcf177178bdcc",
       "version_major": 2,
       "version_minor": 0
      },
      "text/plain": [
       "Download wikidatawiki-20240220-pages-articles-multistream-index20.txt-p44722796p45527040.bz2: 0.00B [00:00, ?B…"
      ]
     },
     "metadata": {},
     "output_type": "display_data"
    },
    {
     "data": {
      "application/vnd.jupyter.widget-view+json": {
       "model_id": "74765f3137e64cff8eedfb7691670805",
       "version_major": 2,
       "version_minor": 0
      },
      "text/plain": [
       "Download wikidatawiki-20240220-pages-articles-multistream-index8.txt-p9338097p10838096.bz2: 0.00B [00:00, ?B/s…"
      ]
     },
     "metadata": {},
     "output_type": "display_data"
    },
    {
     "data": {
      "application/vnd.jupyter.widget-view+json": {
       "model_id": "8d10f336e61a4ad093873e90a3528e95",
       "version_major": 2,
       "version_minor": 0
      },
      "text/plain": [
       "Download wikidatawiki-20240220-pages-articles-multistream-index24.txt-p64692699p65585258.bz2: 0.00B [00:00, ?B…"
      ]
     },
     "metadata": {},
     "output_type": "display_data"
    },
    {
     "name": "stderr",
     "output_type": "stream",
     "text": [
      "\u001b[32m2024-06-27 06:59:32.340\u001b[0m | \u001b[1mINFO    \u001b[0m | \u001b[36mkgdata.misc.download\u001b[0m:\u001b[36mdownload\u001b[0m:\u001b[36m498\u001b[0m - \u001b[1mFile wikidatawiki-20240220-pages-articles-multistream-index3.txt-p1114932p2049641.bz2 exists but not marked as success. Redownload it\u001b[0m\n"
     ]
    },
    {
     "data": {
      "application/vnd.jupyter.widget-view+json": {
       "model_id": "a6aa4a194ed240ea9413c46416333c3c",
       "version_major": 2,
       "version_minor": 0
      },
      "text/plain": [
       "Download wikidatawiki-20240220-pages-articles-multistream-index3.txt-p1114932p2049641.bz2: 0.00B [00:00, ?B/s]"
      ]
     },
     "metadata": {},
     "output_type": "display_data"
    },
    {
     "data": {
      "application/vnd.jupyter.widget-view+json": {
       "model_id": "9e2a619445584f2bbcf438d87bf3e589",
       "version_major": 2,
       "version_minor": 0
      },
      "text/plain": [
       "Download wikidatawiki-20240220-pages-articles-multistream-index9.txt-p12995801p13998367.bz2: 0.00B [00:00, ?B/…"
      ]
     },
     "metadata": {},
     "output_type": "display_data"
    },
    {
     "data": {
      "application/vnd.jupyter.widget-view+json": {
       "model_id": "8e6e83c3a5364ce986145f743533dc12",
       "version_major": 2,
       "version_minor": 0
      },
      "text/plain": [
       "Download wikidatawiki-20240220-pages-articles-multistream-index16.txt-p28566456p29578205.bz2: 0.00B [00:00, ?B…"
      ]
     },
     "metadata": {},
     "output_type": "display_data"
    },
    {
     "data": {
      "application/vnd.jupyter.widget-view+json": {
       "model_id": "952f51d916ed46f6bf5645f6f386bb71",
       "version_major": 2,
       "version_minor": 0
      },
      "text/plain": [
       "Download wikidatawiki-20240220-pages-articles-multistream-index19.txt-p39053268p40222795.bz2: 0.00B [00:00, ?B…"
      ]
     },
     "metadata": {},
     "output_type": "display_data"
    },
    {
     "name": "stderr",
     "output_type": "stream",
     "text": [
      "\u001b[32m2024-06-27 06:59:36.807\u001b[0m | \u001b[1mINFO    \u001b[0m | \u001b[36mkgdata.misc.download\u001b[0m:\u001b[36mdownload\u001b[0m:\u001b[36m498\u001b[0m - \u001b[1mFile wikidatawiki-20240220-pages-articles-multistream-index4.txt-p2049642p3098446.bz2 exists but not marked as success. Redownload it\u001b[0m\n"
     ]
    },
    {
     "data": {
      "application/vnd.jupyter.widget-view+json": {
       "model_id": "027445c668934f809d48901843e207a3",
       "version_major": 2,
       "version_minor": 0
      },
      "text/plain": [
       "Download wikidatawiki-20240220-pages-articles-multistream-index4.txt-p2049642p3098446.bz2: 0.00B [00:00, ?B/s]"
      ]
     },
     "metadata": {},
     "output_type": "display_data"
    },
    {
     "data": {
      "application/vnd.jupyter.widget-view+json": {
       "model_id": "0b8171f1ab16416e8eef9144cd384a47",
       "version_major": 2,
       "version_minor": 0
      },
      "text/plain": [
       "Download wikidatawiki-20240220-pages-articles-multistream-index25.txt-p74585259p75798893.bz2: 0.00B [00:00, ?B…"
      ]
     },
     "metadata": {},
     "output_type": "display_data"
    },
    {
     "data": {
      "application/vnd.jupyter.widget-view+json": {
       "model_id": "59a5a86ba24847b68c8dbb6149047b78",
       "version_major": 2,
       "version_minor": 0
      },
      "text/plain": [
       "Download wikidatawiki-20240220-pages-articles-multistream-index18.txt-p34710877p36053267.bz2: 0.00B [00:00, ?B…"
      ]
     },
     "metadata": {},
     "output_type": "display_data"
    },
    {
     "data": {
      "application/vnd.jupyter.widget-view+json": {
       "model_id": "1ae2a5383abc427b824511a6dc8265ca",
       "version_major": 2,
       "version_minor": 0
      },
      "text/plain": [
       "Download wikidatawiki-20240220-pages-articles-multistream-index10.txt-p13998368p15498367.bz2: 0.00B [00:00, ?B…"
      ]
     },
     "metadata": {},
     "output_type": "display_data"
    },
    {
     "data": {
      "application/vnd.jupyter.widget-view+json": {
       "model_id": "052586e747a546fda2b3934e9abf512b",
       "version_major": 2,
       "version_minor": 0
      },
      "text/plain": [
       "Download wikidatawiki-20240220-pages-articles-multistream-index20.txt-p40222796p41722795.bz2: 0.00B [00:00, ?B…"
      ]
     },
     "metadata": {},
     "output_type": "display_data"
    },
    {
     "data": {
      "application/vnd.jupyter.widget-view+json": {
       "model_id": "873abc7f39ae436598d87ecce78eec42",
       "version_major": 2,
       "version_minor": 0
      },
      "text/plain": [
       "Download wikidatawiki-20240220-pages-articles-multistream-index25.txt-p68585259p70085258.bz2: 0.00B [00:00, ?B…"
      ]
     },
     "metadata": {},
     "output_type": "display_data"
    },
    {
     "data": {
      "application/vnd.jupyter.widget-view+json": {
       "model_id": "42bdd248ae2a46479770101ec0362384",
       "version_major": 2,
       "version_minor": 0
      },
      "text/plain": [
       "Download wikidatawiki-20240220-pages-articles-multistream-index26.txt-p77298894p78798893.bz2: 0.00B [00:00, ?B…"
      ]
     },
     "metadata": {},
     "output_type": "display_data"
    },
    {
     "data": {
      "application/vnd.jupyter.widget-view+json": {
       "model_id": "418e14b67416439baad79c74735bcf0e",
       "version_major": 2,
       "version_minor": 0
      },
      "text/plain": [
       "Download wikidatawiki-20240220-pages-articles-multistream-index19.txt-p37553268p39053267.bz2: 0.00B [00:00, ?B…"
      ]
     },
     "metadata": {},
     "output_type": "display_data"
    },
    {
     "data": {
      "application/vnd.jupyter.widget-view+json": {
       "model_id": "24a1395fe2f641908143ec8330e5b448",
       "version_major": 2,
       "version_minor": 0
      },
      "text/plain": [
       "Download wikidatawiki-20240220-pages-articles-multistream-index25.txt-p70085259p71585258.bz2: 0.00B [00:00, ?B…"
      ]
     },
     "metadata": {},
     "output_type": "display_data"
    },
    {
     "data": {
      "application/vnd.jupyter.widget-view+json": {
       "model_id": "c7df3fe194704a21abbc5fd3742a9ed0",
       "version_major": 2,
       "version_minor": 0
      },
      "text/plain": [
       "Download wikidatawiki-20240220-pages-articles-multistream-index21.txt-p48527041p50027040.bz2: 0.00B [00:00, ?B…"
      ]
     },
     "metadata": {},
     "output_type": "display_data"
    },
    {
     "data": {
      "application/vnd.jupyter.widget-view+json": {
       "model_id": "867601041a27417c862147b8ee2c975e",
       "version_major": 2,
       "version_minor": 0
      },
      "text/plain": [
       "Download wikidatawiki-20240220-pages-articles-multistream-index23.txt-p58730033p60192698.bz2: 0.00B [00:00, ?B…"
      ]
     },
     "metadata": {},
     "output_type": "display_data"
    },
    {
     "data": {
      "application/vnd.jupyter.widget-view+json": {
       "model_id": "1898d82d268c4aff929889848403db82",
       "version_major": 2,
       "version_minor": 0
      },
      "text/plain": [
       "Download wikidatawiki-20240220-pages-articles-multistream-index25.txt-p71585259p73085258.bz2: 0.00B [00:00, ?B…"
      ]
     },
     "metadata": {},
     "output_type": "display_data"
    },
    {
     "data": {
      "application/vnd.jupyter.widget-view+json": {
       "model_id": "7d1ac90dc5c649a09d5ccb5f867826b6",
       "version_major": 2,
       "version_minor": 0
      },
      "text/plain": [
       "Download wikidatawiki-20240220-pages-articles-multistream-index26.txt-p80298894p81798893.bz2: 0.00B [00:00, ?B…"
      ]
     },
     "metadata": {},
     "output_type": "display_data"
    },
    {
     "data": {
      "application/vnd.jupyter.widget-view+json": {
       "model_id": "9f4c4bb3274b4d7492cea6ccf784fb2f",
       "version_major": 2,
       "version_minor": 0
      },
      "text/plain": [
       "Download wikidatawiki-20240220-pages-articles-multistream-index21.txt-p45527041p47027040.bz2: 0.00B [00:00, ?B…"
      ]
     },
     "metadata": {},
     "output_type": "display_data"
    },
    {
     "data": {
      "application/vnd.jupyter.widget-view+json": {
       "model_id": "5aa0275791f146898effc956567751f6",
       "version_major": 2,
       "version_minor": 0
      },
      "text/plain": [
       "Download wikidatawiki-20240220-pages-articles-multistream-index19.txt-p36053268p37553267.bz2: 0.00B [00:00, ?B…"
      ]
     },
     "metadata": {},
     "output_type": "display_data"
    },
    {
     "data": {
      "application/vnd.jupyter.widget-view+json": {
       "model_id": "7b23b36425164370be350a0c69a75a56",
       "version_major": 2,
       "version_minor": 0
      },
      "text/plain": [
       "Download wikidatawiki-20240220-pages-articles-multistream-index26.txt-p75798894p77298893.bz2: 0.00B [00:00, ?B…"
      ]
     },
     "metadata": {},
     "output_type": "display_data"
    },
    {
     "data": {
      "application/vnd.jupyter.widget-view+json": {
       "model_id": "c1304ee6e17140dd841c90553618b718",
       "version_major": 2,
       "version_minor": 0
      },
      "text/plain": [
       "Download wikidatawiki-20240220-pages-articles-multistream-index26.txt-p83298894p84798893.bz2: 0.00B [00:00, ?B…"
      ]
     },
     "metadata": {},
     "output_type": "display_data"
    },
    {
     "data": {
      "application/vnd.jupyter.widget-view+json": {
       "model_id": "ab70a8b77ed44916b5db165e9fd59e7f",
       "version_major": 2,
       "version_minor": 0
      },
      "text/plain": [
       "Download wikidatawiki-20240220-pages-articles-multistream-index15.txt-p25024141p26524140.bz2: 0.00B [00:00, ?B…"
      ]
     },
     "metadata": {},
     "output_type": "display_data"
    },
    {
     "data": {
      "application/vnd.jupyter.widget-view+json": {
       "model_id": "8423a694ccb24f98aa53bf366ba6d1d5",
       "version_major": 2,
       "version_minor": 0
      },
      "text/plain": [
       "Download wikidatawiki-20240220-pages-articles-multistream-index20.txt-p41722796p43222795.bz2: 0.00B [00:00, ?B…"
      ]
     },
     "metadata": {},
     "output_type": "display_data"
    },
    {
     "data": {
      "application/vnd.jupyter.widget-view+json": {
       "model_id": "9358ca4052c1407abdedb8e93da8ba4a",
       "version_major": 2,
       "version_minor": 0
      },
      "text/plain": [
       "Download wikidatawiki-20240220-pages-articles-multistream-index27.txt-p89685874p91185873.bz2: 0.00B [00:00, ?B…"
      ]
     },
     "metadata": {},
     "output_type": "display_data"
    },
    {
     "data": {
      "application/vnd.jupyter.widget-view+json": {
       "model_id": "479846c3c52d4927b17d1bbdbf80ade0",
       "version_major": 2,
       "version_minor": 0
      },
      "text/plain": [
       "Download wikidatawiki-20240220-pages-articles-multistream-index26.txt-p84798894p86298893.bz2: 0.00B [00:00, ?B…"
      ]
     },
     "metadata": {},
     "output_type": "display_data"
    },
    {
     "data": {
      "application/vnd.jupyter.widget-view+json": {
       "model_id": "f61102ead7ca4c258e16ccd2342c7b5a",
       "version_major": 2,
       "version_minor": 0
      },
      "text/plain": [
       "Download wikidatawiki-20240220-pages-articles-multistream-index26.txt-p81798894p83298893.bz2: 0.00B [00:00, ?B…"
      ]
     },
     "metadata": {},
     "output_type": "display_data"
    },
    {
     "data": {
      "application/vnd.jupyter.widget-view+json": {
       "model_id": "1aca593b784e4759834951c5f955fe7b",
       "version_major": 2,
       "version_minor": 0
      },
      "text/plain": [
       "Download wikidatawiki-20240220-pages-articles-multistream-index23.txt-p57230033p58730032.bz2: 0.00B [00:00, ?B…"
      ]
     },
     "metadata": {},
     "output_type": "display_data"
    },
    {
     "data": {
      "application/vnd.jupyter.widget-view+json": {
       "model_id": "4ac057fef6704b1987d4df8fe034b6ac",
       "version_major": 2,
       "version_minor": 0
      },
      "text/plain": [
       "Download wikidatawiki-20240220-pages-articles-multistream-index22.txt-p50690486p52190485.bz2: 0.00B [00:00, ?B…"
      ]
     },
     "metadata": {},
     "output_type": "display_data"
    },
    {
     "data": {
      "application/vnd.jupyter.widget-view+json": {
       "model_id": "f05b1ba0d65444b0afc9eb49a59ca8ed",
       "version_major": 2,
       "version_minor": 0
      },
      "text/plain": [
       "Download wikidatawiki-20240220-pages-articles-multistream-index21.txt-p47027041p48527040.bz2: 0.00B [00:00, ?B…"
      ]
     },
     "metadata": {},
     "output_type": "display_data"
    },
    {
     "data": {
      "application/vnd.jupyter.widget-view+json": {
       "model_id": "bc85787691134df182ca91cccd98182e",
       "version_major": 2,
       "version_minor": 0
      },
      "text/plain": [
       "Download wikidatawiki-20240220-pages-articles-multistream-index16.txt-p27066456p28566455.bz2: 0.00B [00:00, ?B…"
      ]
     },
     "metadata": {},
     "output_type": "display_data"
    },
    {
     "data": {
      "application/vnd.jupyter.widget-view+json": {
       "model_id": "45af609eafa1440ab76abd3a687c923d",
       "version_major": 2,
       "version_minor": 0
      },
      "text/plain": [
       "Download wikidatawiki-20240220-pages-articles-multistream-index25.txt-p73085259p74585258.bz2: 0.00B [00:00, ?B…"
      ]
     },
     "metadata": {},
     "output_type": "display_data"
    },
    {
     "data": {
      "application/vnd.jupyter.widget-view+json": {
       "model_id": "4c984075932c46be8c5b582b4bf8ffbf",
       "version_major": 2,
       "version_minor": 0
      },
      "text/plain": [
       "Download wikidatawiki-20240220-pages-articles-multistream-index8.txt-p7838097p9338096.bz2: 0.00B [00:00, ?B/s]"
      ]
     },
     "metadata": {},
     "output_type": "display_data"
    },
    {
     "data": {
      "application/vnd.jupyter.widget-view+json": {
       "model_id": "f1b18c4269bd4ab4aa06f5f0ee3c5e5f",
       "version_major": 2,
       "version_minor": 0
      },
      "text/plain": [
       "Download wikidatawiki-20240220-pages-articles-multistream-index26.txt-p86298894p87798893.bz2: 0.00B [00:00, ?B…"
      ]
     },
     "metadata": {},
     "output_type": "display_data"
    },
    {
     "data": {
      "application/vnd.jupyter.widget-view+json": {
       "model_id": "54e879a7e5614bc285492878db634964",
       "version_major": 2,
       "version_minor": 0
      },
      "text/plain": [
       "Download wikidatawiki-20240220-pages-articles-multistream-index27.txt-p88185874p89685873.bz2: 0.00B [00:00, ?B…"
      ]
     },
     "metadata": {},
     "output_type": "display_data"
    },
    {
     "data": {
      "application/vnd.jupyter.widget-view+json": {
       "model_id": "0c03d6e904a040f480ae518e6220097b",
       "version_major": 2,
       "version_minor": 0
      },
      "text/plain": [
       "Download wikidatawiki-20240220-pages-articles-multistream-index24.txt-p60192699p61692698.bz2: 0.00B [00:00, ?B…"
      ]
     },
     "metadata": {},
     "output_type": "display_data"
    },
    {
     "data": {
      "application/vnd.jupyter.widget-view+json": {
       "model_id": "852c1a2df28e4740bddaaa92a6e7dbd7",
       "version_major": 2,
       "version_minor": 0
      },
      "text/plain": [
       "Download wikidatawiki-20240220-pages-articles-multistream-index27.txt-p91185874p92685873.bz2: 0.00B [00:00, ?B…"
      ]
     },
     "metadata": {},
     "output_type": "display_data"
    },
    {
     "data": {
      "application/vnd.jupyter.widget-view+json": {
       "model_id": "f60a17217268407688e755fc7e70a686",
       "version_major": 2,
       "version_minor": 0
      },
      "text/plain": [
       "Download wikidatawiki-20240220-pages-articles-multistream-index11.txt-p16236980p17670284.bz2: 0.00B [00:00, ?B…"
      ]
     },
     "metadata": {},
     "output_type": "display_data"
    },
    {
     "data": {
      "application/vnd.jupyter.widget-view+json": {
       "model_id": "1556d309039f49588aa26ae5f4e1cb1c",
       "version_major": 2,
       "version_minor": 0
      },
      "text/plain": [
       "Download wikidatawiki-20240220-pages-articles-multistream-index26.txt-p78798894p80298893.bz2: 0.00B [00:00, ?B…"
      ]
     },
     "metadata": {},
     "output_type": "display_data"
    },
    {
     "data": {
      "application/vnd.jupyter.widget-view+json": {
       "model_id": "65b590e697cb4d0b896e8e863d0e36d6",
       "version_major": 2,
       "version_minor": 0
      },
      "text/plain": [
       "Download wikidatawiki-20240220-pages-articles-multistream-index17.txt-p29578206p31078205.bz2: 0.00B [00:00, ?B…"
      ]
     },
     "metadata": {},
     "output_type": "display_data"
    },
    {
     "data": {
      "application/vnd.jupyter.widget-view+json": {
       "model_id": "8b28f216c3b64729bbdaad655d5855b9",
       "version_major": 2,
       "version_minor": 0
      },
      "text/plain": [
       "Download wikidatawiki-20240220-pages-articles-multistream-index27.txt-p113685874p115185873.bz2: 0.00B [00:00, …"
      ]
     },
     "metadata": {},
     "output_type": "display_data"
    },
    {
     "data": {
      "application/vnd.jupyter.widget-view+json": {
       "model_id": "989aa86f0cf9468f8af4c13c54940488",
       "version_major": 2,
       "version_minor": 0
      },
      "text/plain": [
       "Download wikidatawiki-20240220-pages-articles-multistream-index24.txt-p61692699p63192698.bz2: 0.00B [00:00, ?B…"
      ]
     },
     "metadata": {},
     "output_type": "display_data"
    },
    {
     "data": {
      "application/vnd.jupyter.widget-view+json": {
       "model_id": "7891ce6368d6442d94465c3ba98af5b1",
       "version_major": 2,
       "version_minor": 0
      },
      "text/plain": [
       "Download wikidatawiki-20240220-pages-articles-multistream-index5.txt-p3098447p4469004.bz2: 0.00B [00:00, ?B/s]"
      ]
     },
     "metadata": {},
     "output_type": "display_data"
    },
    {
     "data": {
      "application/vnd.jupyter.widget-view+json": {
       "model_id": "0c44f7b0eac3452889d2a74a1a0637e8",
       "version_major": 2,
       "version_minor": 0
      },
      "text/plain": [
       "Download wikidatawiki-20240220-pages-articles-multistream-index24.txt-p63192699p64692698.bz2: 0.00B [00:00, ?B…"
      ]
     },
     "metadata": {},
     "output_type": "display_data"
    },
    {
     "data": {
      "application/vnd.jupyter.widget-view+json": {
       "model_id": "efa2233df09949799d7f4a16a8f80ba1",
       "version_major": 2,
       "version_minor": 0
      },
      "text/plain": [
       "Download wikidatawiki-20240220-pages-articles-multistream-index18.txt-p33210877p34710876.bz2: 0.00B [00:00, ?B…"
      ]
     },
     "metadata": {},
     "output_type": "display_data"
    },
    {
     "data": {
      "application/vnd.jupyter.widget-view+json": {
       "model_id": "100f01be7bbf44dda430dc1fa8acc931",
       "version_major": 2,
       "version_minor": 0
      },
      "text/plain": [
       "Download wikidatawiki-20240220-pages-articles-multistream-index25.txt-p67085259p68585258.bz2: 0.00B [00:00, ?B…"
      ]
     },
     "metadata": {},
     "output_type": "display_data"
    },
    {
     "data": {
      "application/vnd.jupyter.widget-view+json": {
       "model_id": "65d7e2a21bb74ccd848af7520832718b",
       "version_major": 2,
       "version_minor": 0
      },
      "text/plain": [
       "Download wikidatawiki-20240220-pages-articles-multistream-index20.txt-p43222796p44722795.bz2: 0.00B [00:00, ?B…"
      ]
     },
     "metadata": {},
     "output_type": "display_data"
    },
    {
     "data": {
      "application/vnd.jupyter.widget-view+json": {
       "model_id": "886fde13270f4bdbaaf4af1723d5186d",
       "version_major": 2,
       "version_minor": 0
      },
      "text/plain": [
       "Download wikidatawiki-20240220-pages-articles-multistream-index7.txt-p6052572p7552571.bz2: 0.00B [00:00, ?B/s]"
      ]
     },
     "metadata": {},
     "output_type": "display_data"
    },
    {
     "data": {
      "application/vnd.jupyter.widget-view+json": {
       "model_id": "8dfd06f2a95f4cb586167faee5654fc2",
       "version_major": 2,
       "version_minor": 0
      },
      "text/plain": [
       "Download wikidatawiki-20240220-pages-articles-multistream-index27.txt-p115185874p116685873.bz2: 0.00B [00:00, …"
      ]
     },
     "metadata": {},
     "output_type": "display_data"
    },
    {
     "data": {
      "application/vnd.jupyter.widget-view+json": {
       "model_id": "e8d98853d6f24d55abc84318a2223309",
       "version_major": 2,
       "version_minor": 0
      },
      "text/plain": [
       "Download wikidatawiki-20240220-pages-articles-multistream-index27.txt-p112185874p113685873.bz2: 0.00B [00:00, …"
      ]
     },
     "metadata": {},
     "output_type": "display_data"
    },
    {
     "data": {
      "application/vnd.jupyter.widget-view+json": {
       "model_id": "fc2c1e7dabbb4a4d9ce710b7cd1db409",
       "version_major": 2,
       "version_minor": 0
      },
      "text/plain": [
       "Download wikidatawiki-20240220-pages-articles-multistream-index22.txt-p52190486p53690485.bz2: 0.00B [00:00, ?B…"
      ]
     },
     "metadata": {},
     "output_type": "display_data"
    },
    {
     "data": {
      "application/vnd.jupyter.widget-view+json": {
       "model_id": "36862e4aaeca44a09ab77e94480f1bec",
       "version_major": 2,
       "version_minor": 0
      },
      "text/plain": [
       "Download wikidatawiki-20240220-pages-articles-multistream-index27.txt-p92685874p94185873.bz2: 0.00B [00:00, ?B…"
      ]
     },
     "metadata": {},
     "output_type": "display_data"
    },
    {
     "data": {
      "application/vnd.jupyter.widget-view+json": {
       "model_id": "0897fcaf7b394f8c90496193c742cbf6",
       "version_major": 2,
       "version_minor": 0
      },
      "text/plain": [
       "Download wikidatawiki-20240220-pages-articles-multistream-index27.txt-p97185874p98685873.bz2: 0.00B [00:00, ?B…"
      ]
     },
     "metadata": {},
     "output_type": "display_data"
    },
    {
     "data": {
      "application/vnd.jupyter.widget-view+json": {
       "model_id": "94025883893b4e738421a57fab800743",
       "version_major": 2,
       "version_minor": 0
      },
      "text/plain": [
       "Download wikidatawiki-20240220-pages-articles-multistream-index23.txt-p55730033p57230032.bz2: 0.00B [00:00, ?B…"
      ]
     },
     "metadata": {},
     "output_type": "display_data"
    },
    {
     "data": {
      "application/vnd.jupyter.widget-view+json": {
       "model_id": "29db488823cf4477b6b80badfa4a37e4",
       "version_major": 2,
       "version_minor": 0
      },
      "text/plain": [
       "Download wikidatawiki-20240220-pages-articles-multistream-index18.txt-p31710877p33210876.bz2: 0.00B [00:00, ?B…"
      ]
     },
     "metadata": {},
     "output_type": "display_data"
    },
    {
     "data": {
      "application/vnd.jupyter.widget-view+json": {
       "model_id": "f497770ebb02411d9f28aa0e9d4c75b8",
       "version_major": 2,
       "version_minor": 0
      },
      "text/plain": [
       "Download wikidatawiki-20240220-pages-articles-multistream-index25.txt-p65585259p67085258.bz2: 0.00B [00:00, ?B…"
      ]
     },
     "metadata": {},
     "output_type": "display_data"
    },
    {
     "data": {
      "application/vnd.jupyter.widget-view+json": {
       "model_id": "b80f0ccd117c454bb09043149eedd9a5",
       "version_major": 2,
       "version_minor": 0
      },
      "text/plain": [
       "Download wikidatawiki-20240220-pages-articles-multistream-index9.txt-p11495801p12995800.bz2: 0.00B [00:00, ?B/…"
      ]
     },
     "metadata": {},
     "output_type": "display_data"
    },
    {
     "data": {
      "application/vnd.jupyter.widget-view+json": {
       "model_id": "518fa49a09e14ba48507be21044e5056",
       "version_major": 2,
       "version_minor": 0
      },
      "text/plain": [
       "Download wikidatawiki-20240220-pages-articles-multistream-index27.txt-p94185874p95685873.bz2: 0.00B [00:00, ?B…"
      ]
     },
     "metadata": {},
     "output_type": "display_data"
    },
    {
     "data": {
      "application/vnd.jupyter.widget-view+json": {
       "model_id": "bd32c9174059439190ea501a0c81f5e4",
       "version_major": 2,
       "version_minor": 0
      },
      "text/plain": [
       "Download wikidatawiki-20240220-pages-articles-multistream-index14.txt-p22836127p24336126.bz2: 0.00B [00:00, ?B…"
      ]
     },
     "metadata": {},
     "output_type": "display_data"
    },
    {
     "data": {
      "application/vnd.jupyter.widget-view+json": {
       "model_id": "5f06be903d10406aaa212db479c07c07",
       "version_major": 2,
       "version_minor": 0
      },
      "text/plain": [
       "Download wikidatawiki-20240220-pages-articles-multistream-index27.txt-p95685874p97185873.bz2: 0.00B [00:00, ?B…"
      ]
     },
     "metadata": {},
     "output_type": "display_data"
    },
    {
     "data": {
      "application/vnd.jupyter.widget-view+json": {
       "model_id": "0ee1041a1ac44956925bd7ac106d55f0",
       "version_major": 2,
       "version_minor": 0
      },
      "text/plain": [
       "Download wikidatawiki-20240220-pages-articles-multistream-index6.txt-p4469005p5969004.bz2: 0.00B [00:00, ?B/s]"
      ]
     },
     "metadata": {},
     "output_type": "display_data"
    },
    {
     "data": {
      "application/vnd.jupyter.widget-view+json": {
       "model_id": "476253ae452b483f921e3af92bbf93aa",
       "version_major": 2,
       "version_minor": 0
      },
      "text/plain": [
       "Download wikidatawiki-20240220-pages-articles-multistream-index13.txt-p19883158p21383157.bz2: 0.00B [00:00, ?B…"
      ]
     },
     "metadata": {},
     "output_type": "display_data"
    },
    {
     "data": {
      "application/vnd.jupyter.widget-view+json": {
       "model_id": "edb25d900cac44a3b42909ce22e9ee8e",
       "version_major": 2,
       "version_minor": 0
      },
      "text/plain": [
       "Download wikidatawiki-20240220-pages-articles-multistream-index12.txt-p17670285p19170284.bz2: 0.00B [00:00, ?B…"
      ]
     },
     "metadata": {},
     "output_type": "display_data"
    },
    {
     "data": {
      "application/vnd.jupyter.widget-view+json": {
       "model_id": "6844d1a8ab1a429892dfb0dc49325167",
       "version_major": 2,
       "version_minor": 0
      },
      "text/plain": [
       "Download wikidatawiki-20240220-pages-articles-multistream-index27.txt-p110685874p112185873.bz2: 0.00B [00:00, …"
      ]
     },
     "metadata": {},
     "output_type": "display_data"
    },
    {
     "data": {
      "application/vnd.jupyter.widget-view+json": {
       "model_id": "8c03501a39d846cf95b6d28cef38cac4",
       "version_major": 2,
       "version_minor": 0
      },
      "text/plain": [
       "Download wikidatawiki-20240220-pages-articles-multistream-index27.txt-p107685874p109185873.bz2: 0.00B [00:00, …"
      ]
     },
     "metadata": {},
     "output_type": "display_data"
    },
    {
     "data": {
      "application/vnd.jupyter.widget-view+json": {
       "model_id": "f1385a681f674441b2c14f90358b77b5",
       "version_major": 2,
       "version_minor": 0
      },
      "text/plain": [
       "Download wikidatawiki-20240220-pages-articles-multistream-index27.txt-p106185874p107685873.bz2: 0.00B [00:00, …"
      ]
     },
     "metadata": {},
     "output_type": "display_data"
    },
    {
     "data": {
      "application/vnd.jupyter.widget-view+json": {
       "model_id": "0471bec1d1374824a3ec65984be2b899",
       "version_major": 2,
       "version_minor": 0
      },
      "text/plain": [
       "Download wikidatawiki-20240220-pages-articles-multistream-index27.txt-p116685874p118185873.bz2: 0.00B [00:00, …"
      ]
     },
     "metadata": {},
     "output_type": "display_data"
    },
    {
     "data": {
      "application/vnd.jupyter.widget-view+json": {
       "model_id": "99e152743e8d4c249b92d5ccc0266b49",
       "version_major": 2,
       "version_minor": 0
      },
      "text/plain": [
       "Download wikidatawiki-20240220-pages-articles-multistream-index27.txt-p100185874p101685873.bz2: 0.00B [00:00, …"
      ]
     },
     "metadata": {},
     "output_type": "display_data"
    },
    {
     "data": {
      "application/vnd.jupyter.widget-view+json": {
       "model_id": "58aaa1ea1aac4f2dbb2488dc915c719c",
       "version_major": 2,
       "version_minor": 0
      },
      "text/plain": [
       "Download wikidatawiki-20240220-pages-articles-multistream-index27.txt-p103185874p104685873.bz2: 0.00B [00:00, …"
      ]
     },
     "metadata": {},
     "output_type": "display_data"
    },
    {
     "data": {
      "application/vnd.jupyter.widget-view+json": {
       "model_id": "dbec368ad53840ab85699445237b6c97",
       "version_major": 2,
       "version_minor": 0
      },
      "text/plain": [
       "Download wikidatawiki-20240220-pages-articles-multistream-index27.txt-p104685874p106185873.bz2: 0.00B [00:00, …"
      ]
     },
     "metadata": {},
     "output_type": "display_data"
    },
    {
     "data": {
      "application/vnd.jupyter.widget-view+json": {
       "model_id": "19aabdc24efe4656abf937a2d841f910",
       "version_major": 2,
       "version_minor": 0
      },
      "text/plain": [
       "Download wikidatawiki-20240220-pages-articles-multistream-index27.txt-p98685874p100185873.bz2: 0.00B [00:00, ?…"
      ]
     },
     "metadata": {},
     "output_type": "display_data"
    },
    {
     "data": {
      "application/vnd.jupyter.widget-view+json": {
       "model_id": "1ed9f24ea4f246b5863c515dbbf44762",
       "version_major": 2,
       "version_minor": 0
      },
      "text/plain": [
       "Download wikidatawiki-20240220-pages-articles-multistream-index27.txt-p101685874p103185873.bz2: 0.00B [00:00, …"
      ]
     },
     "metadata": {},
     "output_type": "display_data"
    },
    {
     "data": {
      "application/vnd.jupyter.widget-view+json": {
       "model_id": "23eb89b6d0ee49a3b6f15a5e887111b9",
       "version_major": 2,
       "version_minor": 0
      },
      "text/plain": [
       "Download wikidatawiki-20240220-pages-articles-multistream-index13.txt-p21383158p22836126.bz2: 0.00B [00:00, ?B…"
      ]
     },
     "metadata": {},
     "output_type": "display_data"
    },
    {
     "data": {
      "application/vnd.jupyter.widget-view+json": {
       "model_id": "3008a3da80bc4a7faa57e51c2e7754ad",
       "version_major": 2,
       "version_minor": 0
      },
      "text/plain": [
       "Download wikidatawiki-20240220-pages-articles-multistream-index27.txt-p109185874p110685873.bz2: 0.00B [00:00, …"
      ]
     },
     "metadata": {},
     "output_type": "display_data"
    },
    {
     "data": {
      "application/vnd.jupyter.widget-view+json": {
       "model_id": "9e3adcd99acb4b298bfb20f1e4b1d022",
       "version_major": 2,
       "version_minor": 0
      },
      "text/plain": [
       "Download wikidatawiki-20240220-pages-articles-multistream-index22.txt-p53690486p55190485.bz2: 0.00B [00:00, ?B…"
      ]
     },
     "metadata": {},
     "output_type": "display_data"
    },
    {
     "data": {
      "application/vnd.jupyter.widget-view+json": {
       "model_id": "4f2ee82b32e6422baaa16394599ff91c",
       "version_major": 2,
       "version_minor": 0
      },
      "text/plain": [
       "Download wikidatawiki-20240220-pages-articles-multistream8.xml-p10838097p11495800.bz2: 0.00B [00:00, ?B/s]"
      ]
     },
     "metadata": {},
     "output_type": "display_data"
    },
    {
     "data": {
      "application/vnd.jupyter.widget-view+json": {
       "model_id": "7b5df717e7864247a67981541e21fe8e",
       "version_major": 2,
       "version_minor": 0
      },
      "text/plain": [
       "Download wikidatawiki-20240220-pages-articles-multistream6.xml-p5969005p6052571.bz2: 0.00B [00:00, ?B/s]"
      ]
     },
     "metadata": {},
     "output_type": "display_data"
    },
    {
     "data": {
      "application/vnd.jupyter.widget-view+json": {
       "model_id": "ffa5e2555e8c49118d3fe2374b72ef62",
       "version_major": 2,
       "version_minor": 0
      },
      "text/plain": [
       "Download wikidatawiki-20240220-pages-articles-multistream7.xml-p7552572p7838096.bz2: 0.00B [00:00, ?B/s]"
      ]
     },
     "metadata": {},
     "output_type": "display_data"
    },
    {
     "data": {
      "application/vnd.jupyter.widget-view+json": {
       "model_id": "dda356486add48a4a40a9f5c990ed580",
       "version_major": 2,
       "version_minor": 0
      },
      "text/plain": [
       "Download wikidatawiki-20240220-pages-articles-multistream8.xml-p9338097p10838096.bz2: 0.00B [00:00, ?B/s]"
      ]
     },
     "metadata": {},
     "output_type": "display_data"
    },
    {
     "data": {
      "application/vnd.jupyter.widget-view+json": {
       "model_id": "05d4d195e08b448e9c9a5e555a9e6595",
       "version_major": 2,
       "version_minor": 0
      },
      "text/plain": [
       "Download wikidatawiki-20240220-pages-articles-multistream27.xml-p118185874p118772840.bz2: 0.00B [00:00, ?B/s]"
      ]
     },
     "metadata": {},
     "output_type": "display_data"
    },
    {
     "data": {
      "application/vnd.jupyter.widget-view+json": {
       "model_id": "c01fc3659a0c4bd78287972e975985a8",
       "version_major": 2,
       "version_minor": 0
      },
      "text/plain": [
       "Download wikidatawiki-20240220-pages-articles-multistream14.xml-p24336127p25024140.bz2: 0.00B [00:00, ?B/s]"
      ]
     },
     "metadata": {},
     "output_type": "display_data"
    },
    {
     "data": {
      "application/vnd.jupyter.widget-view+json": {
       "model_id": "cce5989e06524c049636f94515e50751",
       "version_major": 2,
       "version_minor": 0
      },
      "text/plain": [
       "Download wikidatawiki-20240220-pages-articles-multistream24.xml-p64692699p65585258.bz2: 0.00B [00:00, ?B/s]"
      ]
     },
     "metadata": {},
     "output_type": "display_data"
    },
    {
     "data": {
      "application/vnd.jupyter.widget-view+json": {
       "model_id": "92d4490b581246b1b950ec8f3815bc9b",
       "version_major": 2,
       "version_minor": 0
      },
      "text/plain": [
       "Download wikidatawiki-20240220-pages-articles-multistream10.xml-p15498368p16236979.bz2: 0.00B [00:00, ?B/s]"
      ]
     },
     "metadata": {},
     "output_type": "display_data"
    },
    {
     "data": {
      "application/vnd.jupyter.widget-view+json": {
       "model_id": "363bbfa5377f4435b92afd641cad8838",
       "version_major": 2,
       "version_minor": 0
      },
      "text/plain": [
       "Download wikidatawiki-20240220-pages-articles-multistream26.xml-p87798894p88185873.bz2: 0.00B [00:00, ?B/s]"
      ]
     },
     "metadata": {},
     "output_type": "display_data"
    },
    {
     "data": {
      "application/vnd.jupyter.widget-view+json": {
       "model_id": "496474da2ae245159cc4c54102a9dc35",
       "version_major": 2,
       "version_minor": 0
      },
      "text/plain": [
       "Download wikidatawiki-20240220-pages-articles-multistream9.xml-p12995801p13998367.bz2: 0.00B [00:00, ?B/s]"
      ]
     },
     "metadata": {},
     "output_type": "display_data"
    },
    {
     "data": {
      "application/vnd.jupyter.widget-view+json": {
       "model_id": "ced516e8f2a74675a2b621edae6f95a6",
       "version_major": 2,
       "version_minor": 0
      },
      "text/plain": [
       "Download wikidatawiki-20240220-pages-articles-multistream12.xml-p19170285p19883157.bz2: 0.00B [00:00, ?B/s]"
      ]
     },
     "metadata": {},
     "output_type": "display_data"
    },
    {
     "data": {
      "application/vnd.jupyter.widget-view+json": {
       "model_id": "2dea492d962a44e9ab931d67304db582",
       "version_major": 2,
       "version_minor": 0
      },
      "text/plain": [
       "Download wikidatawiki-20240220-pages-articles-multistream15.xml-p26524141p27066455.bz2: 0.00B [00:00, ?B/s]"
      ]
     },
     "metadata": {},
     "output_type": "display_data"
    },
    {
     "data": {
      "application/vnd.jupyter.widget-view+json": {
       "model_id": "0b0ead1760ca4867aa907c044db4c391",
       "version_major": 2,
       "version_minor": 0
      },
      "text/plain": [
       "Download wikidatawiki-20240220-pages-articles-multistream17.xml-p31078206p31710876.bz2: 0.00B [00:00, ?B/s]"
      ]
     },
     "metadata": {},
     "output_type": "display_data"
    },
    {
     "data": {
      "application/vnd.jupyter.widget-view+json": {
       "model_id": "daa875a15a1e43df81befbc643adfad0",
       "version_major": 2,
       "version_minor": 0
      },
      "text/plain": [
       "Download wikidatawiki-20240220-pages-articles-multistream21.xml-p50027041p50690485.bz2: 0.00B [00:00, ?B/s]"
      ]
     },
     "metadata": {},
     "output_type": "display_data"
    },
    {
     "data": {
      "application/vnd.jupyter.widget-view+json": {
       "model_id": "279e1b624b4741ab8fd014e1486d2b42",
       "version_major": 2,
       "version_minor": 0
      },
      "text/plain": [
       "Download wikidatawiki-20240220-pages-articles-multistream10.xml-p13998368p15498367.bz2: 0.00B [00:00, ?B/s]"
      ]
     },
     "metadata": {},
     "output_type": "display_data"
    },
    {
     "data": {
      "application/vnd.jupyter.widget-view+json": {
       "model_id": "0da987ae8a8444f5955f1b7ec838db01",
       "version_major": 2,
       "version_minor": 0
      },
      "text/plain": [
       "Download wikidatawiki-20240220-pages-articles-multistream16.xml-p27066456p28566455.bz2: 0.00B [00:00, ?B/s]"
      ]
     },
     "metadata": {},
     "output_type": "display_data"
    },
    {
     "data": {
      "application/vnd.jupyter.widget-view+json": {
       "model_id": "ea2571a3b6a14fa397252f209b580186",
       "version_major": 2,
       "version_minor": 0
      },
      "text/plain": [
       "Download wikidatawiki-20240220-pages-articles-multistream22.xml-p55190486p55730032.bz2: 0.00B [00:00, ?B/s]"
      ]
     },
     "metadata": {},
     "output_type": "display_data"
    },
    {
     "data": {
      "application/vnd.jupyter.widget-view+json": {
       "model_id": "d5285df6e4be4060a1786555660b03db",
       "version_major": 2,
       "version_minor": 0
      },
      "text/plain": [
       "Download wikidatawiki-20240220-pages-articles-multistream13.xml-p21383158p22836126.bz2: 0.00B [00:00, ?B/s]"
      ]
     },
     "metadata": {},
     "output_type": "display_data"
    },
    {
     "data": {
      "application/vnd.jupyter.widget-view+json": {
       "model_id": "5e475c6ec79b45499607c1d453af65b9",
       "version_major": 2,
       "version_minor": 0
      },
      "text/plain": [
       "Download wikidatawiki-20240220-pages-articles-multistream27.xml-p110685874p112185873.bz2: 0.00B [00:00, ?B/s]"
      ]
     },
     "metadata": {},
     "output_type": "display_data"
    },
    {
     "data": {
      "application/vnd.jupyter.widget-view+json": {
       "model_id": "0e631c3e5b0e4483b03496c8f3e8e8a5",
       "version_major": 2,
       "version_minor": 0
      },
      "text/plain": [
       "Download wikidatawiki-20240220-pages-articles-multistream18.xml-p33210877p34710876.bz2: 0.00B [00:00, ?B/s]"
      ]
     },
     "metadata": {},
     "output_type": "display_data"
    },
    {
     "data": {
      "application/vnd.jupyter.widget-view+json": {
       "model_id": "a2aabf1210c84baf9764928d107d6abd",
       "version_major": 2,
       "version_minor": 0
      },
      "text/plain": [
       "Download wikidatawiki-20240220-pages-articles-multistream13.xml-p19883158p21383157.bz2: 0.00B [00:00, ?B/s]"
      ]
     },
     "metadata": {},
     "output_type": "display_data"
    },
    {
     "data": {
      "application/vnd.jupyter.widget-view+json": {
       "model_id": "dced142d23b74d5c83e6617b9ac9a57e",
       "version_major": 2,
       "version_minor": 0
      },
      "text/plain": [
       "Download wikidatawiki-20240220-pages-articles-multistream8.xml-p7838097p9338096.bz2: 0.00B [00:00, ?B/s]"
      ]
     },
     "metadata": {},
     "output_type": "display_data"
    },
    {
     "data": {
      "application/vnd.jupyter.widget-view+json": {
       "model_id": "944b07e6588e4e038af18591ac7509b1",
       "version_major": 2,
       "version_minor": 0
      },
      "text/plain": [
       "Download wikidatawiki-20240220-pages-articles-multistream27.xml-p103185874p104685873.bz2: 0.00B [00:00, ?B/s]"
      ]
     },
     "metadata": {},
     "output_type": "display_data"
    },
    {
     "data": {
      "application/vnd.jupyter.widget-view+json": {
       "model_id": "7f7a5e84a6624617878a62755551d3cd",
       "version_major": 2,
       "version_minor": 0
      },
      "text/plain": [
       "Download wikidatawiki-20240220-pages-articles-multistream27.xml-p112185874p113685873.bz2: 0.00B [00:00, ?B/s]"
      ]
     },
     "metadata": {},
     "output_type": "display_data"
    },
    {
     "data": {
      "application/vnd.jupyter.widget-view+json": {
       "model_id": "4efc624df2e2479ab75c7e6ffa062223",
       "version_major": 2,
       "version_minor": 0
      },
      "text/plain": [
       "Download wikidatawiki-20240220-pages-articles-multistream27.xml-p116685874p118185873.bz2: 0.00B [00:00, ?B/s]"
      ]
     },
     "metadata": {},
     "output_type": "display_data"
    },
    {
     "data": {
      "application/vnd.jupyter.widget-view+json": {
       "model_id": "4c3636b3bc094434a8d2b5311e93ec7a",
       "version_major": 2,
       "version_minor": 0
      },
      "text/plain": [
       "Download wikidatawiki-20240220-pages-articles-multistream27.xml-p113685874p115185873.bz2: 0.00B [00:00, ?B/s]"
      ]
     },
     "metadata": {},
     "output_type": "display_data"
    },
    {
     "data": {
      "application/vnd.jupyter.widget-view+json": {
       "model_id": "691fc23f014f40a896ca51364bd6ab16",
       "version_major": 2,
       "version_minor": 0
      },
      "text/plain": [
       "Download wikidatawiki-20240220-pages-articles-multistream27.xml-p115185874p116685873.bz2: 0.00B [00:00, ?B/s]"
      ]
     },
     "metadata": {},
     "output_type": "display_data"
    },
    {
     "data": {
      "application/vnd.jupyter.widget-view+json": {
       "model_id": "b7efaeb07a3642d196270d288372548b",
       "version_major": 2,
       "version_minor": 0
      },
      "text/plain": [
       "Download wikidatawiki-20240220-pages-articles-multistream27.xml-p101685874p103185873.bz2: 0.00B [00:00, ?B/s]"
      ]
     },
     "metadata": {},
     "output_type": "display_data"
    },
    {
     "data": {
      "application/vnd.jupyter.widget-view+json": {
       "model_id": "1f99d1830dc3483f93632240fc87525b",
       "version_major": 2,
       "version_minor": 0
      },
      "text/plain": [
       "Download wikidatawiki-20240220-pages-articles-multistream25.xml-p74585259p75798893.bz2: 0.00B [00:00, ?B/s]"
      ]
     },
     "metadata": {},
     "output_type": "display_data"
    },
    {
     "data": {
      "application/vnd.jupyter.widget-view+json": {
       "model_id": "869b9eff69534af9ad7cb92cb06c470b",
       "version_major": 2,
       "version_minor": 0
      },
      "text/plain": [
       "Download wikidatawiki-20240220-pages-articles-multistream12.xml-p17670285p19170284.bz2: 0.00B [00:00, ?B/s]"
      ]
     },
     "metadata": {},
     "output_type": "display_data"
    },
    {
     "data": {
      "application/vnd.jupyter.widget-view+json": {
       "model_id": "f569ffcd999b40f08cd532ef3acf196a",
       "version_major": 2,
       "version_minor": 0
      },
      "text/plain": [
       "Download wikidatawiki-20240220-pages-articles-multistream27.xml-p109185874p110685873.bz2: 0.00B [00:00, ?B/s]"
      ]
     },
     "metadata": {},
     "output_type": "display_data"
    },
    {
     "data": {
      "application/vnd.jupyter.widget-view+json": {
       "model_id": "2a575d1c46f6443ab693416f1b03ae2f",
       "version_major": 2,
       "version_minor": 0
      },
      "text/plain": [
       "Download wikidatawiki-20240220-pages-articles-multistream9.xml-p11495801p12995800.bz2: 0.00B [00:00, ?B/s]"
      ]
     },
     "metadata": {},
     "output_type": "display_data"
    },
    {
     "data": {
      "application/vnd.jupyter.widget-view+json": {
       "model_id": "943bf6ac69164f998045dcd2852d1585",
       "version_major": 2,
       "version_minor": 0
      },
      "text/plain": [
       "Download wikidatawiki-20240220-pages-articles-multistream27.xml-p100185874p101685873.bz2: 0.00B [00:00, ?B/s]"
      ]
     },
     "metadata": {},
     "output_type": "display_data"
    },
    {
     "data": {
      "application/vnd.jupyter.widget-view+json": {
       "model_id": "c2e0b4119c6e4f1c9e09d5398060aa47",
       "version_major": 2,
       "version_minor": 0
      },
      "text/plain": [
       "Download wikidatawiki-20240220-pages-articles-multistream14.xml-p22836127p24336126.bz2: 0.00B [00:00, ?B/s]"
      ]
     },
     "metadata": {},
     "output_type": "display_data"
    },
    {
     "data": {
      "application/vnd.jupyter.widget-view+json": {
       "model_id": "152af1a40a0d43328d1730d616364e5e",
       "version_major": 2,
       "version_minor": 0
      },
      "text/plain": [
       "Download wikidatawiki-20240220-pages-articles-multistream27.xml-p107685874p109185873.bz2: 0.00B [00:00, ?B/s]"
      ]
     },
     "metadata": {},
     "output_type": "display_data"
    },
    {
     "data": {
      "application/vnd.jupyter.widget-view+json": {
       "model_id": "a9e8389888da46fea0beb8805bbb1dd4",
       "version_major": 2,
       "version_minor": 0
      },
      "text/plain": [
       "Download wikidatawiki-20240220-pages-articles-multistream24.xml-p61692699p63192698.bz2: 0.00B [00:00, ?B/s]"
      ]
     },
     "metadata": {},
     "output_type": "display_data"
    },
    {
     "data": {
      "application/vnd.jupyter.widget-view+json": {
       "model_id": "36556c228d6844849794592876a2d5c3",
       "version_major": 2,
       "version_minor": 0
      },
      "text/plain": [
       "Download wikidatawiki-20240220-pages-articles-multistream27.xml-p98685874p100185873.bz2: 0.00B [00:00, ?B/s]"
      ]
     },
     "metadata": {},
     "output_type": "display_data"
    },
    {
     "data": {
      "application/vnd.jupyter.widget-view+json": {
       "model_id": "98fe0e88569c411886c8194bfca70109",
       "version_major": 2,
       "version_minor": 0
      },
      "text/plain": [
       "Download wikidatawiki-20240220-pages-articles-multistream27.xml-p106185874p107685873.bz2: 0.00B [00:00, ?B/s]"
      ]
     },
     "metadata": {},
     "output_type": "display_data"
    },
    {
     "data": {
      "application/vnd.jupyter.widget-view+json": {
       "model_id": "7ab5f3e7afe94f3b9e2accd1ff3a60dc",
       "version_major": 2,
       "version_minor": 0
      },
      "text/plain": [
       "Download wikidatawiki-20240220-pages-articles-multistream24.xml-p60192699p61692698.bz2: 0.00B [00:00, ?B/s]"
      ]
     },
     "metadata": {},
     "output_type": "display_data"
    },
    {
     "data": {
      "application/vnd.jupyter.widget-view+json": {
       "model_id": "1c888ae52a8649b489cf2692d7e91c79",
       "version_major": 2,
       "version_minor": 0
      },
      "text/plain": [
       "Download wikidatawiki-20240220-pages-articles-multistream27.xml-p97185874p98685873.bz2: 0.00B [00:00, ?B/s]"
      ]
     },
     "metadata": {},
     "output_type": "display_data"
    },
    {
     "data": {
      "application/vnd.jupyter.widget-view+json": {
       "model_id": "3473d467c481428d8c3dccff339e20f7",
       "version_major": 2,
       "version_minor": 0
      },
      "text/plain": [
       "Download wikidatawiki-20240220-pages-articles-multistream27.xml-p104685874p106185873.bz2: 0.00B [00:00, ?B/s]"
      ]
     },
     "metadata": {},
     "output_type": "display_data"
    },
    {
     "data": {
      "application/vnd.jupyter.widget-view+json": {
       "model_id": "ad8c6ec4d5964a2f9f55059dccac0c7d",
       "version_major": 2,
       "version_minor": 0
      },
      "text/plain": [
       "Download wikidatawiki-20240220-pages-articles-multistream27.xml-p94185874p95685873.bz2: 0.00B [00:00, ?B/s]"
      ]
     },
     "metadata": {},
     "output_type": "display_data"
    },
    {
     "data": {
      "application/vnd.jupyter.widget-view+json": {
       "model_id": "ea46f31ef17e48d498ac5d2591d52856",
       "version_major": 2,
       "version_minor": 0
      },
      "text/plain": [
       "Download wikidatawiki-20240220-pages-articles-multistream11.xml-p16236980p17670284.bz2: 0.00B [00:00, ?B/s]"
      ]
     },
     "metadata": {},
     "output_type": "display_data"
    },
    {
     "data": {
      "application/vnd.jupyter.widget-view+json": {
       "model_id": "938232b36bb34c2cb75ccc5a286ecb1f",
       "version_major": 2,
       "version_minor": 0
      },
      "text/plain": [
       "Download wikidatawiki-20240220-pages-articles-multistream27.xml-p95685874p97185873.bz2: 0.00B [00:00, ?B/s]"
      ]
     },
     "metadata": {},
     "output_type": "display_data"
    },
    {
     "data": {
      "application/vnd.jupyter.widget-view+json": {
       "model_id": "0dfaf73e36824b37ab3c75f1d486bf34",
       "version_major": 2,
       "version_minor": 0
      },
      "text/plain": [
       "Download wikidatawiki-20240220-pages-articles-multistream25.xml-p65585259p67085258.bz2: 0.00B [00:00, ?B/s]"
      ]
     },
     "metadata": {},
     "output_type": "display_data"
    },
    {
     "data": {
      "application/vnd.jupyter.widget-view+json": {
       "model_id": "081018506b0644cf9754d53fab476aea",
       "version_major": 2,
       "version_minor": 0
      },
      "text/plain": [
       "Download wikidatawiki-20240220-pages-articles-multistream7.xml-p6052572p7552571.bz2: 0.00B [00:00, ?B/s]"
      ]
     },
     "metadata": {},
     "output_type": "display_data"
    },
    {
     "data": {
      "application/vnd.jupyter.widget-view+json": {
       "model_id": "936d4080ceb04e30a46e836a1cbea10e",
       "version_major": 2,
       "version_minor": 0
      },
      "text/plain": [
       "Download wikidatawiki-20240220-pages-articles-multistream15.xml-p25024141p26524140.bz2: 0.00B [00:00, ?B/s]"
      ]
     },
     "metadata": {},
     "output_type": "display_data"
    },
    {
     "data": {
      "application/vnd.jupyter.widget-view+json": {
       "model_id": "a9cfb19421504530b3df4df78212554e",
       "version_major": 2,
       "version_minor": 0
      },
      "text/plain": [
       "Download wikidatawiki-20240220-pages-articles-multistream20.xml-p44722796p45527040.bz2: 0.00B [00:00, ?B/s]"
      ]
     },
     "metadata": {},
     "output_type": "display_data"
    },
    {
     "data": {
      "application/vnd.jupyter.widget-view+json": {
       "model_id": "578a48e164b94d04abc149e72acd5251",
       "version_major": 2,
       "version_minor": 0
      },
      "text/plain": [
       "Download wikidatawiki-20240220-pages-articles-multistream27.xml-p92685874p94185873.bz2: 0.00B [00:00, ?B/s]"
      ]
     },
     "metadata": {},
     "output_type": "display_data"
    },
    {
     "data": {
      "application/vnd.jupyter.widget-view+json": {
       "model_id": "bddae36216854e5b965a99fb5adb65f0",
       "version_major": 2,
       "version_minor": 0
      },
      "text/plain": [
       "Download wikidatawiki-20240220-pages-articles-multistream16.xml-p28566456p29578205.bz2: 0.00B [00:00, ?B/s]"
      ]
     },
     "metadata": {},
     "output_type": "display_data"
    },
    {
     "data": {
      "application/vnd.jupyter.widget-view+json": {
       "model_id": "cd56edfa5f2e4b5e91459f3cbc2588c2",
       "version_major": 2,
       "version_minor": 0
      },
      "text/plain": [
       "Download wikidatawiki-20240220-pages-articles-multistream25.xml-p68585259p70085258.bz2: 0.00B [00:00, ?B/s]"
      ]
     },
     "metadata": {},
     "output_type": "display_data"
    },
    {
     "data": {
      "application/vnd.jupyter.widget-view+json": {
       "model_id": "082a72957ecd40a3a7a0406acd0eeae7",
       "version_major": 2,
       "version_minor": 0
      },
      "text/plain": [
       "Download wikidatawiki-20240220-pages-articles-multistream24.xml-p63192699p64692698.bz2: 0.00B [00:00, ?B/s]"
      ]
     },
     "metadata": {},
     "output_type": "display_data"
    },
    {
     "data": {
      "application/vnd.jupyter.widget-view+json": {
       "model_id": "7d566e98f56c426e8a206f23d49487d9",
       "version_major": 2,
       "version_minor": 0
      },
      "text/plain": [
       "Download wikidatawiki-20240220-pages-articles-multistream23.xml-p58730033p60192698.bz2: 0.00B [00:00, ?B/s]"
      ]
     },
     "metadata": {},
     "output_type": "display_data"
    },
    {
     "data": {
      "application/vnd.jupyter.widget-view+json": {
       "model_id": "5346d940cdbb422094d24887d8282d89",
       "version_major": 2,
       "version_minor": 0
      },
      "text/plain": [
       "Download wikidatawiki-20240220-pages-articles-multistream6.xml-p4469005p5969004.bz2: 0.00B [00:00, ?B/s]"
      ]
     },
     "metadata": {},
     "output_type": "display_data"
    },
    {
     "data": {
      "application/vnd.jupyter.widget-view+json": {
       "model_id": "4b3f1a59e2634009929bca192d43ae76",
       "version_major": 2,
       "version_minor": 0
      },
      "text/plain": [
       "Download wikidatawiki-20240220-pages-articles-multistream25.xml-p73085259p74585258.bz2: 0.00B [00:00, ?B/s]"
      ]
     },
     "metadata": {},
     "output_type": "display_data"
    },
    {
     "name": "stderr",
     "output_type": "stream",
     "text": [
      "\u001b[32m2024-06-27 08:13:29.770\u001b[0m | \u001b[1mINFO    \u001b[0m | \u001b[36mkgdata.misc.download\u001b[0m:\u001b[36mdownload\u001b[0m:\u001b[36m498\u001b[0m - \u001b[1mFile wikidatawiki-20240220-pages-articles-multistream4.xml-p2049642p3098446.bz2 exists but not marked as success. Redownload it\u001b[0m\n"
     ]
    },
    {
     "data": {
      "application/vnd.jupyter.widget-view+json": {
       "model_id": "fec7f7ed893e4ab492529c50dbb199c8",
       "version_major": 2,
       "version_minor": 0
      },
      "text/plain": [
       "Download wikidatawiki-20240220-pages-articles-multistream4.xml-p2049642p3098446.bz2: 0.00B [00:00, ?B/s]"
      ]
     },
     "metadata": {},
     "output_type": "display_data"
    },
    {
     "data": {
      "application/vnd.jupyter.widget-view+json": {
       "model_id": "b02cb897997b4318902003e6a560823b",
       "version_major": 2,
       "version_minor": 0
      },
      "text/plain": [
       "Download wikidatawiki-20240220-pages-articles-multistream25.xml-p67085259p68585258.bz2: 0.00B [00:00, ?B/s]"
      ]
     },
     "metadata": {},
     "output_type": "display_data"
    },
    {
     "data": {
      "application/vnd.jupyter.widget-view+json": {
       "model_id": "7373c464397c499293e64154072b7631",
       "version_major": 2,
       "version_minor": 0
      },
      "text/plain": [
       "Download wikidatawiki-20240220-pages-articles-multistream5.xml-p3098447p4469004.bz2: 0.00B [00:00, ?B/s]"
      ]
     },
     "metadata": {},
     "output_type": "display_data"
    },
    {
     "data": {
      "application/vnd.jupyter.widget-view+json": {
       "model_id": "b1ed5ba3ea714eee97a0ca6f6feab43c",
       "version_major": 2,
       "version_minor": 0
      },
      "text/plain": [
       "Download wikidatawiki-20240220-pages-articles-multistream26.xml-p81798894p83298893.bz2: 0.00B [00:00, ?B/s]"
      ]
     },
     "metadata": {},
     "output_type": "display_data"
    },
    {
     "data": {
      "application/vnd.jupyter.widget-view+json": {
       "model_id": "319c0061941d47a883963c9e9dd9f63a",
       "version_major": 2,
       "version_minor": 0
      },
      "text/plain": [
       "Download wikidatawiki-20240220-pages-articles-multistream26.xml-p84798894p86298893.bz2: 0.00B [00:00, ?B/s]"
      ]
     },
     "metadata": {},
     "output_type": "display_data"
    },
    {
     "data": {
      "application/vnd.jupyter.widget-view+json": {
       "model_id": "f71cc720855e4beaac2fae43beae1714",
       "version_major": 2,
       "version_minor": 0
      },
      "text/plain": [
       "Download wikidatawiki-20240220-pages-articles-multistream25.xml-p70085259p71585258.bz2: 0.00B [00:00, ?B/s]"
      ]
     },
     "metadata": {},
     "output_type": "display_data"
    },
    {
     "data": {
      "application/vnd.jupyter.widget-view+json": {
       "model_id": "3f0e539b258a4bb388956efef93a59b8",
       "version_major": 2,
       "version_minor": 0
      },
      "text/plain": [
       "Download wikidatawiki-20240220-pages-articles-multistream26.xml-p80298894p81798893.bz2: 0.00B [00:00, ?B/s]"
      ]
     },
     "metadata": {},
     "output_type": "display_data"
    },
    {
     "name": "stderr",
     "output_type": "stream",
     "text": [
      "\u001b[32m2024-06-27 08:34:15.934\u001b[0m | \u001b[1mINFO    \u001b[0m | \u001b[36mkgdata.misc.download\u001b[0m:\u001b[36mdownload\u001b[0m:\u001b[36m498\u001b[0m - \u001b[1mFile wikidatawiki-20240220-pages-articles-multistream3.xml-p1114932p2049641.bz2 exists but not marked as success. Redownload it\u001b[0m\n"
     ]
    },
    {
     "data": {
      "application/vnd.jupyter.widget-view+json": {
       "model_id": "64368666877048d9b274cc1cdcdf06c0",
       "version_major": 2,
       "version_minor": 0
      },
      "text/plain": [
       "Download wikidatawiki-20240220-pages-articles-multistream3.xml-p1114932p2049641.bz2: 0.00B [00:00, ?B/s]"
      ]
     },
     "metadata": {},
     "output_type": "display_data"
    },
    {
     "data": {
      "application/vnd.jupyter.widget-view+json": {
       "model_id": "1f8296d49c384a67a08e72253fcffdfb",
       "version_major": 2,
       "version_minor": 0
      },
      "text/plain": [
       "Download wikidatawiki-20240220-pages-articles-multistream26.xml-p78798894p80298893.bz2: 0.00B [00:00, ?B/s]"
      ]
     },
     "metadata": {},
     "output_type": "display_data"
    },
    {
     "data": {
      "application/vnd.jupyter.widget-view+json": {
       "model_id": "a119d8a0852444aba9679181767ddad2",
       "version_major": 2,
       "version_minor": 0
      },
      "text/plain": [
       "Download wikidatawiki-20240220-pages-articles-multistream26.xml-p83298894p84798893.bz2: 0.00B [00:00, ?B/s]"
      ]
     },
     "metadata": {},
     "output_type": "display_data"
    },
    {
     "data": {
      "application/vnd.jupyter.widget-view+json": {
       "model_id": "b3a48516b01740df86dbaaa3fcebd004",
       "version_major": 2,
       "version_minor": 0
      },
      "text/plain": [
       "Download wikidatawiki-20240220-pages-articles-multistream26.xml-p75798894p77298893.bz2: 0.00B [00:00, ?B/s]"
      ]
     },
     "metadata": {},
     "output_type": "display_data"
    },
    {
     "name": "stderr",
     "output_type": "stream",
     "text": [
      "\u001b[32m2024-06-27 08:42:31.903\u001b[0m | \u001b[1mINFO    \u001b[0m | \u001b[36mkgdata.misc.download\u001b[0m:\u001b[36mdownload\u001b[0m:\u001b[36m498\u001b[0m - \u001b[1mFile wikidatawiki-20240220-pages-articles-multistream1.xml-p1p441397.bz2 exists but not marked as success. Redownload it\u001b[0m\n"
     ]
    },
    {
     "data": {
      "application/vnd.jupyter.widget-view+json": {
       "model_id": "612792f52bda4cc1a35c264d308f3818",
       "version_major": 2,
       "version_minor": 0
      },
      "text/plain": [
       "Download wikidatawiki-20240220-pages-articles-multistream1.xml-p1p441397.bz2: 0.00B [00:00, ?B/s]"
      ]
     },
     "metadata": {},
     "output_type": "display_data"
    },
    {
     "data": {
      "application/vnd.jupyter.widget-view+json": {
       "model_id": "cd3e84deb53a4a5b9f3e53867c5148c2",
       "version_major": 2,
       "version_minor": 0
      },
      "text/plain": [
       "Download wikidatawiki-20240220-pages-articles-multistream25.xml-p71585259p73085258.bz2: 0.00B [00:00, ?B/s]"
      ]
     },
     "metadata": {},
     "output_type": "display_data"
    },
    {
     "data": {
      "application/vnd.jupyter.widget-view+json": {
       "model_id": "b2c62c60094a4820a3e21d40437cb91b",
       "version_major": 2,
       "version_minor": 0
      },
      "text/plain": [
       "Download wikidatawiki-20240220-pages-articles-multistream26.xml-p77298894p78798893.bz2: 0.00B [00:00, ?B/s]"
      ]
     },
     "metadata": {},
     "output_type": "display_data"
    },
    {
     "name": "stderr",
     "output_type": "stream",
     "text": [
      "\u001b[32m2024-06-27 08:50:31.629\u001b[0m | \u001b[1mINFO    \u001b[0m | \u001b[36mkgdata.misc.download\u001b[0m:\u001b[36mdownload\u001b[0m:\u001b[36m498\u001b[0m - \u001b[1mFile wikidatawiki-20240220-pages-articles-multistream2.xml-p441398p1114931.bz2 exists but not marked as success. Redownload it\u001b[0m\n"
     ]
    },
    {
     "data": {
      "application/vnd.jupyter.widget-view+json": {
       "model_id": "694c158a815a4a1498ee8c8827309b9e",
       "version_major": 2,
       "version_minor": 0
      },
      "text/plain": [
       "Download wikidatawiki-20240220-pages-articles-multistream2.xml-p441398p1114931.bz2: 0.00B [00:00, ?B/s]"
      ]
     },
     "metadata": {},
     "output_type": "display_data"
    },
    {
     "data": {
      "application/vnd.jupyter.widget-view+json": {
       "model_id": "d23637d3ce0141a09c8f54f57679c11c",
       "version_major": 2,
       "version_minor": 0
      },
      "text/plain": [
       "Download wikidatawiki-20240220-pages-articles-multistream18.xml-p31710877p33210876.bz2: 0.00B [00:00, ?B/s]"
      ]
     },
     "metadata": {},
     "output_type": "display_data"
    },
    {
     "data": {
      "application/vnd.jupyter.widget-view+json": {
       "model_id": "2c617b9fc5bf40bf8cd8f0825ae64be4",
       "version_major": 2,
       "version_minor": 0
      },
      "text/plain": [
       "Download wikidatawiki-20240220-pages-articles-multistream17.xml-p29578206p31078205.bz2: 0.00B [00:00, ?B/s]"
      ]
     },
     "metadata": {},
     "output_type": "display_data"
    },
    {
     "data": {
      "application/vnd.jupyter.widget-view+json": {
       "model_id": "d46ae4f821754de191b54218942856bc",
       "version_major": 2,
       "version_minor": 0
      },
      "text/plain": [
       "Download wikidatawiki-20240220-pages-articles-multistream23.xml-p55730033p57230032.bz2: 0.00B [00:00, ?B/s]"
      ]
     },
     "metadata": {},
     "output_type": "display_data"
    },
    {
     "data": {
      "application/vnd.jupyter.widget-view+json": {
       "model_id": "aa7763d59fe04997b70e23564da5dc34",
       "version_major": 2,
       "version_minor": 0
      },
      "text/plain": [
       "Download wikidatawiki-20240220-pages-articles-multistream23.xml-p57230033p58730032.bz2: 0.00B [00:00, ?B/s]"
      ]
     },
     "metadata": {},
     "output_type": "display_data"
    },
    {
     "data": {
      "application/vnd.jupyter.widget-view+json": {
       "model_id": "bca57e1ad43640be90df2810d3a613bc",
       "version_major": 2,
       "version_minor": 0
      },
      "text/plain": [
       "Download wikidatawiki-20240220-pages-articles-multistream26.xml-p86298894p87798893.bz2: 0.00B [00:00, ?B/s]"
      ]
     },
     "metadata": {},
     "output_type": "display_data"
    },
    {
     "data": {
      "application/vnd.jupyter.widget-view+json": {
       "model_id": "bd77d21b301e495b915ec86b6635e5a2",
       "version_major": 2,
       "version_minor": 0
      },
      "text/plain": [
       "Download wikidatawiki-20240220-pages-articles-multistream27.xml-p89685874p91185873.bz2: 0.00B [00:00, ?B/s]"
      ]
     },
     "metadata": {},
     "output_type": "display_data"
    },
    {
     "data": {
      "application/vnd.jupyter.widget-view+json": {
       "model_id": "141235e42f7d4650b4054733f52b5694",
       "version_major": 2,
       "version_minor": 0
      },
      "text/plain": [
       "Download wikidatawiki-20240220-pages-articles-multistream21.xml-p45527041p47027040.bz2: 0.00B [00:00, ?B/s]"
      ]
     },
     "metadata": {},
     "output_type": "display_data"
    },
    {
     "data": {
      "application/vnd.jupyter.widget-view+json": {
       "model_id": "3f84f4eb7ae64405ac7bab368defd124",
       "version_major": 2,
       "version_minor": 0
      },
      "text/plain": [
       "Download wikidatawiki-20240220-pages-articles-multistream22.xml-p50690486p52190485.bz2: 0.00B [00:00, ?B/s]"
      ]
     },
     "metadata": {},
     "output_type": "display_data"
    },
    {
     "data": {
      "application/vnd.jupyter.widget-view+json": {
       "model_id": "ab083275648249d4b70f75f01fe119d3",
       "version_major": 2,
       "version_minor": 0
      },
      "text/plain": [
       "Download wikidatawiki-20240220-pages-articles-multistream27.xml-p88185874p89685873.bz2: 0.00B [00:00, ?B/s]"
      ]
     },
     "metadata": {},
     "output_type": "display_data"
    },
    {
     "data": {
      "application/vnd.jupyter.widget-view+json": {
       "model_id": "2e522e52c1c442e6a8a1b9cf4feb7f0a",
       "version_major": 2,
       "version_minor": 0
      },
      "text/plain": [
       "Download wikidatawiki-20240220-pages-articles-multistream22.xml-p53690486p55190485.bz2: 0.00B [00:00, ?B/s]"
      ]
     },
     "metadata": {},
     "output_type": "display_data"
    },
    {
     "data": {
      "application/vnd.jupyter.widget-view+json": {
       "model_id": "e2b52b0b1eb74a029da2cc9328d08ecb",
       "version_major": 2,
       "version_minor": 0
      },
      "text/plain": [
       "Download wikidatawiki-20240220-pages-articles-multistream27.xml-p91185874p92685873.bz2: 0.00B [00:00, ?B/s]"
      ]
     },
     "metadata": {},
     "output_type": "display_data"
    },
    {
     "data": {
      "application/vnd.jupyter.widget-view+json": {
       "model_id": "cb6e7ae05cf642e6a410487f45761a48",
       "version_major": 2,
       "version_minor": 0
      },
      "text/plain": [
       "Download wikidatawiki-20240220-pages-articles-multistream22.xml-p52190486p53690485.bz2: 0.00B [00:00, ?B/s]"
      ]
     },
     "metadata": {},
     "output_type": "display_data"
    },
    {
     "data": {
      "application/vnd.jupyter.widget-view+json": {
       "model_id": "6e59a63b76824415b2875bfaf6a3918b",
       "version_major": 2,
       "version_minor": 0
      },
      "text/plain": [
       "Download wikidatawiki-20240220-pages-articles-multistream20.xml-p43222796p44722795.bz2: 0.00B [00:00, ?B/s]"
      ]
     },
     "metadata": {},
     "output_type": "display_data"
    },
    {
     "data": {
      "application/vnd.jupyter.widget-view+json": {
       "model_id": "e574e53699044631bb4a8e36ed152f7f",
       "version_major": 2,
       "version_minor": 0
      },
      "text/plain": [
       "Download wikidatawiki-20240220-pages-articles-multistream19.xml-p39053268p40222795.bz2: 0.00B [00:00, ?B/s]"
      ]
     },
     "metadata": {},
     "output_type": "display_data"
    },
    {
     "data": {
      "application/vnd.jupyter.widget-view+json": {
       "model_id": "d395511816ad4269a8a09c9ebda8a9fb",
       "version_major": 2,
       "version_minor": 0
      },
      "text/plain": [
       "Download wikidatawiki-20240220-pages-articles-multistream21.xml-p48527041p50027040.bz2: 0.00B [00:00, ?B/s]"
      ]
     },
     "metadata": {},
     "output_type": "display_data"
    },
    {
     "data": {
      "application/vnd.jupyter.widget-view+json": {
       "model_id": "9c695e3099a94db6912167046685938a",
       "version_major": 2,
       "version_minor": 0
      },
      "text/plain": [
       "Download wikidatawiki-20240220-pages-articles-multistream21.xml-p47027041p48527040.bz2: 0.00B [00:00, ?B/s]"
      ]
     },
     "metadata": {},
     "output_type": "display_data"
    },
    {
     "data": {
      "application/vnd.jupyter.widget-view+json": {
       "model_id": "6dc656a18b4d47bcbcb1de598d303c96",
       "version_major": 2,
       "version_minor": 0
      },
      "text/plain": [
       "Download wikidatawiki-20240220-pages-articles-multistream20.xml-p41722796p43222795.bz2: 0.00B [00:00, ?B/s]"
      ]
     },
     "metadata": {},
     "output_type": "display_data"
    },
    {
     "data": {
      "application/vnd.jupyter.widget-view+json": {
       "model_id": "bf67a26eeeea4e00b6e23d0b8c3af019",
       "version_major": 2,
       "version_minor": 0
      },
      "text/plain": [
       "Download wikidatawiki-20240220-pages-articles-multistream20.xml-p40222796p41722795.bz2: 0.00B [00:00, ?B/s]"
      ]
     },
     "metadata": {},
     "output_type": "display_data"
    },
    {
     "data": {
      "application/vnd.jupyter.widget-view+json": {
       "model_id": "575194ebd57f4e548fa00ff5e3374f33",
       "version_major": 2,
       "version_minor": 0
      },
      "text/plain": [
       "Download wikidatawiki-20240220-pages-articles-multistream19.xml-p36053268p37553267.bz2: 0.00B [00:00, ?B/s]"
      ]
     },
     "metadata": {},
     "output_type": "display_data"
    },
    {
     "data": {
      "application/vnd.jupyter.widget-view+json": {
       "model_id": "5205ef4822124adfa73ef267b279b23c",
       "version_major": 2,
       "version_minor": 0
      },
      "text/plain": [
       "Download wikidatawiki-20240220-pages-articles-multistream18.xml-p34710877p36053267.bz2: 0.00B [00:00, ?B/s]"
      ]
     },
     "metadata": {},
     "output_type": "display_data"
    },
    {
     "data": {
      "application/vnd.jupyter.widget-view+json": {
       "model_id": "2b02e6b42674432abd0ea1992dc9fab0",
       "version_major": 2,
       "version_minor": 0
      },
      "text/plain": [
       "Download wikidatawiki-20240220-pages-articles-multistream19.xml-p37553268p39053267.bz2: 0.00B [00:00, ?B/s]"
      ]
     },
     "metadata": {},
     "output_type": "display_data"
    }
   ],
   "source": [
    "b = 3\n",
    "for i in range(0, len(jobs), b):\n",
    "    with WGet.start() as wget:\n",
    "        for url, outfile in jobs[i : i + b]:\n",
    "            wget.download(url, outfile)\n",
    "        wget.monitor()"
   ]
  },
  {
   "cell_type": "markdown",
   "id": "9ec0c028",
   "metadata": {},
   "source": [
    "convert bz2 to zst in parallel for faster decompressing"
   ]
  },
  {
   "cell_type": "code",
   "execution_count": null,
   "id": "3b74a6c3-8238-433d-8a82-e2dc5a16a9b8",
   "metadata": {},
   "outputs": [],
   "source": [
    "lbzip2 -cd wikidata-20240101-all.json.bz2 | zstd -9 -o wikidata-20240101-all.json.zst"
   ]
  },
  {
   "cell_type": "markdown",
   "id": "3470e06f",
   "metadata": {},
   "source": [
    "or you can split the big file by lines directly"
   ]
  },
  {
   "cell_type": "markdown",
   "id": "22b2964b",
   "metadata": {},
   "source": [
    "lbzip2 -cd ../../000_dumps/wikidata-20220521-truthy.nt.bz2 | split -d -l1000000 --suffix-length 5 --filter 'zstd -q -6 -o $FILE.zst' - part-"
   ]
  }
 ],
 "metadata": {
  "kernelspec": {
   "display_name": "resm-nas01",
   "language": "python",
   "name": "resm-nas01"
  }
 },
 "nbformat": 4,
 "nbformat_minor": 5
}
