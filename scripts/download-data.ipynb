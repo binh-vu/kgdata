{
 "cells": [
  {
   "attachments": {},
   "cell_type": "markdown",
   "id": "93a96a34-efdf-44b8-9106-e87c8033d1da",
   "metadata": {},
   "source": [
    "## ⬇ Download dumps from knowledge graphs"
   ]
  },
  {
   "attachments": {},
   "cell_type": "markdown",
   "id": "7ace9139-33c2-4c5a-a9c4-e7e198c06d8f",
   "metadata": {},
   "source": [
    "### ⚙ Setting the required parameters\n",
    "\n",
    "First, we define the locations where we should put the dumps to"
   ]
  },
  {
   "cell_type": "code",
   "execution_count": 1,
   "id": "7b7128b3-ab65-43c7-b228-824a039e6515",
   "metadata": {},
   "outputs": [],
   "source": [
    "WIKIDATA_DIR = \"/data/binhvu/research-data/wikidata\"\n",
    "WIKIPEDIA_DIR = \"/data/binhvu/research-data/wikidata\""
   ]
  },
  {
   "attachments": {},
   "cell_type": "markdown",
   "id": "5302ed04-58de-484e-b3a8-077061821b58",
   "metadata": {},
   "source": [
    "Then, we run the following cells to automatically fetch available dumps from the knowledge graphs. At the end, it allows us to set the `SELECTED_DUMP_DATE` variable to specify which dump we want to download."
   ]
  },
  {
   "cell_type": "code",
   "execution_count": 2,
   "id": "9c5fcfc2-a961-4780-892e-4bca7a0de15f",
   "metadata": {},
   "outputs": [
    {
     "data": {
      "application/vnd.jupyter.widget-view+json": {
       "model_id": "59dc346fc4b94f8ab01389732984dd4d",
       "version_major": 2,
       "version_minor": 0
      },
      "text/plain": [
       "fetch information: 0it [00:00, ?it/s]"
      ]
     },
     "metadata": {},
     "output_type": "display_data"
    }
   ],
   "source": [
    "from tqdm.auto import tqdm\n",
    "import ipywidgets as widgets, datetime\n",
    "from functools import partial\n",
    "from kgdata.misc.download import WikidataDump, WikipediaDump, WGet\n",
    "\n",
    "wikidata = WikidataDump()\n",
    "wikipedia = WikipediaDump()\n",
    "with tqdm(desc=\"fetch information\") as pbar:\n",
    "    wikidata.fetch(pbar=pbar)\n",
    "    wikipedia.fetch(pbar=pbar)"
   ]
  },
  {
   "cell_type": "code",
   "execution_count": 3,
   "id": "d84f52a4",
   "metadata": {},
   "outputs": [
    {
     "data": {
      "application/vnd.jupyter.widget-view+json": {
       "model_id": "7a5cffeb59d444069e19e53b2025e790",
       "version_major": 2,
       "version_minor": 0
      },
      "text/plain": [
       "HBox(children=(Button(description='2023-06-19', style=ButtonStyle()), Button(description='2023-05-29', style=B…"
      ]
     },
     "metadata": {},
     "output_type": "display_data"
    },
    {
     "data": {
      "application/vnd.jupyter.widget-view+json": {
       "model_id": "ab7ef4acb5984527a6c54c07fa7d3fcf",
       "version_major": 2,
       "version_minor": 0
      },
      "text/plain": [
       "Output()"
      ]
     },
     "metadata": {},
     "output_type": "display_data"
    }
   ],
   "source": [
    "dates, explanation = wikidata.list_dates(wikipedia)\n",
    "selected_date = dates[0]\n",
    "\n",
    "control = []\n",
    "output = widgets.Output()\n",
    "\n",
    "defaultbtn = widgets.Button()\n",
    "selectedbtn = widgets.Button()\n",
    "selectedbtn.style.button_color = 'lightblue'  # type: ignore\n",
    "\n",
    "def click(btn, date):\n",
    "    global selected_date\n",
    "    selected_date = date\n",
    "\n",
    "    btn.style = selectedbtn.style\n",
    "    for obtn in control:\n",
    "        if obtn is not btn:\n",
    "            obtn.style = defaultbtn.style\n",
    "    with output:\n",
    "        output.clear_output()\n",
    "        print(\"Date:\", date.isoformat(), \"Score:\", explanation[date]['total'])\n",
    "        print(f\"  + Self Score:\", explanation[date]['self']['score'])\n",
    "        for name, mostsimilar in explanation[date]['self']['explanation'].items():\n",
    "            print(f\"    - {name}: {mostsimilar}\")\n",
    "        print(f\"  + Other Score:\", explanation[date]['others']['score'])\n",
    "        for name, mostsimilar in explanation[date]['others']['explanation'].items():\n",
    "            print(f\"    - {name}: {mostsimilar}\")\n",
    "\n",
    "for date in dates:\n",
    "    btn = widgets.Button(description=date.isoformat())\n",
    "    btn.on_click(partial(click, date=date))\n",
    "    control.append(btn)\n",
    "display(widgets.HBox(control))\n",
    "display(output)\n",
    "\n",
    "click(control[0], dates[0])"
   ]
  },
  {
   "cell_type": "code",
   "execution_count": 4,
   "id": "b3a39dfc",
   "metadata": {},
   "outputs": [
    {
     "name": "stdout",
     "output_type": "stream",
     "text": [
      "Selected date: 2023-06-19\n"
     ]
    }
   ],
   "source": [
    "# set the selected date from the selected button, or you can manually set it to the date you want\n",
    "# SELECTED_DUMP_DATE = selected_date\n",
    "SELECTED_DUMP_DATE = datetime.date(2023, 6, 19)\n",
    "print(\"Selected date:\", SELECTED_DUMP_DATE.isoformat())"
   ]
  },
  {
   "attachments": {},
   "cell_type": "markdown",
   "id": "47b9bcb4-39b9-431c-8dbd-d0f708b71e53",
   "metadata": {},
   "source": [
    "### 🗄 Wikidata"
   ]
  },
  {
   "attachments": {},
   "cell_type": "markdown",
   "id": "81592308",
   "metadata": {},
   "source": [
    "List the files that we are going to download"
   ]
  },
  {
   "cell_type": "code",
   "execution_count": 5,
   "id": "0bf19885",
   "metadata": {},
   "outputs": [
    {
     "data": {
      "text/plain": [
       "[DumpFile(date=datetime.date(2023, 6, 19), url='https://dumps.wikimedia.org/wikidatawiki/entities/20230619/wikidata-20230619-all.json.gz'),\n",
       " DumpFile(date=datetime.date(2023, 6, 20), url='https://dumps.wikimedia.org/wikidatawiki/20230620/wikidatawiki-20230620-page.sql.gz'),\n",
       " DumpFile(date=datetime.date(2023, 6, 20), url='https://dumps.wikimedia.org/wikidatawiki/20230620/wikidatawiki-20230620-redirect.sql.gz')]"
      ]
     },
     "execution_count": 5,
     "metadata": {},
     "output_type": "execute_result"
    }
   ],
   "source": [
    "wd_files = wikidata.list_files(SELECTED_DUMP_DATE)\n",
    "wd_files"
   ]
  },
  {
   "cell_type": "code",
   "execution_count": 6,
   "id": "eceb23a2-98fa-41fd-b297-74414e773541",
   "metadata": {},
   "outputs": [],
   "source": [
    "wdjobs = wikidata.create_download_jobs(wd_files, WIKIDATA_DIR)"
   ]
  },
  {
   "attachments": {},
   "cell_type": "markdown",
   "id": "84a0b7c0",
   "metadata": {},
   "source": [
    "### 🗄 Wikipedia"
   ]
  },
  {
   "cell_type": "code",
   "execution_count": 7,
   "id": "7cd579aa",
   "metadata": {},
   "outputs": [
    {
     "data": {
      "text/plain": [
       "[DumpFile(date=datetime.date(2023, 6, 20), url='https://dumps.wikimedia.org/other/enterprise_html/runs/20230620/enwiki-NS0-20230620-ENTERPRISE-HTML.json.tar.gz')]"
      ]
     },
     "execution_count": 7,
     "metadata": {},
     "output_type": "execute_result"
    }
   ],
   "source": [
    "wp_files = wikipedia.list_files(SELECTED_DUMP_DATE)\n",
    "wp_files"
   ]
  },
  {
   "cell_type": "code",
   "execution_count": 8,
   "id": "63c65e42",
   "metadata": {},
   "outputs": [],
   "source": [
    "wpjobs = wikipedia.create_download_jobs(wp_files, WIKIPEDIA_DIR)"
   ]
  },
  {
   "attachments": {},
   "cell_type": "markdown",
   "id": "d9176f3a",
   "metadata": {},
   "source": [
    "### 💾 Download the data"
   ]
  },
  {
   "cell_type": "code",
   "execution_count": 9,
   "id": "39cdeb3b",
   "metadata": {},
   "outputs": [
    {
     "data": {
      "application/vnd.jupyter.widget-view+json": {
       "model_id": "87639e0ebaa34487ad38d90e0cddba32",
       "version_major": 2,
       "version_minor": 0
      },
      "text/plain": [
       "Download wikidata-20230619-all.json.gz: 0.00B [00:00, ?B/s]"
      ]
     },
     "metadata": {},
     "output_type": "display_data"
    },
    {
     "data": {
      "application/vnd.jupyter.widget-view+json": {
       "model_id": "3d2641b764554481a0ac211aae08ce56",
       "version_major": 2,
       "version_minor": 0
      },
      "text/plain": [
       "Download wikidatawiki-20230620-page.sql.gz: 0.00B [00:00, ?B/s]"
      ]
     },
     "metadata": {},
     "output_type": "display_data"
    },
    {
     "name": "stderr",
     "output_type": "stream",
     "text": [
      "2023-06-30 08:52:45.815 | INFO     | kgdata.misc.download:download:409 - Skip download wikidatawiki-20230620-redirect.sql.gz because it already exists\n"
     ]
    },
    {
     "data": {
      "application/vnd.jupyter.widget-view+json": {
       "model_id": "0961657f4e944e1883df1bd03c2f9f38",
       "version_major": 2,
       "version_minor": 0
      },
      "text/plain": [
       "Download enwiki-NS0-20230620-ENTERPRISE-HTML.json.tar.gz: 0.00B [00:00, ?B/s]"
      ]
     },
     "metadata": {},
     "output_type": "display_data"
    },
    {
     "name": "stderr",
     "output_type": "stream",
     "text": [
      "2023-06-30 23:58:42.872 | ERROR    | kgdata.misc.download:on_job_finish:471 - [PID=59378] Error while downloading URL: https://dumps.wikimedia.org/wikidatawiki/entities/20230619/wikidata-20230619-all.json.gz.\n",
      "Reason: Unknown.\n",
      "Recent output:\n",
      "103980250K .......... .......... .......... .......... .......... 84% 2.94M 80m21s\n",
      "103980300K .......... .......... .......... .......... .......... 84% 82.2M 80m18s\n",
      "103980350K .......... .......... .......... .......... .......... 84% 3.77M 80m18s\n",
      "103980400K .......... .......... .......... .......... .......... 84% 3.66M 80m18s\n",
      "103980450K .......... .......... .......... .......... .......... 84% 3.78M 80m18s\n",
      "103980500K .......... .......... .......... .......... .......... 84% 89.0M 80m15s\n",
      "103980550K .......... .......... .......... .......... .......... 84% 3.30M 80m16s\n",
      "103980600K .......... .......... .......... .......... .......... 84% 3.49M 80m16s\n",
      "103980650K .......... .......... .......... .......... .......... 84% 3.28M 80m16s\n",
      "103980700K .......... .......... .......... .......... .......... 84% 2.72M 80m17s\n",
      "103980750K .......... .......... .......... .......... .......... 84% 82.6M 80m15s\n",
      "103980800K .......... .......... .......... .......... .......... 84% 2.59M 80m16s\n",
      "103980850K .......... .......... .......... .......... .......... 84% 2.72M 80m17s\n",
      "103980900K .......... .......... .......... .......... .......... 84% 2.62M 80m18s\n",
      "103980950K .......... .......... .......... .......... .......... 84% 84.7M 80m15s\n",
      "103981000K .......... .......... .......... .......... .......... 84% 2.80M 80m16s\n",
      "103981050K .......... .......... .......... .......... .......... 84% 2.59M 80m18s\n",
      "103981100K .......... .......... .......... .......... .......... 84% 3.35M 80m18s\n",
      "103981150K .......... .......... .......... .......... .......... 84% 3.98M 80m18s\n",
      "103981200K .......... .......... .......... .......... .......... 84%  108M 80m15s\n",
      "103981250K .......... .......... .......... .......... .......... 84% 3.32M 80m15s\n",
      "103981300K .......... .......... .......... .......... .......... 84% 1.41M 80m20s\n",
      "103981350K .......... .......... .......... .......... .......... 84% 8.45M 80m19s\n",
      "103981400K .......... .......... .......... .......... .......... 84% 87.5M 80m16s\n",
      "103981450K .......... .......... .......... .......... .......... 84% 3.10M 80m16s\n",
      "103981500K .......... .......... .......... .......... .......... 84% 2.76M 80m18s\n",
      "103981550K .......... .......... .......... .......... .......... 84% 2.61M 80m19s\n",
      "103981600K .......... .......... .......... .......... .......... 84% 2.76M 80m20s\n",
      "103981650K .......... .......... .......... .......... .......... 84% 75.7M 80m17s\n",
      "103981700K .......... .......... .......... .......... .......... 84% 4.25M 80m17s\n",
      "103981750K .......... .......... .......... .......... .......... 84% 3.48M 80m17s\n",
      "103981800K .......... .......... .......... .......... .......... 84% 2.60M 80m18s\n",
      "103981850K .......... .......... .......... .......... .......... 84% 2.77M 80m19s\n",
      "103981900K .......... .......... .......... .......... .......... 84% 84.5M 80m16s\n",
      "103981950K .......... .......... .......... .......... .......... 84% 2.62M 80m18s\n",
      "103982000K .......... .......... .......... .......... .......... 84% 2.79M 80m19s\n",
      "103982050K .......... .......... .......... .......... .......... 84% 2.56M 80m20s\n",
      "103982100K .......... .......... .......... .......... .......... 84% 90.8M 80m17s\n",
      "103982150K .......... .......... .......... .......... .......... 84% 3.33M 80m18s\n",
      "103982200K .......... .......... .......... .......... .......... 84% 4.13M 80m17s\n",
      "103982250K .......... .......... .......... .......... .......... 84% 2.77M 80m18s\n",
      "103982300K .......... .......... .......... .......... .......... 84% 2.59M 80m20s\n",
      "103982350K .......... .......... .......... .......... .......... 84% 99.5M 80m17s\n",
      "103982400K .......... .......... .......... .......... .......... 84% 2.80M 80m18s\n",
      "103982450K .......... .......... .......... .......... .......... 84% 58.3  2d7h\n",
      "103982500K .......... .......... .......... .......... .......... 84% 84.5M 2d7h\n",
      "103982550K .......... .......... .......... .......... .......... 84% 87.0M 2d7h\n",
      "103982600K .......... .......... .......... .......... .......... 84% 92.7M 2d7h\n",
      "103982650K .......... .......... .......... .......... .......... 84% 82.9M 2d7h\n",
      "103982700K .......... .......... .......... .......... .......... 84%  101M 2d7h\n",
      "103982750K .......... .......... .......... .......... .......... 84% 99.2M 2d7h\n",
      "103982800K .......... .......... .......... .......... .......... 84% 98.4M 2d7h\n",
      "103982850K .......... .......... .......... .......... .......... 84% 89.7M 2d7h\n",
      "103982900K .......... .......... .......... .......... .......... 84%  101M 2d7h\n",
      "103982950K .......... .......... .......... .......... .......... 84% 96.2M 2d7h\n",
      "103983000K .......... .......... .......... .......... .......... 84% 97.6M 2d7h\n",
      "103983050K .......... .......... .......... .......... .......... 84% 79.8M 2d7h\n",
      "103983100K .......... .......... .......... .......... .......... 84%  100M 2d7h\n",
      "103983150K .......... .......... .......... .......... .......... 84%  102M 2d7h\n",
      "103983200K .......... .......... .......... .......... .......... 84% 96.2M 2d7h\n",
      "103983250K .......... .......... .......... .......... .......... 84% 89.0M 2d7h\n",
      "103983300K .......... .......... .......... .......... .......... 84% 98.2M 2d7h\n",
      "103983350K .......... .......... .......... .......... .......... 84% 96.6M 2d7h\n",
      "103983400K .......... .......... .......... .......... .......... 84% 96.9M 2d7h\n",
      "103983450K .......... .......... .......... .......... .......... 84% 82.3M 2d6h\n",
      "103983500K .......... .......... .......... .......... .......... 84% 97.7M 2d6h\n",
      "103983550K .......... .......... .......... .......... .......... 84% 98.1M 2d6h\n",
      "103983600K .......... .......... .......... .......... .......... 84% 96.8M 2d6h\n",
      "103983650K .......... .......... .......... .......... .......... 84% 88.3M 2d6h\n",
      "103983700K .......... .......... .......... .......... .......... 84%  101M 2d6h\n",
      "103983750K .......... .......... .......... .......... .......... 84%  102M 2d6h\n",
      "103983800K .......... .......... .......... .......... .......... 84%  106M 2d6h\n",
      "103983850K .......... .......... .......... .......... .......... 84% 85.5M 2d6h\n",
      "103983900K .......... .......... .......... .......... .......... 84%  102M 2d6h\n",
      "103983950K .......... .......... .......... .......... .......... 84%  102M 2d6h\n",
      "103984000K .......... .......... .......... .......... .......... 84%  102M 2d6h\n",
      "103984050K .......... .......... .......... .......... .......... 84% 91.2M 2d6h\n",
      "103984100K .......... .......... .......... .......... .......... 84%  101M 2d6h\n",
      "103984150K .......... .......... .......... .......... .......... 84%  104M 2d6h\n",
      "103984200K .......... .......... .......... .......... .......... 84%  102M 2d6h\n",
      "103984250K .......... .......... .......... .......... .......... 84% 90.9M 2d6h\n",
      "103984300K .......... .......... .......... .......... .......... 84%  108M 2d6h\n",
      "103984350K .......... .......... .......... .......... .......... 84%  109M 2d6h\n",
      "103984400K .......... .......... .......... .......... .......... 84%  110M 2d6h\n",
      "103984450K .......... .......... .......... .......... .......... 84% 97.0M 2d6h\n",
      "103984500K .......... .......... .......... .......... .......... 84%  107M 2d6h\n",
      "103984550K .......... .......... .......... .......... .......... 84%  108M 2d6h\n",
      "103984600K .......... .......... .......... .......... .......... 84%  110M 2d6h\n",
      "103984650K .......... .......... .......... .......... .......... 84% 90.6M 2d6h\n",
      "103984700K .......... .......... .......... .......... .......... 84%  104M 2d6h\n",
      "103984750K .......... .......... .......... .......... .......... 84% 98.5M 2d6h\n",
      "103984800K .......... .......... .......... .......... .......... 84%  104M 2d6h\n",
      "103984850K .......... .......... .......... .......... .......... 84% 97.0M 2d6h\n",
      "103984900K .......... .......... .......... .......... .......... 84%  111M 2d6h\n",
      "103984950K .......... .......... .......... .......... .......... 84%  114M 2d6h\n",
      "103985000K .......... .......... .......... .......... .......... 84% 4.53K 2d6h\n",
      "103985050K .......... .......... .......... .......... .......... 84% 71.3M 2d6h\n",
      "103985100K .......... .......... .......... .......... .......... 84% 84.2M 2d6h\n",
      "103985150K .......... .......... .......... .......... ....       84% 99.6M=15m12s\n",
      "2023-06-30 23:58:42 (94.5 KB/s) - Read error at byte 106480839273/125479688579 (Success). Giving up.\n"
     ]
    },
    {
     "name": "stdout",
     "output_type": "stream",
     "text": [
      "Unexpected exception formatting exception. Falling back to standard exception\n"
     ]
    },
    {
     "name": "stderr",
     "output_type": "stream",
     "text": [
      "Traceback (most recent call last):\n",
      "  File \"/data/binhvu/gramsplus/.venv/lib/python3.11/site-packages/IPython/core/interactiveshell.py\", line 3508, in run_code\n",
      "    exec(code_obj, self.user_global_ns, self.user_ns)\n",
      "  File \"/tmp/ipykernel_59346/2763304524.py\", line 5, in <module>\n",
      "    wget.monitor()\n",
      "  File \"/data/binhvu/gramsplus/libraries/kgdata/kgdata/misc/download.py\", line 448, in monitor\n",
      "  File \"/data/binhvu/gramsplus/libraries/kgdata/kgdata/misc/download.py\", line 477, in on_job_finish\n",
      "    def is_successful_downloaded(self, outfile: Path) -> bool:\n",
      "            ^^^^^^^^^^^^^^^^^^^^^^^^^^^^^^^^^^^^^^^^^^^^^^^^^^^\n",
      "RuntimeError: Failed to download the file at: https://dumps.wikimedia.org/wikidatawiki/entities/20230619/wikidata-20230619-all.json.gz\n",
      "\n",
      "During handling of the above exception, another exception occurred:\n",
      "\n",
      "Traceback (most recent call last):\n",
      "  File \"/data/binhvu/gramsplus/.venv/lib/python3.11/site-packages/IPython/core/interactiveshell.py\", line 2105, in showtraceback\n",
      "    stb = self.InteractiveTB.structured_traceback(\n",
      "          ^^^^^^^^^^^^^^^^^^^^^^^^^^^^^^^^^^^^^^^^\n",
      "  File \"/data/binhvu/gramsplus/.venv/lib/python3.11/site-packages/IPython/core/ultratb.py\", line 1428, in structured_traceback\n",
      "    return FormattedTB.structured_traceback(\n",
      "           ^^^^^^^^^^^^^^^^^^^^^^^^^^^^^^^^^\n",
      "  File \"/data/binhvu/gramsplus/.venv/lib/python3.11/site-packages/IPython/core/ultratb.py\", line 1319, in structured_traceback\n",
      "    return VerboseTB.structured_traceback(\n",
      "           ^^^^^^^^^^^^^^^^^^^^^^^^^^^^^^^\n",
      "  File \"/data/binhvu/gramsplus/.venv/lib/python3.11/site-packages/IPython/core/ultratb.py\", line 1172, in structured_traceback\n",
      "    formatted_exception = self.format_exception_as_a_whole(etype, evalue, etb, number_of_lines_of_context,\n",
      "                          ^^^^^^^^^^^^^^^^^^^^^^^^^^^^^^^^^^^^^^^^^^^^^^^^^^^^^^^^^^^^^^^^^^^^^^^^^^^^^^^^\n",
      "  File \"/data/binhvu/gramsplus/.venv/lib/python3.11/site-packages/IPython/core/ultratb.py\", line 1087, in format_exception_as_a_whole\n",
      "    frames.append(self.format_record(record))\n",
      "                  ^^^^^^^^^^^^^^^^^^^^^^^^^^\n",
      "  File \"/data/binhvu/gramsplus/.venv/lib/python3.11/site-packages/IPython/core/ultratb.py\", line 969, in format_record\n",
      "    frame_info.lines, Colors, self.has_colors, lvals\n",
      "    ^^^^^^^^^^^^^^^^\n",
      "  File \"/data/binhvu/gramsplus/.venv/lib/python3.11/site-packages/IPython/core/ultratb.py\", line 792, in lines\n",
      "    return self._sd.lines\n",
      "           ^^^^^^^^^^^^^^\n",
      "  File \"/data/binhvu/gramsplus/.venv/lib/python3.11/site-packages/stack_data/utils.py\", line 144, in cached_property_wrapper\n",
      "    value = obj.__dict__[self.func.__name__] = self.func(obj)\n",
      "                                               ^^^^^^^^^^^^^^\n",
      "  File \"/data/binhvu/gramsplus/.venv/lib/python3.11/site-packages/stack_data/core.py\", line 734, in lines\n",
      "    pieces = self.included_pieces\n",
      "             ^^^^^^^^^^^^^^^^^^^^\n",
      "  File \"/data/binhvu/gramsplus/.venv/lib/python3.11/site-packages/stack_data/utils.py\", line 144, in cached_property_wrapper\n",
      "    value = obj.__dict__[self.func.__name__] = self.func(obj)\n",
      "                                               ^^^^^^^^^^^^^^\n",
      "  File \"/data/binhvu/gramsplus/.venv/lib/python3.11/site-packages/stack_data/core.py\", line 681, in included_pieces\n",
      "    pos = scope_pieces.index(self.executing_piece)\n",
      "                             ^^^^^^^^^^^^^^^^^^^^\n",
      "  File \"/data/binhvu/gramsplus/.venv/lib/python3.11/site-packages/stack_data/utils.py\", line 144, in cached_property_wrapper\n",
      "    value = obj.__dict__[self.func.__name__] = self.func(obj)\n",
      "                                               ^^^^^^^^^^^^^^\n",
      "  File \"/data/binhvu/gramsplus/.venv/lib/python3.11/site-packages/stack_data/core.py\", line 660, in executing_piece\n",
      "    return only(\n",
      "           ^^^^^\n",
      "  File \"/data/binhvu/gramsplus/.venv/lib/python3.11/site-packages/executing/executing.py\", line 190, in only\n",
      "    raise NotOneValueFound('Expected one value, found 0')\n",
      "executing.executing.NotOneValueFound: Expected one value, found 0\n"
     ]
    }
   ],
   "source": [
    "jobs = wdjobs + wpjobs\n",
    "with WGet.start() as wget:\n",
    "    for url, outfile in jobs:\n",
    "        wget.download(url, outfile)\n",
    "    wget.monitor()"
   ]
  },
  {
   "cell_type": "code",
   "execution_count": null,
   "id": "6b161350-d104-4b19-8235-5feaedd6a732",
   "metadata": {},
   "outputs": [],
   "source": []
  }
 ],
 "metadata": {
  "kernelspec": {
   "display_name": "gramsplus",
   "language": "python",
   "name": "gramsplus"
  },
  "language_info": {
   "codemirror_mode": {
    "name": "ipython",
    "version": 3
   },
   "file_extension": ".py",
   "mimetype": "text/x-python",
   "name": "python",
   "nbconvert_exporter": "python",
   "pygments_lexer": "ipython3",
   "version": "3.11.3"
  }
 },
 "nbformat": 4,
 "nbformat_minor": 5
}
