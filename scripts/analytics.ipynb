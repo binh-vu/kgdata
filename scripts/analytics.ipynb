{
 "cells": [
  {
   "cell_type": "markdown",
   "id": "f9546506-19e0-4814-84ad-f657940b4d7b",
   "metadata": {},
   "source": [
    "## 🧑‍🔬 Analyzing data\n",
    "\n",
    "### ⚙ Setup code"
   ]
  },
  {
   "cell_type": "code",
   "execution_count": 10,
   "id": "0d3dfbdc-7873-4b52-878b-ced5c5de02bb",
   "metadata": {
    "tags": []
   },
   "outputs": [
    {
     "data": {
      "text/plain": [
       "<kgdata.dbpedia.config.DBpediaDirCfg at 0x7fb273fc5fd0>"
      ]
     },
     "execution_count": 10,
     "metadata": {},
     "output_type": "execute_result"
    }
   ],
   "source": [
    "import seaborn as sns\n",
    "import pandas as pd\n",
    "\n",
    "from tqdm.auto import tqdm\n",
    "from os.path import expanduser\n",
    "from kgdata.wikipedia.config import WikipediaDirCfg\n",
    "from kgdata.dbpedia.config import DBpediaDirCfg\n",
    "from kgdata.wikidata.config import WikidataDirCfg\n",
    "\n",
    "from kgdata.wikidata.db import WikidataDB\n",
    "\n",
    "WikipediaDirCfg.init(expanduser(\"~/kgdata/wikipedia/20230620\"))\n",
    "WikidataDirCfg.init(expanduser(\"~/kgdata/wikidata/20230619\"))\n",
    "# DBpediaDirCfg.init(expanduser(\"~/kgdata/dbpedia/20230420\"))\n",
    "DBpediaDirCfg.init(expanduser(\"~/kgdata/dbpedia/20221201\"))"
   ]
  },
  {
   "cell_type": "code",
   "execution_count": 3,
   "id": "44f5edc9-c064-4a70-b7c2-c39fd719118a",
   "metadata": {
    "tags": []
   },
   "outputs": [],
   "source": [
    "wddb = WikidataDB(expanduser(\"~/kgdata/databases/wikidata/20211213\"))"
   ]
  },
  {
   "cell_type": "markdown",
   "id": "87e80d70-69e8-4731-a641-6b58881e47d5",
   "metadata": {},
   "source": [
    "### ❓ Questions"
   ]
  },
  {
   "cell_type": "markdown",
   "id": "0940136e-65d1-4e04-8d71-cdcfbc67fa7c",
   "metadata": {},
   "source": [
    "#### Maximum ancestors of a Wikidata class"
   ]
  },
  {
   "cell_type": "code",
   "execution_count": 6,
   "id": "d83e6b19-6a6a-488a-8d5e-c5db13c3f93e",
   "metadata": {
    "tags": []
   },
   "outputs": [
    {
     "data": {
      "application/vnd.jupyter.widget-view+json": {
       "model_id": "ae67c6f2084748ec889ea6b395f23a49",
       "version_major": 2,
       "version_minor": 0
      },
      "text/plain": [
       "  0%|          | 0/2656494 [00:00<?, ?it/s]"
      ]
     },
     "metadata": {},
     "output_type": "display_data"
    }
   ],
   "source": [
    "out = []\n",
    "for c in tqdm(wddb.classes.values(), total=len(wddb.classes)):\n",
    "    out.append({\n",
    "        \"id\": c.id,\n",
    "        \"n_ancestors\": len(c.ancestors)\n",
    "    })\n",
    "df = pd.DataFrame(out)"
   ]
  },
  {
   "cell_type": "code",
   "execution_count": 15,
   "id": "2ebacd6c-4889-4e0f-9900-1090154f306c",
   "metadata": {
    "tags": []
   },
   "outputs": [
    {
     "data": {
      "text/plain": [
       "<seaborn.axisgrid.FacetGrid at 0x7fb2748545d0>"
      ]
     },
     "execution_count": 15,
     "metadata": {},
     "output_type": "execute_result"
    },
    {
     "data": {
      "image/png": "[encoded data removed]",
      "text/plain": [
       "<Figure size 500x500 with 1 Axes>"
      ]
     },
     "metadata": {},
     "output_type": "display_data"
    }
   ],
   "source": [
    "sns.displot(df, x='n_ancestors')"
   ]
  },
  {
   "cell_type": "code",
   "execution_count": null,
   "id": "465d3ff8-70e3-4e65-8631-08a5ede98e89",
   "metadata": {},
   "outputs": [],
   "source": []
  }
 ],
 "metadata": {
  "kernelspec": {
   "display_name": "gramsplus",
   "language": "python",
   "name": "gramsplus"
  },
  "language_info": {
   "codemirror_mode": {
    "name": "ipython",
    "version": 3
   },
   "file_extension": ".py",
   "mimetype": "text/x-python",
   "name": "python",
   "nbconvert_exporter": "python",
   "pygments_lexer": "ipython3",
   "version": "3.11.3"
  }
 },
 "nbformat": 4,
 "nbformat_minor": 5
}
