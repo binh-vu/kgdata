{
 "cells": [
  {
   "cell_type": "markdown",
   "id": "588e2f83-1c48-4c7a-bc0e-070dd9b2be71",
   "metadata": {},
   "source": [
    "## 🪓 Process knowledge graph dumps"
   ]
  },
  {
   "cell_type": "markdown",
   "id": "7a649405-0f81-4815-bfe0-d62bc67e5bd9",
   "metadata": {},
   "source": [
    "We first need to choose version of Wikipedia, Wikidata, and DBpedia"
   ]
  },
  {
   "cell_type": "code",
   "execution_count": 1,
   "id": "e39534bf-e36b-4b38-9fbe-7008899d40ee",
   "metadata": {},
   "outputs": [
    {
     "ename": "NameError",
     "evalue": "name 'WIKIPEDIA_DIR' is not defined",
     "output_type": "error",
     "traceback": [
      "\u001b[0;31m---------------------------------------------------------------------------\u001b[0m",
      "\u001b[0;31mNameError\u001b[0m                                 Traceback (most recent call last)",
      "Cell \u001b[0;32mIn[1], line 4\u001b[0m\n\u001b[1;32m      1\u001b[0m \u001b[38;5;28;01mfrom\u001b[39;00m \u001b[38;5;21;01mpathlib\u001b[39;00m \u001b[38;5;28;01mimport\u001b[39;00m Path\n\u001b[1;32m      2\u001b[0m \u001b[38;5;28;01mfrom\u001b[39;00m \u001b[38;5;21;01mkgdata\u001b[39;00m\u001b[38;5;21;01m.\u001b[39;00m\u001b[38;5;21;01mwikipedia\u001b[39;00m\u001b[38;5;21;01m.\u001b[39;00m\u001b[38;5;21;01mconfig\u001b[39;00m \u001b[38;5;28;01mimport\u001b[39;00m WPDataDirConfig\n\u001b[0;32m----> 4\u001b[0m WPDataDirConfig\u001b[38;5;241m.\u001b[39minit(Path(\u001b[43mWIKIPEDIA_DIR\u001b[49m) \u001b[38;5;241m/\u001b[39m \u001b[38;5;124m\"\u001b[39m\u001b[38;5;124m20230620\u001b[39m\u001b[38;5;124m\"\u001b[39m)\n",
      "\u001b[0;31mNameError\u001b[0m: name 'WIKIPEDIA_DIR' is not defined"
     ]
    }
   ],
   "source": [
    "from pathlib import Path\n",
    "from kgdata.wikipedia.config import WPDataDirConfig\n",
    "\n",
    "WPDataDirConfig.init(\"/data/binhvu/research-data/wikipedia/20230620\")"
   ]
  },
  {
   "cell_type": "markdown",
   "id": "47eb9493-8944-447a-8987-a489769f50a7",
   "metadata": {},
   "source": [
    "### 🗄 Wikipedia"
   ]
  },
  {
   "cell_type": "code",
   "execution_count": null,
   "id": "1a913ac5-7a50-4fda-a6e9-1ebaddeb08f0",
   "metadata": {},
   "outputs": [],
   "source": [
    "from kgdata.wikipedia.datasets.easy_tables import easy_tables\n",
    "\n",
    "easy_tables()"
   ]
  }
 ],
 "metadata": {
  "kernelspec": {
   "display_name": "gramsplus",
   "language": "python",
   "name": "gramsplus"
  },
  "language_info": {
   "codemirror_mode": {
    "name": "ipython",
    "version": 3
   },
   "file_extension": ".py",
   "mimetype": "text/x-python",
   "name": "python",
   "nbconvert_exporter": "python",
   "pygments_lexer": "ipython3",
   "version": "3.11.3"
  }
 },
 "nbformat": 4,
 "nbformat_minor": 5
}
