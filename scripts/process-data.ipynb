{
 "cells": [
  {
   "cell_type": "markdown",
   "id": "588e2f83-1c48-4c7a-bc0e-070dd9b2be71",
   "metadata": {},
   "source": [
    "## 🪓 Process knowledge graph dumps"
   ]
  },
  {
   "cell_type": "markdown",
   "id": "7a649405-0f81-4815-bfe0-d62bc67e5bd9",
   "metadata": {},
   "source": [
    "We first need to choose version of Wikipedia, Wikidata, and DBpedia"
   ]
  },
  {
   "cell_type": "code",
   "execution_count": 2,
   "id": "e39534bf-e36b-4b38-9fbe-7008899d40ee",
   "metadata": {},
   "outputs": [
    {
     "data": {
      "text/plain": [
       "<kgdata.wikipedia.config.WPDataDirConfig at 0x7f9d6bc095d0>"
      ]
     },
     "execution_count": 2,
     "metadata": {},
     "output_type": "execute_result"
    }
   ],
   "source": [
    "from os.path import expanduser\n",
    "from kgdata.wikipedia.config import WPDataDirConfig\n",
    "\n",
    "WPDataDirConfig.init(expanduser(\"~/kgdata/wikipedia/20230620\"))"
   ]
  },
  {
   "cell_type": "markdown",
   "id": "47eb9493-8944-447a-8987-a489769f50a7",
   "metadata": {},
   "source": [
    "### 🗄 Wikipedia"
   ]
  },
  {
   "cell_type": "code",
   "execution_count": null,
   "id": "1a913ac5-7a50-4fda-a6e9-1ebaddeb08f0",
   "metadata": {},
   "outputs": [],
   "source": [
    "from kgdata.wikipedia.datasets.easy_tables import easy_tables\n",
    "\n",
    "easy_tables()"
   ]
  }
 ],
 "metadata": {
  "kernelspec": {
   "display_name": "gramsplus",
   "language": "python",
   "name": "gramsplus"
  },
  "language_info": {
   "codemirror_mode": {
    "name": "ipython",
    "version": 3
   },
   "file_extension": ".py",
   "mimetype": "text/x-python",
   "name": "python",
   "nbconvert_exporter": "python",
   "pygments_lexer": "ipython3",
   "version": "3.11.3"
  }
 },
 "nbformat": 4,
 "nbformat_minor": 5
}
