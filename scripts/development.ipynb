{
 "cells": [
  {
   "cell_type": "markdown",
   "id": "903ff241-e0b5-454a-8ad1-d979665a1ed2",
   "metadata": {},
   "source": [
    "### 🛠️ Setup\n",
    "\n",
    "Import packages"
   ]
  },
  {
   "cell_type": "code",
   "execution_count": 3,
   "id": "c9e40551-501d-4703-93e0-2d10dcd08c21",
   "metadata": {
    "tags": []
   },
   "outputs": [
    {
     "name": "stderr",
     "output_type": "stream",
     "text": [
      "2023-08-25 11:23:59.642 | INFO     | kgdata.config:init_dbdir_from_env:23 - Wikidata directory: /nas/home/binhvu/kgdata/wikidata/20230619\n",
      "2023-08-25 11:23:59.644 | INFO     | kgdata.config:init_dbdir_from_env:29 - DBpedia directory: /nas/home/binhvu/kgdata/dbpedia/20221201\n",
      "2023-08-25 11:23:59.646 | INFO     | kgdata.config:init_dbdir_from_env:37 - Wikipedia directory: /nas/home/binhvu/kgdata/wikipedia/20230620\n"
     ]
    }
   ],
   "source": [
    "import os, subprocess, sys\n",
    "\n",
    "WD_DATE = \"20230619\"\n",
    "# WD_DATE = \"20211213\"\n",
    "WP_DATE = \"20230620\"\n",
    "DBP_DATE = \"20221201\"\n",
    "\n",
    "os.environ[\"WD_DIR\"] = os.path.expanduser(f\"~/kgdata/wikidata/{WD_DATE}\")\n",
    "os.environ[\"WP_DIR\"] = os.path.expanduser(f\"~/kgdata/wikipedia/{WP_DATE}\")\n",
    "os.environ[\"DBP_DIR\"] = os.path.expanduser(f\"~/kgdata/dbpedia/{DBP_DATE}\")\n",
    "\n",
    "from kgdata.config import init_dbdir_from_env\n",
    "from kgdata.dataset import import_dataset\n",
    "\n",
    "init_dbdir_from_env()"
   ]
  },
  {
   "cell_type": "code",
   "execution_count": 3,
   "id": "0a9da106-9295-4215-b111-0669ea1b533b",
   "metadata": {
    "tags": []
   },
   "outputs": [],
   "source": [
    "from sm.prelude import M"
   ]
  },
  {
   "cell_type": "markdown",
   "id": "a4de40f3-1af4-4a20-a99f-64e80b96486e",
   "metadata": {},
   "source": [
    "### Main"
   ]
  },
  {
   "cell_type": "markdown",
   "id": "4b73a3eb-b4e7-49de-ba75-7533ea4072ec",
   "metadata": {
    "tags": []
   },
   "source": [
    "#### Test multi-lingual string compression"
   ]
  },
  {
   "cell_type": "code",
   "execution_count": 3,
   "id": "f13a535a-44dd-4d1f-a800-a9b1e7f03093",
   "metadata": {
    "tags": []
   },
   "outputs": [],
   "source": [
    "ds = import_dataset('wikidata.entity_metadata')"
   ]
  },
  {
   "cell_type": "code",
   "execution_count": 4,
   "id": "44f3bc8a-06f9-4ff2-b27e-cc2806a42e68",
   "metadata": {
    "tags": []
   },
   "outputs": [
    {
     "name": "stderr",
     "output_type": "stream",
     "text": [
      "2023-08-25 08:46:07.421 | DEBUG    | kgdata.spark:get_spark_context:90 - Spark Options: [('spark.master', 'spark://ckg04.isi.edu:17077'), ('spark.executor.memory', '600g'), ('spark.driver.memory', '32g'), ('spark.driver.maxResultSize', '128g')]\n",
      "Setting default log level to \"WARN\".\n",
      "To adjust logging level use sc.setLogLevel(newLevel). For SparkR, use setLogLevel(newLevel).\n",
      "23/08/25 08:46:10 WARN NativeCodeLoader: Unable to load native-hadoop library for your platform... using builtin-java classes where applicable\n",
      "                                                                                \r"
     ]
    },
    {
     "data": {
      "text/plain": [
       "103326088"
      ]
     },
     "execution_count": 4,
     "metadata": {},
     "output_type": "execute_result"
    }
   ],
   "source": [
    "ds.get_rdd().count()"
   ]
  },
  {
   "cell_type": "code",
   "execution_count": 7,
   "id": "8db2aadd-3509-4959-a958-2406819fad0e",
   "metadata": {
    "tags": []
   },
   "outputs": [],
   "source": [
    "def compress_multilingual_string(s):\n",
    "    values = []\n",
    "    existing_values = {}\n",
    "    lang2index = {}\n",
    "    for lang, value in s.lang2value.items():\n",
    "        if value not in existing_values:\n",
    "            values.append(value)\n",
    "            existing_values[value] = len(values) - 1\n",
    "        lang2index[lang] = existing_values[value]\n",
    "    \n",
    "    return [values, lang2index]\n",
    "    return {\n",
    "        \"values\": values,\n",
    "        \"lang2index\": lang2index,\n",
    "        \"lang\": s.lang\n",
    "    }"
   ]
  },
  {
   "cell_type": "code",
   "execution_count": 30,
   "id": "cea17b69-e37e-4ca1-a1ef-35627b32c87a",
   "metadata": {},
   "outputs": [
    {
     "name": "stderr",
     "output_type": "stream",
     "text": [
      "[Stage 3:====================================================>(1021 + 3) / 1024]\r"
     ]
    },
    {
     "name": "stdout",
     "output_type": "stream",
     "text": [
      "62.92% (17.0GiB/27.0GiB)\n"
     ]
    },
    {
     "name": "stderr",
     "output_type": "stream",
     "text": [
      "----------------------------------------                                        \n",
      "Exception occurred during processing of request from ('127.0.0.1', 48154)\n",
      "Traceback (most recent call last):\n",
      "  File \"/data/binhvu/anaconda3/envs/py311/lib/python3.11/socketserver.py\", line 317, in _handle_request_noblock\n",
      "    self.process_request(request, client_address)\n",
      "  File \"/data/binhvu/anaconda3/envs/py311/lib/python3.11/socketserver.py\", line 348, in process_request\n",
      "    self.finish_request(request, client_address)\n",
      "  File \"/data/binhvu/anaconda3/envs/py311/lib/python3.11/socketserver.py\", line 361, in finish_request\n",
      "    self.RequestHandlerClass(request, client_address, self)\n",
      "  File \"/data/binhvu/anaconda3/envs/py311/lib/python3.11/socketserver.py\", line 755, in __init__\n",
      "    self.handle()\n",
      "  File \"/data/binhvu/gramsplus/.venv/lib/python3.11/site-packages/pyspark/accumulators.py\", line 281, in handle\n",
      "    poll(accum_updates)\n",
      "  File \"/data/binhvu/gramsplus/.venv/lib/python3.11/site-packages/pyspark/accumulators.py\", line 253, in poll\n",
      "    if func():\n",
      "       ^^^^^^\n",
      "  File \"/data/binhvu/gramsplus/.venv/lib/python3.11/site-packages/pyspark/accumulators.py\", line 257, in accum_updates\n",
      "    num_updates = read_int(self.rfile)\n",
      "                  ^^^^^^^^^^^^^^^^^^^^\n",
      "  File \"/data/binhvu/gramsplus/.venv/lib/python3.11/site-packages/pyspark/serializers.py\", line 596, in read_int\n",
      "    raise EOFError\n",
      "EOFError\n",
      "----------------------------------------\n"
     ]
    }
   ],
   "source": [
    "import orjson\n",
    "\n",
    "def measure(label):\n",
    "    size = len(orjson.dumps(label.to_dict()))\n",
    "    size2 = len(orjson.dumps(compress_multilingual_string(label)))\n",
    "    \n",
    "    return size, size2\n",
    "    \n",
    "res = ds.get_rdd().map(lambda e: e.label).map(measure).fold((0, 0), lambda t1, t2: (t1[0] + t2[0], t1[1] + t2[1]))\n",
    "print(M.percentage(res[1], res[0], M.datasize))"
   ]
  },
  {
   "cell_type": "code",
   "execution_count": 29,
   "id": "9a331d7d-2986-408c-b1c6-ee2a496ba0c8",
   "metadata": {
    "tags": []
   },
   "outputs": [
    {
     "name": "stderr",
     "output_type": "stream",
     "text": [
      "[Stage 2:====================================================>(1019 + 5) / 1024]\r"
     ]
    },
    {
     "name": "stdout",
     "output_type": "stream",
     "text": [
      "95.05% (95.7GiB/100.7GiB)\n"
     ]
    },
    {
     "name": "stderr",
     "output_type": "stream",
     "text": [
      "                                                                                \r"
     ]
    }
   ],
   "source": [
    "res = ds.get_rdd().map(lambda e: e.description).map(measure).fold((0, 0), lambda t1, t2: (t1[0] + t2[0], t1[1] + t2[1]))\n",
    "print(M.percentage(res[1], res[0], M.datasize))"
   ]
  },
  {
   "cell_type": "code",
   "execution_count": null,
   "id": "fcbf7ad8-99cd-4d88-96d6-c1e65af1a44a",
   "metadata": {},
   "outputs": [],
   "source": []
  }
 ],
 "metadata": {
  "kernelspec": {
   "display_name": "gramsplus",
   "language": "python",
   "name": "gramsplus"
  },
  "language_info": {
   "codemirror_mode": {
    "name": "ipython",
    "version": 3
   },
   "file_extension": ".py",
   "mimetype": "text/x-python",
   "name": "python",
   "nbconvert_exporter": "python",
   "pygments_lexer": "ipython3",
   "version": "3.11.3"
  }
 },
 "nbformat": 4,
 "nbformat_minor": 5
}
