{
 "cells": [
  {
   "cell_type": "code",
   "execution_count": 1,
   "id": "665d7a2b-86f5-4333-9202-44b85d382bee",
   "metadata": {},
   "outputs": [],
   "source": [
    "from kgdata.dbpedia.datasets.classes import *\n",
    "from kgdata.misc.ntriples_parser import *\n",
    "from kgdata.models.ont_class import *\n",
    "import serde.textline"
   ]
  },
  {
   "cell_type": "code",
   "execution_count": 2,
   "id": "7db529b0-6788-45a3-8e78-4ffed9714f9c",
   "metadata": {},
   "outputs": [],
   "source": [
    "cfg = DBpediaDataDirCfg.init(\"/nas/ckgfs/users/binhvu/dbpedia/20230512\")"
   ]
  },
  {
   "cell_type": "code",
   "execution_count": 4,
   "id": "c7b9f81d-e18f-4d0a-ae92-db73ccf772e8",
   "metadata": {},
   "outputs": [
    {
     "name": "stderr",
     "output_type": "stream",
     "text": [
      "                                                                                \r"
     ]
    }
   ],
   "source": [
    "props = ontology_dump().get_rdd().filter(is_prop).collect()"
   ]
  },
  {
   "cell_type": "code",
   "execution_count": 6,
   "id": "828a3193-9982-443e-a196-72823612bc12",
   "metadata": {},
   "outputs": [
    {
     "data": {
      "text/plain": [
       "{rdflib.term.URIRef('http://dbpedia.org/datatype/engineConfiguration'),\n",
       " rdflib.term.URIRef('http://dbpedia.org/datatype/valvetrain'),\n",
       " rdflib.term.URIRef('http://dbpedia.org/ontology/Actor'),\n",
       " rdflib.term.URIRef('http://dbpedia.org/ontology/Agent'),\n",
       " rdflib.term.URIRef('http://dbpedia.org/ontology/Agglomeration'),\n",
       " rdflib.term.URIRef('http://dbpedia.org/ontology/Airport'),\n",
       " rdflib.term.URIRef('http://dbpedia.org/ontology/Altitude'),\n",
       " rdflib.term.URIRef('http://dbpedia.org/ontology/AnatomicalStructure'),\n",
       " rdflib.term.URIRef('http://dbpedia.org/ontology/Animal'),\n",
       " rdflib.term.URIRef('http://dbpedia.org/ontology/Annotation'),\n",
       " rdflib.term.URIRef('http://dbpedia.org/ontology/Architect'),\n",
       " rdflib.term.URIRef('http://dbpedia.org/ontology/Area'),\n",
       " rdflib.term.URIRef('http://dbpedia.org/ontology/Arena'),\n",
       " rdflib.term.URIRef('http://dbpedia.org/ontology/Artery'),\n",
       " rdflib.term.URIRef('http://dbpedia.org/ontology/Artist'),\n",
       " rdflib.term.URIRef('http://dbpedia.org/ontology/Astronaut'),\n",
       " rdflib.term.URIRef('http://dbpedia.org/ontology/Athlete'),\n",
       " rdflib.term.URIRef('http://dbpedia.org/ontology/Automobile'),\n",
       " rdflib.term.URIRef('http://dbpedia.org/ontology/AutomobileEngine'),\n",
       " rdflib.term.URIRef('http://dbpedia.org/ontology/Award'),\n",
       " rdflib.term.URIRef('http://dbpedia.org/ontology/Band'),\n",
       " rdflib.term.URIRef('http://dbpedia.org/ontology/Battery'),\n",
       " rdflib.term.URIRef('http://dbpedia.org/ontology/BodyOfWater'),\n",
       " rdflib.term.URIRef('http://dbpedia.org/ontology/BroadcastNetwork'),\n",
       " rdflib.term.URIRef('http://dbpedia.org/ontology/Broadcaster'),\n",
       " rdflib.term.URIRef('http://dbpedia.org/ontology/Building'),\n",
       " rdflib.term.URIRef('http://dbpedia.org/ontology/Canal'),\n",
       " rdflib.term.URIRef('http://dbpedia.org/ontology/CareerStation'),\n",
       " rdflib.term.URIRef('http://dbpedia.org/ontology/Caterer'),\n",
       " rdflib.term.URIRef('http://dbpedia.org/ontology/Cemetery'),\n",
       " rdflib.term.URIRef('http://dbpedia.org/ontology/ChemicalSubstance'),\n",
       " rdflib.term.URIRef('http://dbpedia.org/ontology/Chief'),\n",
       " rdflib.term.URIRef('http://dbpedia.org/ontology/City'),\n",
       " rdflib.term.URIRef('http://dbpedia.org/ontology/College'),\n",
       " rdflib.term.URIRef('http://dbpedia.org/ontology/Colour'),\n",
       " rdflib.term.URIRef('http://dbpedia.org/ontology/Comic'),\n",
       " rdflib.term.URIRef('http://dbpedia.org/ontology/Community'),\n",
       " rdflib.term.URIRef('http://dbpedia.org/ontology/Company'),\n",
       " rdflib.term.URIRef('http://dbpedia.org/ontology/Constellation'),\n",
       " rdflib.term.URIRef('http://dbpedia.org/ontology/Continent'),\n",
       " rdflib.term.URIRef('http://dbpedia.org/ontology/Country'),\n",
       " rdflib.term.URIRef('http://dbpedia.org/ontology/CultivatedVariety'),\n",
       " rdflib.term.URIRef('http://dbpedia.org/ontology/Currency'),\n",
       " rdflib.term.URIRef('http://dbpedia.org/ontology/Deanery'),\n",
       " rdflib.term.URIRef('http://dbpedia.org/ontology/Deity'),\n",
       " rdflib.term.URIRef('http://dbpedia.org/ontology/Demographics'),\n",
       " rdflib.term.URIRef('http://dbpedia.org/ontology/Depth'),\n",
       " rdflib.term.URIRef('http://dbpedia.org/ontology/Diocese'),\n",
       " rdflib.term.URIRef('http://dbpedia.org/ontology/Disease'),\n",
       " rdflib.term.URIRef('http://dbpedia.org/ontology/Drama'),\n",
       " rdflib.term.URIRef('http://dbpedia.org/ontology/EducationalInstitution'),\n",
       " rdflib.term.URIRef('http://dbpedia.org/ontology/EthnicGroup'),\n",
       " rdflib.term.URIRef('http://dbpedia.org/ontology/Event'),\n",
       " rdflib.term.URIRef('http://dbpedia.org/ontology/Factory'),\n",
       " rdflib.term.URIRef('http://dbpedia.org/ontology/Family'),\n",
       " rdflib.term.URIRef('http://dbpedia.org/ontology/File'),\n",
       " rdflib.term.URIRef('http://dbpedia.org/ontology/FillingStation'),\n",
       " rdflib.term.URIRef('http://dbpedia.org/ontology/Film'),\n",
       " rdflib.term.URIRef('http://dbpedia.org/ontology/FormerMunicipality'),\n",
       " rdflib.term.URIRef('http://dbpedia.org/ontology/Gene'),\n",
       " rdflib.term.URIRef('http://dbpedia.org/ontology/GeneLocation'),\n",
       " rdflib.term.URIRef('http://dbpedia.org/ontology/Genre'),\n",
       " rdflib.term.URIRef('http://dbpedia.org/ontology/GovernmentType'),\n",
       " rdflib.term.URIRef('http://dbpedia.org/ontology/GrandPrix'),\n",
       " rdflib.term.URIRef('http://dbpedia.org/ontology/Grape'),\n",
       " rdflib.term.URIRef('http://dbpedia.org/ontology/GrossDomesticProductPerCapita'),\n",
       " rdflib.term.URIRef('http://dbpedia.org/ontology/Group'),\n",
       " rdflib.term.URIRef('http://dbpedia.org/ontology/HockeyTeam'),\n",
       " rdflib.term.URIRef('http://dbpedia.org/ontology/Horse'),\n",
       " rdflib.term.URIRef('http://dbpedia.org/ontology/Ideology'),\n",
       " rdflib.term.URIRef('http://dbpedia.org/ontology/Image'),\n",
       " rdflib.term.URIRef('http://dbpedia.org/ontology/Infrastructure'),\n",
       " rdflib.term.URIRef('http://dbpedia.org/ontology/Island'),\n",
       " rdflib.term.URIRef('http://dbpedia.org/ontology/Jockey'),\n",
       " rdflib.term.URIRef('http://dbpedia.org/ontology/Judge'),\n",
       " rdflib.term.URIRef('http://dbpedia.org/ontology/Language'),\n",
       " rdflib.term.URIRef('http://dbpedia.org/ontology/LaunchPad'),\n",
       " rdflib.term.URIRef('http://dbpedia.org/ontology/Legislature'),\n",
       " rdflib.term.URIRef('http://dbpedia.org/ontology/List'),\n",
       " rdflib.term.URIRef('http://dbpedia.org/ontology/Locomotive'),\n",
       " rdflib.term.URIRef('http://dbpedia.org/ontology/Lymph'),\n",
       " rdflib.term.URIRef('http://dbpedia.org/ontology/Magazine'),\n",
       " rdflib.term.URIRef('http://dbpedia.org/ontology/Mayor'),\n",
       " rdflib.term.URIRef('http://dbpedia.org/ontology/MeanOfTransportation'),\n",
       " rdflib.term.URIRef('http://dbpedia.org/ontology/MedicalSpecialty'),\n",
       " rdflib.term.URIRef('http://dbpedia.org/ontology/MilitaryConflict'),\n",
       " rdflib.term.URIRef('http://dbpedia.org/ontology/MilitaryService'),\n",
       " rdflib.term.URIRef('http://dbpedia.org/ontology/MilitaryUnit'),\n",
       " rdflib.term.URIRef('http://dbpedia.org/ontology/Monarch'),\n",
       " rdflib.term.URIRef('http://dbpedia.org/ontology/Mountain'),\n",
       " rdflib.term.URIRef('http://dbpedia.org/ontology/MountainRange'),\n",
       " rdflib.term.URIRef('http://dbpedia.org/ontology/Municipality'),\n",
       " rdflib.term.URIRef('http://dbpedia.org/ontology/Museum'),\n",
       " rdflib.term.URIRef('http://dbpedia.org/ontology/MusicGenre'),\n",
       " rdflib.term.URIRef('http://dbpedia.org/ontology/MusicalArtist'),\n",
       " rdflib.term.URIRef('http://dbpedia.org/ontology/MusicalWork'),\n",
       " rdflib.term.URIRef('http://dbpedia.org/ontology/Nerve'),\n",
       " rdflib.term.URIRef('http://dbpedia.org/ontology/Novel'),\n",
       " rdflib.term.URIRef('http://dbpedia.org/ontology/OlympicEvent'),\n",
       " rdflib.term.URIRef('http://dbpedia.org/ontology/OlympicResult'),\n",
       " rdflib.term.URIRef('http://dbpedia.org/ontology/Organ'),\n",
       " rdflib.term.URIRef('http://dbpedia.org/ontology/Organisation'),\n",
       " rdflib.term.URIRef('http://dbpedia.org/ontology/OrganisationMember'),\n",
       " rdflib.term.URIRef('http://dbpedia.org/ontology/Parliament'),\n",
       " rdflib.term.URIRef('http://dbpedia.org/ontology/PeriodicalLiterature'),\n",
       " rdflib.term.URIRef('http://dbpedia.org/ontology/Person'),\n",
       " rdflib.term.URIRef('http://dbpedia.org/ontology/PersonFunction'),\n",
       " rdflib.term.URIRef('http://dbpedia.org/ontology/Place'),\n",
       " rdflib.term.URIRef('http://dbpedia.org/ontology/Plant'),\n",
       " rdflib.term.URIRef('http://dbpedia.org/ontology/PoliticalParty'),\n",
       " rdflib.term.URIRef('http://dbpedia.org/ontology/Politician'),\n",
       " rdflib.term.URIRef('http://dbpedia.org/ontology/Pope'),\n",
       " rdflib.term.URIRef('http://dbpedia.org/ontology/PopulatedPlace'),\n",
       " rdflib.term.URIRef('http://dbpedia.org/ontology/Population'),\n",
       " rdflib.term.URIRef('http://dbpedia.org/ontology/Project'),\n",
       " rdflib.term.URIRef('http://dbpedia.org/ontology/Race'),\n",
       " rdflib.term.URIRef('http://dbpedia.org/ontology/RaceTrack'),\n",
       " rdflib.term.URIRef('http://dbpedia.org/ontology/RadioStation'),\n",
       " rdflib.term.URIRef('http://dbpedia.org/ontology/RecordLabel'),\n",
       " rdflib.term.URIRef('http://dbpedia.org/ontology/ReligiousBuilding'),\n",
       " rdflib.term.URIRef('http://dbpedia.org/ontology/River'),\n",
       " rdflib.term.URIRef('http://dbpedia.org/ontology/Road'),\n",
       " rdflib.term.URIRef('http://dbpedia.org/ontology/Rocket'),\n",
       " rdflib.term.URIRef('http://dbpedia.org/ontology/RouteStop'),\n",
       " rdflib.term.URIRef('http://dbpedia.org/ontology/Saint'),\n",
       " rdflib.term.URIRef('http://dbpedia.org/ontology/School'),\n",
       " rdflib.term.URIRef('http://dbpedia.org/ontology/Sea'),\n",
       " rdflib.term.URIRef('http://dbpedia.org/ontology/Settlement'),\n",
       " rdflib.term.URIRef('http://dbpedia.org/ontology/SingleList'),\n",
       " rdflib.term.URIRef('http://dbpedia.org/ontology/SoccerClub'),\n",
       " rdflib.term.URIRef('http://dbpedia.org/ontology/SoccerLeagueSeason'),\n",
       " rdflib.term.URIRef('http://dbpedia.org/ontology/SoccerPlayer'),\n",
       " rdflib.term.URIRef('http://dbpedia.org/ontology/SoccerTournament'),\n",
       " rdflib.term.URIRef('http://dbpedia.org/ontology/SocietalEvent'),\n",
       " rdflib.term.URIRef('http://dbpedia.org/ontology/Sound'),\n",
       " rdflib.term.URIRef('http://dbpedia.org/ontology/SpaceMission'),\n",
       " rdflib.term.URIRef('http://dbpedia.org/ontology/SpaceShuttle'),\n",
       " rdflib.term.URIRef('http://dbpedia.org/ontology/SpaceStation'),\n",
       " rdflib.term.URIRef('http://dbpedia.org/ontology/Spacecraft'),\n",
       " rdflib.term.URIRef('http://dbpedia.org/ontology/Species'),\n",
       " rdflib.term.URIRef('http://dbpedia.org/ontology/Sport'),\n",
       " rdflib.term.URIRef('http://dbpedia.org/ontology/SportCompetitionResult'),\n",
       " rdflib.term.URIRef('http://dbpedia.org/ontology/SportsEvent'),\n",
       " rdflib.term.URIRef('http://dbpedia.org/ontology/SportsLeague'),\n",
       " rdflib.term.URIRef('http://dbpedia.org/ontology/SportsTeam'),\n",
       " rdflib.term.URIRef('http://dbpedia.org/ontology/Stadium'),\n",
       " rdflib.term.URIRef('http://dbpedia.org/ontology/Station'),\n",
       " rdflib.term.URIRef('http://dbpedia.org/ontology/Taxon'),\n",
       " rdflib.term.URIRef('http://dbpedia.org/ontology/TeamMember'),\n",
       " rdflib.term.URIRef('http://dbpedia.org/ontology/TelevisionShow'),\n",
       " rdflib.term.URIRef('http://dbpedia.org/ontology/TermOfOffice'),\n",
       " rdflib.term.URIRef('http://dbpedia.org/ontology/Thing'),\n",
       " rdflib.term.URIRef('http://dbpedia.org/ontology/TimePeriod'),\n",
       " rdflib.term.URIRef('http://dbpedia.org/ontology/TopLevelDomain'),\n",
       " rdflib.term.URIRef('http://dbpedia.org/ontology/Tournament'),\n",
       " rdflib.term.URIRef('http://dbpedia.org/ontology/TrainCarriage'),\n",
       " rdflib.term.URIRef('http://dbpedia.org/ontology/VaccinationStatistics'),\n",
       " rdflib.term.URIRef('http://dbpedia.org/ontology/Vein'),\n",
       " rdflib.term.URIRef('http://dbpedia.org/ontology/Weapon'),\n",
       " rdflib.term.URIRef('http://dbpedia.org/ontology/WikimediaTemplate'),\n",
       " rdflib.term.URIRef('http://dbpedia.org/ontology/WineRegion'),\n",
       " rdflib.term.URIRef('http://dbpedia.org/ontology/Work'),\n",
       " rdflib.term.URIRef('http://dbpedia.org/ontology/WorkSequence'),\n",
       " rdflib.term.URIRef('http://dbpedia.org/ontology/WrittenWork'),\n",
       " rdflib.term.URIRef('http://dbpedia.org/ontology/year'),\n",
       " rdflib.term.URIRef('http://dbpedia.org/ontology/آبادی_والی_جگہ'),\n",
       " rdflib.term.URIRef('http://dbpedia.org/ontology/انعام'),\n",
       " rdflib.term.URIRef('http://dbpedia.org/ontology/بستی'),\n",
       " rdflib.term.URIRef('http://dbpedia.org/ontology/تِجارتی_اِدارہ'),\n",
       " rdflib.term.URIRef('http://dbpedia.org/ontology/جگہ'),\n",
       " rdflib.term.URIRef('http://dbpedia.org/ontology/رقبہ'),\n",
       " rdflib.term.URIRef('http://dbpedia.org/ontology/سکہ_رائج_الوقت'),\n",
       " rdflib.term.URIRef('http://dbpedia.org/ontology/شخص'),\n",
       " rdflib.term.URIRef('http://dbpedia.org/ontology/فنکار'),\n",
       " rdflib.term.URIRef('http://dbpedia.org/ontology/ویکسینیشن_کے_اعدادوشمار'),\n",
       " rdflib.term.URIRef('http://dbpedia.org/ontology/گانے_والوں_کا_گروہ'),\n",
       " rdflib.term.URIRef('http://www.w3.org/1999/02/22-rdf-syntax-ns#langString'),\n",
       " rdflib.term.URIRef('http://www.w3.org/2001/XMLSchema#anyURI'),\n",
       " rdflib.term.URIRef('http://www.w3.org/2001/XMLSchema#boolean'),\n",
       " rdflib.term.URIRef('http://www.w3.org/2001/XMLSchema#date'),\n",
       " rdflib.term.URIRef('http://www.w3.org/2001/XMLSchema#dateTime'),\n",
       " rdflib.term.URIRef('http://www.w3.org/2001/XMLSchema#double'),\n",
       " rdflib.term.URIRef('http://www.w3.org/2001/XMLSchema#float'),\n",
       " rdflib.term.URIRef('http://www.w3.org/2001/XMLSchema#gYear'),\n",
       " rdflib.term.URIRef('http://www.w3.org/2001/XMLSchema#gYearMonth'),\n",
       " rdflib.term.URIRef('http://www.w3.org/2001/XMLSchema#integer'),\n",
       " rdflib.term.URIRef('http://www.w3.org/2001/XMLSchema#nonNegativeInteger'),\n",
       " rdflib.term.URIRef('http://www.w3.org/2001/XMLSchema#positiveInteger'),\n",
       " rdflib.term.URIRef('http://www.w3.org/2001/XMLSchema#string'),\n",
       " rdflib.term.URIRef('http://www.w3.org/2003/01/geo/wgs84_pos#SpatialThing'),\n",
       " rdflib.term.URIRef('http://www.w3.org/2004/02/skos/core#Concept'),\n",
       " rdflib.term.URIRef('http://www.w3.org/2004/02/skos/core#OrderedCollection')}"
      ]
     },
     "execution_count": 6,
     "metadata": {},
     "output_type": "execute_result"
    }
   ],
   "source": [
    "{x for p in props for x in p.props.get(str(RDFS.range), [])}"
   ]
  },
  {
   "cell_type": "code",
   "execution_count": 7,
   "id": "55e0e300-0e69-42be-998e-dc53b8db393f",
   "metadata": {},
   "outputs": [
    {
     "data": {
      "text/plain": [
       "[('http://dbpedia.org/ontology/جگہ',\n",
       "  'http://dbpedia.org/ontology/تاریخ_کا_معاہدہ')]"
      ]
     },
     "execution_count": 7,
     "metadata": {},
     "output_type": "execute_result"
    }
   ],
   "source": [
    "ontology_dump().get_rdd().filter(is_prop).flatMap(lambda r: [(str(uri), r.id) for uri in r.props.get(str(RDFS.domain), [])]).take(1)"
   ]
  },
  {
   "cell_type": "code",
   "execution_count": 5,
   "id": "0fcfda0a-3f81-4130-823c-fa2b732dbc7b",
   "metadata": {},
   "outputs": [
    {
     "data": {
      "text/plain": [
       "[RDFResource(id='http://dbpedia.org/ontology/Mammal', props={'http://www.w3.org/2000/01/rdf-schema#label': [rdflib.term.Literal('mamífero', lang='es'), rdflib.term.Literal('ssak', lang='pl'), rdflib.term.Literal('mamífero', lang='pt'), rdflib.term.Literal('zoogdier', lang='nl'), rdflib.term.Literal('mamach', lang='ga'), rdflib.term.Literal('mammal', lang='en'), rdflib.term.Literal('mammifère', lang='fr'), rdflib.term.Literal('θηλαστικό ζώο', lang='el'), rdflib.term.Literal('mammifero', lang='it'), rdflib.term.Literal('تھن والے جانور', lang='ur'), rdflib.term.Literal('pattedyr', lang='da'), rdflib.term.Literal('哺乳類', lang='ja'), rdflib.term.Literal('säugetier', lang='de')], 'http://www.w3.org/2000/01/rdf-schema#subClassOf': [rdflib.term.URIRef('http://dbpedia.org/ontology/Animal')], 'http://www.w3.org/1999/02/22-rdf-syntax-ns#type': [rdflib.term.URIRef('http://www.w3.org/2002/07/owl#Class')], 'http://www.w3.org/2002/07/owl#disjointWith': [rdflib.term.URIRef('http://dbpedia.org/ontology/Fish')], 'http://www.w3.org/2000/01/rdf-schema#isDefinedBy': [rdflib.term.URIRef('http://dbpedia.org/ontology/')], 'http://www.w3.org/2002/07/owl#equivalentClass': [rdflib.term.URIRef('http://www.wikidata.org/entity/Q7377')], 'http://www.w3.org/2002/07/owl#sameAs': [rdflib.term.URIRef('http://dbpedia.org/ontology/Mammal')], 'http://www.w3.org/2007/05/powder-s#describedby': [rdflib.term.URIRef('http://dbpedia.org/ontology/data/definitions.ttl')], 'http://www.w3.org/ns/prov#wasDerivedFrom': [rdflib.term.URIRef('http://mappings.dbpedia.org/index.php/OntologyClass:Mammal')]})]"
      ]
     },
     "execution_count": 5,
     "metadata": {},
     "output_type": "execute_result"
    }
   ],
   "source": [
    "ontology_dump().get_rdd().filter(lambda x: 'http://www.w3.org/2002/07/owl#disjointWith' in x.props).take(1)"
   ]
  },
  {
   "cell_type": "code",
   "execution_count": 3,
   "id": "98e16686-96a1-4e01-aedb-b533872b860b",
   "metadata": {},
   "outputs": [],
   "source": [
    "infile = list((cfg.ontology_dump / \"step1\").glob(\"*.gz\"))[2]\n",
    "lines = serde.textline.deser(infile)"
   ]
  },
  {
   "cell_type": "code",
   "execution_count": 4,
   "id": "bdd46a7a-1997-459a-9f80-1c8a4bdec91e",
   "metadata": {},
   "outputs": [
    {
     "data": {
      "text/plain": [
       "['<http://dbpedia.org/datatype/Area> <http://www.w3.org/1999/02/22-rdf-syntax-ns#type> <http://www.w3.org/2000/01/rdf-schema#Datatype> .\\n',\n",
       " '<http://dbpedia.org/datatype/Density> <http://www.w3.org/2000/01/rdf-schema#isDefinedBy> <http://dbpedia.org/ontology/> .\\n',\n",
       " '<http://dbpedia.org/datatype/Energy> <http://www.w3.org/2002/07/owl#sameAs> <http://dbpedia.org/datatype/Energy> .\\n',\n",
       " '<http://dbpedia.org/datatype/Force> <http://www.w3.org/2002/07/owl#sameAs> <http://dbpedia.org/datatype/Force> .\\n',\n",
       " '<http://dbpedia.org/datatype/FuelEfficiency> <http://www.w3.org/2002/07/owl#sameAs> <http://dbpedia.org/datatype/FuelEfficiency> .\\n',\n",
       " '<http://dbpedia.org/datatype/LinearMassDensity> <http://www.w3.org/2000/01/rdf-schema#label> \"LinearMassDensity\"@en .\\n',\n",
       " '<http://dbpedia.org/datatype/PopulationDensity> <http://www.w3.org/2000/01/rdf-schema#label> \"PopulationDensity\"@en .\\n',\n",
       " '<http://dbpedia.org/datatype/Pressure> <http://www.w3.org/2000/01/rdf-schema#label> \"Pressure\"@en .\\n',\n",
       " '<http://dbpedia.org/datatype/Speed> <http://www.w3.org/2000/01/rdf-schema#label> \"Speed\"@en .\\n',\n",
       " '<http://dbpedia.org/datatype/Time> <http://www.w3.org/2000/01/rdf-schema#label> \"Time\"@en .\\n']"
      ]
     },
     "execution_count": 4,
     "metadata": {},
     "output_type": "execute_result"
    }
   ],
   "source": [
    "lines[:10]"
   ]
  },
  {
   "cell_type": "code",
   "execution_count": 5,
   "id": "99664169-01ad-4874-b04c-271b4a671667",
   "metadata": {},
   "outputs": [],
   "source": [
    "lit = ntriple_loads(lines[9])[2]"
   ]
  },
  {
   "cell_type": "code",
   "execution_count": 7,
   "id": "7bdb85a4-1d97-4a52-9e61-d6c9fab2e0a7",
   "metadata": {},
   "outputs": [
    {
     "data": {
      "text/plain": [
       "{'type': 'Literal', 'value': 'Time', 'datatype': None, 'language': 'en'}"
      ]
     },
     "execution_count": 7,
     "metadata": {},
     "output_type": "execute_result"
    }
   ],
   "source": [
    "RDFTerm.from_dict(RDFTerm(lit).to_dict()).to_dict()"
   ]
  },
  {
   "cell_type": "code",
   "execution_count": 52,
   "id": "6cc37479-a082-47c5-a22a-d5f9d3d669be",
   "metadata": {},
   "outputs": [],
   "source": [
    "from rdflib import RDFS\n",
    "\n",
    "def is_class(resource) -> bool:\n",
    "    return any(OWL.Class == v.term for v in resource.props.get(rdf_type, []))\n",
    "    # return str(OWL.Class) in resource.props.get(rdf_type, [])\n",
    "\n",
    "def to_class(resource, default_lang: str = 'en') -> OntologyClass:\n",
    "    return OntologyClass(\n",
    "        id=resource.id, \n",
    "        label=as_multilingual(resource.props[str(RDFS.label)]),\n",
    "        description=as_multilingual(resource.props.get(str(RDFS.comment), [])),\n",
    "        aliases=MultiLingualStringList({default_lang: []}, default_lang),\n",
    "        parents=[str(term.term) for term in resource.props.get(str(RDFS.subClassOf), [])],\n",
    "        properties=[],\n",
    "        different_froms=[],\n",
    "        equivalent_classes=[str(term.term) for term in resource.props.get(str(OWL.equivalentClass), [])],\n",
    "        ancestors=set()\n",
    "    )\n",
    "\n",
    "\n",
    "def as_multilingual(terms: list[RDFTerm], default_lang: str = 'en'):\n",
    "    if len(terms) == 0:\n",
    "        return MultiLingualString({default_lang: \"\"}, default_lang)\n",
    "        \n",
    "    lang2value = {\n",
    "        term.term.language: term.term.value\n",
    "        for term in terms\n",
    "    }\n",
    "    assert default_lang in lang2value\n",
    "    return MultiLingualString(lang2value, default_lang)"
   ]
  },
  {
   "cell_type": "code",
   "execution_count": 42,
   "id": "7ab13403-43d9-4db8-a100-93b46b3c283e",
   "metadata": {},
   "outputs": [],
   "source": [
    "lst = (\n",
    "    ontology_dump()\n",
    "    .get_rdd()\n",
    "    .filter(is_class)\n",
    "    .filter(lambda x: x.id.endswith('City'))\n",
    "    .take(5)\n",
    ")"
   ]
  },
  {
   "cell_type": "code",
   "execution_count": 44,
   "id": "7763a746-87c5-4baf-91bf-5b03721e5f76",
   "metadata": {},
   "outputs": [
    {
     "data": {
      "text/plain": [
       "{'id': 'http://dbpedia.org/ontology/City',\n",
       " 'props': {'http://www.w3.org/2000/01/rdf-schema#isDefinedBy': [{'type': 'URIRef',\n",
       "    'value': 'http://dbpedia.org/ontology/'}],\n",
       "  'http://www.w3.org/2000/01/rdf-schema#label': [{'type': 'Literal',\n",
       "    'value': 'cathair',\n",
       "    'datatype': None,\n",
       "    'language': 'ga'},\n",
       "   {'type': 'Literal', 'value': 'ville', 'datatype': None, 'language': 'fr'},\n",
       "   {'type': 'Literal', 'value': 'Stadt', 'datatype': None, 'language': 'de'},\n",
       "   {'type': 'Literal', 'value': 'cidade', 'datatype': None, 'language': 'gl'},\n",
       "   {'type': 'Literal', 'value': 'πόλη', 'datatype': None, 'language': 'el'},\n",
       "   {'type': 'Literal', 'value': 'cidade', 'datatype': None, 'language': 'pt'},\n",
       "   {'type': 'Literal', 'value': 'شہر', 'datatype': None, 'language': 'ur'},\n",
       "   {'type': 'Literal', 'value': 'città', 'datatype': None, 'language': 'it'},\n",
       "   {'type': 'Literal', 'value': 'शहर', 'datatype': None, 'language': 'hi'},\n",
       "   {'type': 'Literal', 'value': 'city', 'datatype': None, 'language': 'en'},\n",
       "   {'type': 'Literal', 'value': '市', 'datatype': None, 'language': 'ja'},\n",
       "   {'type': 'Literal', 'value': 'ciudad', 'datatype': None, 'language': 'es'},\n",
       "   {'type': 'Literal', 'value': '도시', 'datatype': None, 'language': 'ko'},\n",
       "   {'type': 'Literal', 'value': 'miasto', 'datatype': None, 'language': 'pl'},\n",
       "   {'type': 'Literal', 'value': 'by', 'datatype': None, 'language': 'da'},\n",
       "   {'type': 'Literal', 'value': 'stad', 'datatype': None, 'language': 'nl'}],\n",
       "  'http://www.w3.org/2000/01/rdf-schema#subClassOf': [{'type': 'URIRef',\n",
       "    'value': 'http://dbpedia.org/ontology/Settlement'}],\n",
       "  'http://www.w3.org/2002/07/owl#equivalentClass': [{'type': 'URIRef',\n",
       "    'value': 'http://schema.org/City'},\n",
       "   {'type': 'URIRef', 'value': 'http://www.wikidata.org/entity/Q515'}],\n",
       "  'http://www.w3.org/1999/02/22-rdf-syntax-ns#type': [{'type': 'URIRef',\n",
       "    'value': 'http://www.w3.org/2002/07/owl#Class'}],\n",
       "  'http://www.w3.org/2000/01/rdf-schema#comment': [{'type': 'Literal',\n",
       "    'value': 'Actualmente considérase como unha entidade urbana con alta densidade de poboación na que predominan fundamentalmente a industria e os servizos.',\n",
       "    'datatype': None,\n",
       "    'language': 'gl'},\n",
       "   {'type': 'Literal',\n",
       "    'value': 'ایک نسبتا  بڑی اور مستقل آبادی ، خاص طور پر ایک بڑی شہری بستی',\n",
       "    'datatype': None,\n",
       "    'language': 'ur'},\n",
       "   {'type': 'Literal',\n",
       "    'value': 'a relatively large and permanent settlement, particularly a large urban settlement',\n",
       "    'datatype': None,\n",
       "    'language': 'en'},\n",
       "   {'type': 'Literal',\n",
       "    'value': 'un asentamiento permanente y relativamente grande, especialmente un gran asentamiento urbano',\n",
       "    'datatype': None,\n",
       "    'language': 'es'}],\n",
       "  'http://www.w3.org/2002/07/owl#sameAs': [{'type': 'URIRef',\n",
       "    'value': 'http://dbpedia.org/ontology/City'}],\n",
       "  'http://www.w3.org/2007/05/powder-s#describedby': [{'type': 'URIRef',\n",
       "    'value': 'http://dbpedia.org/ontology/data/definitions.ttl'}],\n",
       "  'http://www.w3.org/ns/prov#wasDerivedFrom': [{'type': 'URIRef',\n",
       "    'value': 'http://mappings.dbpedia.org/index.php/OntologyClass:City'}]}}"
      ]
     },
     "execution_count": 44,
     "metadata": {},
     "output_type": "execute_result"
    }
   ],
   "source": [
    "orjson.loads(lst[0].ser())"
   ]
  },
  {
   "cell_type": "code",
   "execution_count": 53,
   "id": "c545a6b1-a578-4c74-a9f5-eaa1b0076e15",
   "metadata": {},
   "outputs": [
    {
     "data": {
      "text/plain": [
       "OntologyClass(id='http://dbpedia.org/ontology/City', label='city', description='a relatively large and permanent settlement, particularly a large urban settlement', aliases=[], parents=['http://dbpedia.org/ontology/Settlement'], properties=[], different_froms=[], equivalent_classes=['http://schema.org/City', 'http://www.wikidata.org/entity/Q515'], ancestors=set())"
      ]
     },
     "execution_count": 53,
     "metadata": {},
     "output_type": "execute_result"
    }
   ],
   "source": [
    "to_class(lst[0])"
   ]
  },
  {
   "cell_type": "code",
   "execution_count": 17,
   "id": "cfa3b3a7-0aac-4deb-b825-dc861cb685b1",
   "metadata": {},
   "outputs": [
    {
     "data": {
      "text/plain": [
       "RDFResource(id='http://dbpedia.org/ontology/BaseballSeason', props={'http://www.w3.org/2000/01/rdf-schema#label': [<kgdata.misc.ntriples_parser.RDFTerm object at 0x7f8562c03be0>, <kgdata.misc.ntriples_parser.RDFTerm object at 0x7f8562c02e90>, <kgdata.misc.ntriples_parser.RDFTerm object at 0x7f8562c02320>, <kgdata.misc.ntriples_parser.RDFTerm object at 0x7f8562c034c0>, <kgdata.misc.ntriples_parser.RDFTerm object at 0x7f8562c02d10>, <kgdata.misc.ntriples_parser.RDFTerm object at 0x7f8562c032b0>, <kgdata.misc.ntriples_parser.RDFTerm object at 0x7f8562c03430>], 'http://www.w3.org/2002/07/owl#sameAs': [<kgdata.misc.ntriples_parser.RDFTerm object at 0x7f8562c01d20>], 'http://www.w3.org/2007/05/powder-s#describedby': [<kgdata.misc.ntriples_parser.RDFTerm object at 0x7f8562c02860>], 'http://www.w3.org/ns/prov#wasDerivedFrom': [<kgdata.misc.ntriples_parser.RDFTerm object at 0x7f8562c01c60>], 'http://www.w3.org/1999/02/22-rdf-syntax-ns#type': [<kgdata.misc.ntriples_parser.RDFTerm object at 0x7f8562c038b0>], 'http://www.w3.org/2000/01/rdf-schema#isDefinedBy': [<kgdata.misc.ntriples_parser.RDFTerm object at 0x7f8562c02470>], 'http://www.w3.org/2000/01/rdf-schema#subClassOf': [<kgdata.misc.ntriples_parser.RDFTerm object at 0x7f8562c03460>]})"
      ]
     },
     "execution_count": 17,
     "metadata": {},
     "output_type": "execute_result"
    }
   ],
   "source": [
    "lst[0]"
   ]
  },
  {
   "cell_type": "code",
   "execution_count": 9,
   "id": "4676f3f6-a594-433c-bb1e-58b3d880493c",
   "metadata": {},
   "outputs": [],
   "source": [
    "r = ontology_dump().get_rdd().take(1)[0]"
   ]
  },
  {
   "cell_type": "code",
   "execution_count": 15,
   "id": "230d162d-8b3c-4542-a8cd-270bd6467908",
   "metadata": {},
   "outputs": [
    {
     "data": {
      "text/plain": [
       "['http://www.w3.org/2000/01/rdf-schema#Datatype']"
      ]
     },
     "execution_count": 15,
     "metadata": {},
     "output_type": "execute_result"
    }
   ],
   "source": [
    "r.props.get(rdf_type, [])"
   ]
  },
  {
   "cell_type": "code",
   "execution_count": 13,
   "id": "895dbbe8-c67b-4035-81d4-f254705a7e63",
   "metadata": {},
   "outputs": [
    {
     "data": {
      "text/plain": [
       "False"
      ]
     },
     "execution_count": 13,
     "metadata": {},
     "output_type": "execute_result"
    }
   ],
   "source": [
    "is_class(r)"
   ]
  }
 ],
 "metadata": {
  "kernelspec": {
   "display_name": "gramsplus",
   "language": "python",
   "name": "gramsplus"
  },
  "language_info": {
   "codemirror_mode": {
    "name": "ipython",
    "version": 3
   },
   "file_extension": ".py",
   "mimetype": "text/x-python",
   "name": "python",
   "nbconvert_exporter": "python",
   "pygments_lexer": "ipython3",
   "version": "3.11.3"
  }
 },
 "nbformat": 4,
 "nbformat_minor": 5
}
