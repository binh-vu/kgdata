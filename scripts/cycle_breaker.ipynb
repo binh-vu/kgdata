{
 "cells": [
  {
   "cell_type": "code",
   "execution_count": 1,
   "metadata": {},
   "outputs": [],
   "source": [
    "from pathlib import Path\n",
    "import os, sys\n",
    "\n",
    "import kgdata\n",
    "\n",
    "sys.path.append(str(Path(kgdata.__file__).parent.parent / \"scripts\"))"
   ]
  },
  {
   "cell_type": "code",
   "execution_count": 2,
   "metadata": {},
   "outputs": [
    {
     "name": "stderr",
     "output_type": "stream",
     "text": [
      "\u001b[32m2024-08-16 22:26:06.735\u001b[0m | \u001b[1mINFO    \u001b[0m | \u001b[36mkgdata.wikidata.config\u001b[0m:\u001b[36minit\u001b[0m:\u001b[36m135\u001b[0m - \u001b[1mWikidata directory: /workspace/sm-research/data/kgdata/wikidata/20240320\u001b[0m\n"
     ]
    }
   ],
   "source": [
    "from cycle_breaker import setup_env\n",
    "\n",
    "setup_env()"
   ]
  },
  {
   "cell_type": "code",
   "execution_count": 3,
   "metadata": {},
   "outputs": [],
   "source": [
    "from kgdata.wikidata.config import WikidataDirCfg\n",
    "from kgdata.wikidata.datasets.classes import classes\n",
    "\n",
    "cfg = WikidataDirCfg.get_instance()"
   ]
  },
  {
   "cell_type": "code",
   "execution_count": 4,
   "metadata": {},
   "outputs": [],
   "source": [
    "from functools import partial\n",
    "from kgdata.dataset import Dataset\n",
    "from kgdata.db import deser_from_dict\n",
    "from kgdata.wikidata.models.wdclass import WDClass\n",
    "\n",
    "\n",
    "cls_datasets = Dataset(\n",
    "    cfg.classes / f\"full-en/*.gz\",\n",
    "    deserialize=partial(deser_from_dict, WDClass),\n",
    "    name=f\"classes/full/en\",\n",
    "    dependencies=[],\n",
    ")"
   ]
  },
  {
   "cell_type": "code",
   "execution_count": 6,
   "metadata": {},
   "outputs": [
    {
     "data": {
      "application/vnd.jupyter.widget-view+json": {
       "model_id": "e29b764107474ce6b26a47345343d98a",
       "version_major": 2,
       "version_minor": 0
      },
      "text/plain": [
       "read dataset:   0%|          | 0/65 [00:00<?, ?it/s]"
      ]
     },
     "metadata": {},
     "output_type": "display_data"
    }
   ],
   "source": [
    "all_clses = cls_datasets.get_list()"
   ]
  },
  {
   "cell_type": "code",
   "execution_count": 7,
   "metadata": {},
   "outputs": [],
   "source": [
    "records = all_clses"
   ]
  },
  {
   "cell_type": "code",
   "execution_count": 8,
   "metadata": {},
   "outputs": [],
   "source": [
    "import rustworkx\n",
    "\n",
    "from graph.retworkx import BaseEdge, BaseNode, RetworkXStrDiGraph\n",
    "from graph.retworkx import api as retworkx_api\n",
    "\n",
    "g = RetworkXStrDiGraph(check_cycle=False, multigraph=False)\n",
    "for c in records:\n",
    "    g.add_node(BaseNode(c.id))\n",
    "\n",
    "for c in records:\n",
    "    for cpid in c.parents:\n",
    "        g.add_edge(BaseEdge(-1, c.id, cpid, 1))"
   ]
  },
  {
   "cell_type": "code",
   "execution_count": 15,
   "metadata": {},
   "outputs": [],
   "source": [
    "from tqdm import tqdm"
   ]
  },
  {
   "cell_type": "code",
   "execution_count": 28,
   "metadata": {},
   "outputs": [],
   "source": [
    "def all_cycles(g):\n",
    "    out = []\n",
    "    for nodeindices in rustworkx.simple_cycles(g._graph):\n",
    "        cycle = []\n",
    "        for uid in nodeindices:\n",
    "            cycle.append(g._graph.get_node_data(uid).id)\n",
    "        out.append(cycle)\n",
    "    return out"
   ]
  },
  {
   "cell_type": "code",
   "execution_count": 29,
   "metadata": {},
   "outputs": [],
   "source": [
    "cycles = all_cycles(g)"
   ]
  },
  {
   "cell_type": "code",
   "execution_count": 43,
   "metadata": {},
   "outputs": [
    {
     "data": {
      "text/plain": [
       "38"
      ]
     },
     "execution_count": 43,
     "metadata": {},
     "output_type": "execute_result"
    }
   ],
   "source": [
    "len(cycles)"
   ]
  },
  {
   "cell_type": "code",
   "execution_count": 35,
   "metadata": {},
   "outputs": [
    {
     "data": {
      "text/plain": [
       "Counter({2: 31, 3: 6, 4: 1})"
      ]
     },
     "execution_count": 35,
     "metadata": {},
     "output_type": "execute_result"
    }
   ],
   "source": [
    "from collections import Counter\n",
    "\n",
    "Counter(len(x) for x in cycles)"
   ]
  },
  {
   "cell_type": "code",
   "execution_count": 40,
   "metadata": {},
   "outputs": [],
   "source": [
    "del_edges = []\n",
    "for cycle in cycles:\n",
    "    id2c = {uid: clsdb[uid] for uid in cycle}\n",
    "    for cid, c in id2c.items():\n",
    "        # detect what should remove\n",
    "        old_parents = set([e.target for e in g.out_edges(c.id)])\n",
    "        del_edges.extend([(cid, cpid) for cpid in old_parents.difference(c.parents)])"
   ]
  },
  {
   "cell_type": "code",
   "execution_count": 41,
   "metadata": {},
   "outputs": [
    {
     "data": {
      "text/plain": [
       "[('Q1144915', 'Q10925'),\n",
       " ('Q181296', 'Q83478'),\n",
       " ('Q154954', 'Q5'),\n",
       " ('Q114836842', 'Q2566598'),\n",
       " ('Q1143413', 'Q1083980'),\n",
       " ('Q154', 'Q266143'),\n",
       " ('Q6559431', 'Q111907435'),\n",
       " ('Q2295790', 'Q107596121'),\n",
       " ('Q11028', 'Q9081'),\n",
       " ('Q6500773', 'Q55645123'),\n",
       " ('Q1354775', 'Q5003624'),\n",
       " ('Q811430', 'Q811979')]"
      ]
     },
     "execution_count": 41,
     "metadata": {},
     "output_type": "execute_result"
    }
   ],
   "source": [
    "del_edges"
   ]
  },
  {
   "cell_type": "code",
   "execution_count": 42,
   "metadata": {},
   "outputs": [],
   "source": [
    "for edge in del_edges:\n",
    "    g.remove_edges_between_nodes(edge[0], edge[1])"
   ]
  },
  {
   "cell_type": "code",
   "execution_count": 44,
   "metadata": {},
   "outputs": [],
   "source": [
    "new_cycles = all_cycles(g)"
   ]
  },
  {
   "cell_type": "code",
   "execution_count": 47,
   "metadata": {},
   "outputs": [
    {
     "data": {
      "text/plain": [
       "[['Q57979447', 'Q57979691'],\n",
       " ['Q5767753', 'Q1326966'],\n",
       " ['Q18848', 'Q181296'],\n",
       " ['Q11946197', 'Q699', 'Q3306693'],\n",
       " ['Q63177917', 'Q63177820'],\n",
       " ['Q26513', 'Q63177820'],\n",
       " ['Q1532173', 'Q230047'],\n",
       " ['Q1501855', 'Q122961326'],\n",
       " ['Q2366588', 'Q4669603'],\n",
       " ['Q4669603', 'Q16856760'],\n",
       " ['Q2257937', 'Q381045'],\n",
       " ['Q24770198', 'Q24778143', 'Q13417346'],\n",
       " ['Q3009426', 'Q82671060'],\n",
       " ['Q3008312', 'Q82671060'],\n",
       " ['Q18554140', 'Q6152917'],\n",
       " ['Q7695332', 'Q116702093', 'Q36528'],\n",
       " ['Q118581330', 'Q118955299'],\n",
       " ['Q2514663', 'Q11572062'],\n",
       " ['Q112122809', 'Q29584854'],\n",
       " ['Q16675435', 'Q18033462'],\n",
       " ['Q6500773', 'Q55379489'],\n",
       " ['Q1075470', 'Q56003275', 'Q775593'],\n",
       " ['Q12140', 'Q28885102', 'Q12034612'],\n",
       " ['Q1476157', 'Q124363171'],\n",
       " ['Q1124833', 'Q21163245'],\n",
       " ['Q4880696', 'Q2883473'],\n",
       " ['Q212903', 'Q1394771'],\n",
       " ['Q828800', 'Q530012']]"
      ]
     },
     "execution_count": 47,
     "metadata": {},
     "output_type": "execute_result"
    }
   ],
   "source": [
    "new_cycles"
   ]
  },
  {
   "cell_type": "code",
   "execution_count": 16,
   "metadata": {},
   "outputs": [
    {
     "name": "stderr",
     "output_type": "stream",
     "text": [
      "38it [00:00, 52.91it/s]\n"
     ]
    }
   ],
   "source": [
    "cycles = list(tqdm(rustworkx.simple_cycles(g._graph)))"
   ]
  },
  {
   "cell_type": "code",
   "execution_count": null,
   "metadata": {},
   "outputs": [],
   "source": []
  },
  {
   "cell_type": "code",
   "execution_count": 17,
   "metadata": {},
   "outputs": [
    {
     "data": {
      "text/plain": [
       "38"
      ]
     },
     "execution_count": 17,
     "metadata": {},
     "output_type": "execute_result"
    }
   ],
   "source": [
    "len(cycles)"
   ]
  },
  {
   "cell_type": "code",
   "execution_count": 27,
   "metadata": {},
   "outputs": [
    {
     "data": {
      "text/plain": [
       "('Q57979447', 'Q57979691')"
      ]
     },
     "execution_count": 27,
     "metadata": {},
     "output_type": "execute_result"
    }
   ],
   "source": [
    "g._graph.get_node_data(1657353).id, g._graph.get_node_data(632841).id"
   ]
  },
  {
   "cell_type": "code",
   "execution_count": 20,
   "metadata": {},
   "outputs": [
    {
     "data": {
      "text/plain": [
       "[1657353, 632841]"
      ]
     },
     "execution_count": 20,
     "metadata": {},
     "output_type": "execute_result"
    }
   ],
   "source": [
    "list(cycles[0])"
   ]
  },
  {
   "cell_type": "code",
   "execution_count": 37,
   "metadata": {},
   "outputs": [],
   "source": [
    "from kgdata.wikidata.db import query_wikidata_entities, get_class_db"
   ]
  },
  {
   "cell_type": "code",
   "execution_count": 38,
   "metadata": {},
   "outputs": [],
   "source": [
    "clsdb = get_class_db(cfg.modification / \"classes.db\", read_only=False, proxy=True)"
   ]
  },
  {
   "cell_type": "code",
   "execution_count": 39,
   "metadata": {},
   "outputs": [
    {
     "data": {
      "text/plain": [
       "['Q618123']"
      ]
     },
     "execution_count": 39,
     "metadata": {},
     "output_type": "execute_result"
    }
   ],
   "source": [
    "clsdb[\"Q811430\"].parents"
   ]
  },
  {
   "cell_type": "code",
   "execution_count": null,
   "metadata": {},
   "outputs": [],
   "source": [
    "new_ents = query_wikidata_entities()"
   ]
  }
 ],
 "metadata": {
  "kernelspec": {
   "display_name": ".venv",
   "language": "python",
   "name": "python3"
  },
  "language_info": {
   "codemirror_mode": {
    "name": "ipython",
    "version": 3
   },
   "file_extension": ".py",
   "mimetype": "text/x-python",
   "name": "python",
   "nbconvert_exporter": "python",
   "pygments_lexer": "ipython3",
   "version": "3.11.6"
  }
 },
 "nbformat": 4,
 "nbformat_minor": 2
}
