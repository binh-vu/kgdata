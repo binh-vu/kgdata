{
 "cells": [
  {
   "cell_type": "code",
   "execution_count": 66,
   "metadata": {},
   "outputs": [],
   "source": [
    "from pathlib import Path\n",
    "from sm.prelude import M\n",
    "import orjson, ormsgpack, timeit, os, gzip, msgpack, random, seaborn as sns, pandas as pd\n",
    "from tqdm import tqdm"
   ]
  },
  {
   "cell_type": "code",
   "execution_count": 3,
   "metadata": {},
   "outputs": [],
   "source": [
    "indir = Path(\"./data/wikidata/20211213/entity_dumps/\").absolute()\n",
    "testfile = str(list(indir.glob(\"*.ndjson.gz\"))[0])"
   ]
  },
  {
   "cell_type": "code",
   "execution_count": 6,
   "metadata": {},
   "outputs": [],
   "source": [
    "content = M.deserialize_jl(testfile)"
   ]
  },
  {
   "cell_type": "code",
   "execution_count": 19,
   "metadata": {},
   "outputs": [
    {
     "name": "stdout",
     "output_type": "stream",
     "text": [
      "orjson dumps: 5.394 seconds\n",
      "dump size 774.0MiB\n",
      "orjson gzip compress: 34.181 seconds\n",
      "compress dump size 112.3MiB\n",
      "orjson gzip decompress: 3.917 seconds\n",
      "orjson loads: 73.469 seconds\n"
     ]
    }
   ],
   "source": [
    "with M.Timer().watch_and_report(\"orjson dumps\"):\n",
    "    orj = orjson.dumps(content)\n",
    "print(\"dump size\", M.datasize(len(orj)))\n",
    "\n",
    "with M.Timer().watch_and_report(\"orjson gzip compress\"):\n",
    "    compressed_orj = gzip.compress(orj)\n",
    "print(\"compress dump size\", M.datasize(len(compressed_orj)))\n",
    "\n",
    "with M.Timer().watch_and_report(\"orjson gzip decompress\"):\n",
    "    decompressed_orj = gzip.decompress(compressed_orj)\n",
    "\n",
    "with M.Timer().watch_and_report(\"orjson loads\"):\n",
    "    origin_content = orjson.loads(orj)"
   ]
  },
  {
   "cell_type": "code",
   "execution_count": 21,
   "metadata": {},
   "outputs": [
    {
     "name": "stdout",
     "output_type": "stream",
     "text": [
      "ormsgpack dumps: 6.017 seconds\n",
      "dump size 629.7MiB\n",
      "ormsgpack gzip compress: 23.454 seconds\n",
      "compress dump size 114.5MiB\n",
      "ormsgpack gzip decompress: 3.577 seconds\n",
      "ormsgpack loads: 46.053 seconds\n"
     ]
    }
   ],
   "source": [
    "with M.Timer().watch_and_report(\"ormsgpack dumps\"):\n",
    "    ormp = ormsgpack.packb(content)\n",
    "print(\"dump size\", M.datasize(len(ormp)))\n",
    "\n",
    "with M.Timer().watch_and_report(\"ormsgpack gzip compress\"):\n",
    "    compressed_ormp = gzip.compress(ormp)\n",
    "print(\"compress dump size\", M.datasize(len(compressed_ormp)))\n",
    "\n",
    "with M.Timer().watch_and_report(\"ormsgpack gzip decompress\"):\n",
    "    decompressed_ormp = gzip.decompress(compressed_ormp)\n",
    "\n",
    "with M.Timer().watch_and_report(\"ormsgpack loads\"):\n",
    "    origin_content = ormsgpack.unpackb(ormp)"
   ]
  },
  {
   "cell_type": "code",
   "execution_count": 22,
   "metadata": {},
   "outputs": [
    {
     "name": "stdout",
     "output_type": "stream",
     "text": [
      "msgpack dumps: 9.157 seconds\n",
      "dump size 629.7MiB\n",
      "msgpack gzip compress: 22.028 seconds\n",
      "compress dump size 114.5MiB\n",
      "msgpack gzip decompress: 3.397 seconds\n",
      "msgpack loads: 73.103 seconds\n"
     ]
    }
   ],
   "source": [
    "with M.Timer().watch_and_report(\"msgpack dumps\"):\n",
    "    mp = msgpack.packb(content)\n",
    "print(\"dump size\", M.datasize(len(mp)))\n",
    "\n",
    "with M.Timer().watch_and_report(\"msgpack gzip compress\"):\n",
    "    compressed_mp = gzip.compress(mp)\n",
    "print(\"compress dump size\", M.datasize(len(compressed_mp)))\n",
    "\n",
    "with M.Timer().watch_and_report(\"msgpack gzip decompress\"):\n",
    "    decompressed_mp = gzip.decompress(compressed_mp)\n",
    "\n",
    "with M.Timer().watch_and_report(\"msgpack loads\"):\n",
    "    origin_content = msgpack.unpackb(mp)"
   ]
  },
  {
   "cell_type": "markdown",
   "metadata": {},
   "source": [
    "proper test"
   ]
  },
  {
   "cell_type": "code",
   "execution_count": 33,
   "metadata": {},
   "outputs": [
    {
     "data": {
      "text/plain": [
       "'11.8MiB'"
      ]
     },
     "execution_count": 33,
     "metadata": {},
     "output_type": "execute_result"
    }
   ],
   "source": [
    "M.serialize_jl(random.sample(content, 1000), \"/tmp/serde_benchmark.ndjson\")\n",
    "M.datasize(len(M.deserialize_bytes(\"/tmp/serde_benchmark.ndjson\")))"
   ]
  },
  {
   "cell_type": "code",
   "execution_count": 59,
   "metadata": {},
   "outputs": [],
   "source": [
    "def get_setup(dumps, loads):\n",
    "    return f\"\"\"\n",
    "from sm.misc import deserialize_jl, deserialize_text\n",
    "from gzip import compress, decompress\n",
    "{dumps} as dumps\n",
    "{loads} as loads\n",
    "\n",
    "data = deserialize_jl(\"/tmp/serde_benchmark.ndjson\")\n",
    "serdata = dumps(data)\n",
    "compressed_serdata = compress(serdata if isinstance(serdata, bytes) else serdata.encode())\n",
    "serdata_row = [dumps(row) for row in data]\n",
    "compressed_serdata_row = [compress(row if isinstance(row, bytes) else row.encode()) for row in serdata_row]\n",
    "    \"\"\"\n",
    "\n",
    "\n",
    "test_dump = \"dumps(data)\"\n",
    "test_load = \"loads(serdata)\"\n",
    "test_dump_compress = \"compress(dumps(data))\"\n",
    "test_load_decompress = \"loads(decompress(compressed_serdata))\"\n",
    "test_dump_example = \"[dumps(row) for row in data]\"\n",
    "test_load_example = \"[loads(row) for row in serdata_row]\"\n",
    "test_dump_example_compress = \"[compress(dumps(row)) for row in data]\"\n",
    "test_load_example_decompress = \"[loads(decompress(row)) for row in compressed_serdata_row]\"\n",
    "\n",
    "config = {\n",
    "    \"orjson\": [\n",
    "        \"from orjson import dumps\",\n",
    "        \"from orjson import loads\"\n",
    "    ],\n",
    "    \"ormsgpack\": [\n",
    "        \"from ormsgpack import packb\",\n",
    "        \"from ormsgpack import unpackb\"\n",
    "    ],\n",
    "    \"msgpack\": [\n",
    "        \"from msgpack import packb\",\n",
    "        \"from msgpack import unpackb\"\n",
    "    ]\n",
    "}"
   ]
  },
  {
   "cell_type": "code",
   "execution_count": 62,
   "metadata": {},
   "outputs": [
    {
     "name": "stderr",
     "output_type": "stream",
     "text": [
      "100%|██████████| 20/20 [14:18<00:00, 42.93s/it]\n"
     ]
    }
   ],
   "source": [
    "runtime = []\n",
    "verbose = False\n",
    "n = 5\n",
    "\n",
    "for i in tqdm(range(20)):\n",
    "    for method, (dumps, loads) in config.items():\n",
    "        row = {\"method\": method}\n",
    "        time = timeit.timeit(test_dump, setup=get_setup(dumps, loads), number=n)\n",
    "        if verbose: print(f'method: {method} -- dumps:', time)\n",
    "        runtime.append({\"method\": method, \"time\": time, \"test\": 'dumps'})\n",
    "        time = timeit.timeit(test_load, setup=get_setup(dumps, loads), number=n)\n",
    "        if verbose: print(f'method: {method} -- loads:', time)\n",
    "        runtime.append({\"method\": method, \"time\": time, \"test\": 'loads'})\n",
    "        time = timeit.timeit(test_dump_compress, setup=get_setup(dumps, loads), number=n)\n",
    "        if verbose: print(f'method: {method} -- compressed dumps:', time)\n",
    "        runtime.append({\"method\": method, \"time\": time, \"test\": 'compressed dumps'})\n",
    "        time = timeit.timeit(test_load_decompress, setup=get_setup(dumps, loads), number=n)\n",
    "        if verbose: print(f'method: {method} -- compressed loads:', time)\n",
    "        runtime.append({\"method\": method, \"time\": time, \"test\": 'compressed loads'})\n",
    "        time = timeit.timeit(test_dump_example, setup=get_setup(dumps, loads), number=n)\n",
    "        if verbose: print(f'method: {method} -- example dumps:', time)\n",
    "        runtime.append({\"method\": method, \"time\": time, \"test\": 'example dumps'})\n",
    "        time = timeit.timeit(test_load_example, setup=get_setup(dumps, loads), number=n)\n",
    "        if verbose: print(f'method: {method} -- example loads:', time)\n",
    "        runtime.append({\"method\": method, \"time\": time, \"test\": 'example loads'})\n",
    "        time = timeit.timeit(test_dump_example_compress, setup=get_setup(dumps, loads), number=n)\n",
    "        if verbose: print(f'method: {method} -- compressed example dumps:', time)\n",
    "        runtime.append({\"method\": method, \"time\": time, \"test\": 'compressed example dumps'})\n",
    "        time = timeit.timeit(test_load_example_decompress, setup=get_setup(dumps, loads), number=n)\n",
    "        if verbose: print(f'method: {method} -- compressed example loads:', time)\n",
    "        runtime.append({\"method\": method, \"time\": time, \"test\": 'compressed example loads'})"
   ]
  },
  {
   "cell_type": "code",
   "execution_count": 71,
   "metadata": {},
   "outputs": [
    {
     "data": {
      "text/plain": [
       "<AxesSubplot:xlabel='test', ylabel='time'>"
      ]
     },
     "execution_count": 71,
     "metadata": {},
     "output_type": "execute_result"
    },
    {
     "data": {
      "image/png": "[encoded data removed]",
      "text/plain": [
       "<Figure size 1728x576 with 1 Axes>"
      ]
     },
     "metadata": {},
     "output_type": "display_data"
    }
   ],
   "source": [
    "sns.set(rc={'figure.figsize':(24,8)})\n",
    "sns.barplot(x='test', y='time', hue='method', data=pd.DataFrame(runtime))"
   ]
  },
  {
   "cell_type": "code",
   "execution_count": 76,
   "metadata": {},
   "outputs": [
    {
     "name": "stdout",
     "output_type": "stream",
     "text": [
      "method: orjson test: dumps time: 0.31075817346572876\n",
      "method: orjson test: loads time: 0.7803415730595589\n",
      "method: orjson test: compressed dumps time: 3.059521660208702\n",
      "method: orjson test: compressed loads time: 1.1748670861124992\n",
      "method: orjson test: example dumps time: 0.3518572151660919\n",
      "method: orjson test: example loads time: 1.0279078111052513\n",
      "method: orjson test: compressed example dumps time: 2.001990132033825\n",
      "method: orjson test: compressed example loads time: 1.1755687966942787\n",
      "method: ormsgpack test: dumps time: 0.29764970391988754\n",
      "method: ormsgpack test: loads time: 0.9337270110845566\n",
      "method: ormsgpack test: compressed dumps time: 1.7572860047221184\n",
      "method: ormsgpack test: compressed loads time: 1.0985396727919579\n",
      "method: ormsgpack test: example dumps time: 0.2406771406531334\n",
      "method: ormsgpack test: example loads time: 0.8291367143392563\n",
      "method: ormsgpack test: compressed example dumps time: 1.4327634945511818\n",
      "method: ormsgpack test: compressed example loads time: 1.1813549846410751\n",
      "method: msgpack test: dumps time: 0.4802671894431114\n",
      "method: msgpack test: loads time: 0.9154953435063362\n",
      "method: msgpack test: compressed dumps time: 1.9174018427729607\n",
      "method: msgpack test: compressed loads time: 1.1218333318829536\n"
     ]
    }
   ],
   "source": [
    "for row in runtime[:20]:\n",
    "    print(\"method:\", row['method'], 'test:', row['test'], 'time:', row['time'])"
   ]
  },
  {
   "cell_type": "code",
   "execution_count": 58,
   "metadata": {},
   "outputs": [
    {
     "name": "stdout",
     "output_type": "stream",
     "text": [
      "orjson size 11.8MiB\n",
      "ormsgpack size 9.6MiB\n",
      "orjson compressed size 2.3MiB\n",
      "ormsgpack compressed size 2.4MiB\n"
     ]
    }
   ],
   "source": [
    "data = M.deserialize_jl(\"/tmp/serde_benchmark.ndjson\")\n",
    "\n",
    "print(\"orjson size\", M.datasize(sum([len(orjson.dumps(row)) for row in data])))\n",
    "print(\"ormsgpack size\", M.datasize(sum([len(ormsgpack.packb(row)) for row in data])))\n",
    "print(\"orjson compressed size\", M.datasize(sum([len(gzip.compress(orjson.dumps(row))) for row in data])))\n",
    "print(\"ormsgpack compressed size\", M.datasize(sum([len(gzip.compress(ormsgpack.packb(row))) for row in data])))"
   ]
  }
 ],
 "metadata": {
  "interpreter": {
   "hash": "d3d3870dd0b8e4139eb024cc8a4406e6c3048a175fffc80b6b131d88e81e7a60"
  },
  "kernelspec": {
   "display_name": "Python 3.9.7 ('sm-dev-CuAZQUIy-py3.9')",
   "language": "python",
   "name": "python3"
  },
  "language_info": {
   "codemirror_mode": {
    "name": "ipython",
    "version": 3
   },
   "file_extension": ".py",
   "mimetype": "text/x-python",
   "name": "python",
   "nbconvert_exporter": "python",
   "pygments_lexer": "ipython3",
   "version": "3.9.7"
  },
  "orig_nbformat": 4
 },
 "nbformat": 4,
 "nbformat_minor": 2
}
